{
 "cells": [
  {
   "cell_type": "code",
   "execution_count": 3,
   "metadata": {},
   "outputs": [],
   "source": [
    "import requests\n",
    "# from pyden.connect.gsearch_api.google import google\n",
    "# from pyden.newspaper.newspaper import Article\n",
    "from newspaper import Article\n",
    "# from pyden.google_api.search import gsearch\n",
    "\n",
    "import time\n",
    "import unidecode\n"
   ]
  },
  {
   "cell_type": "code",
   "execution_count": 4,
   "metadata": {},
   "outputs": [],
   "source": [
    "toscrape = [\"https://amwalalghad.com\", \"https://www.mubasher.info/markets/ADX/stocks/NBAD/news\", \"https://amwalalghad.com\", \"https://www.alarabiya.net/ar/tools\"]\n"
   ]
  },
  {
   "cell_type": "code",
   "execution_count": 5,
   "metadata": {},
   "outputs": [],
   "source": [
    "# define using se scraper and parsing with newspaper 3k\n",
    "class Object(object):\n",
    "    pass\n",
    "def gsearch(term, pages = 1):\n",
    "    term = term.replace(\"\\\"\",\"\").replace(\"\\'\",\"\").replace(\"-\", \"\")\n",
    "    term += \" -filetype:pdf\"  #TODO: be able to read pdfs\n",
    "    data = '{ \"browser_config\": { \"random_user_agent\": true },\"scrape_config\": { \"search_engine\": \"google\",\"keywords\": [\"'+term+'\"],\"num_pages\": '+str(pages)+'}}'\n",
    "    header = {'Content-Type': 'application/json'}\n",
    "    results = requests.post(\"http://0.0.0.0:3000\", data = data, headers = header).json()\n",
    "    output = []\n",
    "\n",
    "    for num in range(int(pages)):\n",
    "        if str(num+1) in results['results'][term]:\n",
    "            output.extend([i for i in results['results'][term][str(num+1)]['results']])\n",
    "    return output\n",
    "\n",
    "def search(query, link = \"\"):\n",
    "    unaccented_string = unidecode.unidecode(query)\n",
    "    query_outs = gsearch(unaccented_string)\n",
    "    titles = []\n",
    "    labels = []\n",
    "    para = []\n",
    "    rm = []\n",
    "    outputs = [Object() for _ in query_outs]\n",
    "\n",
    "    for i, qo in enumerate(query_outs):\n",
    "        query = outputs[i]; query.link = qo['link']\n",
    "        # if not query.link or query.link.replace('/', u'\\u2215') == link[0]:  # the links have '/' replaced\n",
    "        #     rm.append(i)\n",
    "        #     continue\n",
    "        art = Article(query.link)  # if you are an article, parse and\n",
    "        try:\n",
    "            start = time.time()\n",
    "            art.download()\n",
    "            if not art.html:\n",
    "                rm.append(i)\n",
    "                continue\n",
    "            print(query.link)\n",
    "            print(\"took \" + str(time.time() - start))\n",
    "            art.parse()  # some articles cannot be parsed\n",
    "            para.append(art.text.split(\"\\n\\n\"))  # this makes paras a list of lists\n",
    "            toadd = query.link.replace('/', u'\\u2215')\n",
    "            if len(query.link) > 255:\n",
    "                toadd = toadd[:255]\n",
    "            labels.append(toadd)  # titles are the labels that things are saved by\n",
    "            query.title = art.title\n",
    "            if art.title == \"\":\n",
    "                query.title = qo[i]['title']  # this is just going to be what the title was on google\n",
    "            query.sources = art.source_url\n",
    "            query.authors = art.authors\n",
    "            if art.publish_date:\n",
    "                query.date = art.publish_date.strftime('%m/%d/%Y')\n",
    "        except Exception as e:\n",
    "            print(e)  # if u cant load it uhhhh just dont do anything\n",
    "    for index in sorted(rm, reverse=True):\n",
    "        del outputs[index]\n",
    "    return outputs, labels, para, titles\n",
    "\n"
   ]
  },
  {
   "cell_type": "code",
   "execution_count": 9,
   "metadata": {
    "scrolled": true
   },
   "outputs": [
    {
     "name": "stdout",
     "output_type": "stream",
     "text": [
      "text/html; charset=UTF-8\n"
     ]
    },
    {
     "data": {
      "text/html": [
       "<pre style=\"white-space:pre;overflow-x:auto;line-height:normal;font-family:Menlo,'DejaVu Sans Mono',consolas,'Courier New',monospace\"><span style=\"color: #0000ff; text-decoration: underline\">https://en.amwalalghad.com/egypt-taps-nbd-fab-to-arrange-1-bn-loan/</span>\n",
       "</pre>\n"
      ],
      "text/plain": [
       "<rich.jupyter.JupyterRenderable at 0x7f17ff440eb8>"
      ]
     },
     "metadata": {},
     "output_type": "display_data"
    },
    {
     "data": {
      "text/html": [
       "<pre style=\"white-space:pre;overflow-x:auto;line-height:normal;font-family:Menlo,'DejaVu Sans Mono',consolas,'Courier New',monospace\">took <span style=\"color: #000080; font-weight: bold\">1.9111130237579346</span>\n",
       "</pre>\n"
      ],
      "text/plain": [
       "<rich.jupyter.JupyterRenderable at 0x7f18050caba8>"
      ]
     },
     "metadata": {},
     "output_type": "display_data"
    },
    {
     "name": "stdout",
     "output_type": "stream",
     "text": [
      "text/html; charset=UTF-8\n",
      "text/html; charset=UTF-8\n"
     ]
    },
    {
     "data": {
      "text/html": [
       "<pre style=\"white-space:pre;overflow-x:auto;line-height:normal;font-family:Menlo,'DejaVu Sans Mono',consolas,'Courier New',monospace\"><span style=\"color: #0000ff; text-decoration: underline\">https://en.amwalalghad.com/saudi-drops-on-weak-gains-fab-leads-abu-dhabi-higher/</span>\n",
       "</pre>\n"
      ],
      "text/plain": [
       "<rich.jupyter.JupyterRenderable at 0x7f17ff412d68>"
      ]
     },
     "metadata": {},
     "output_type": "display_data"
    },
    {
     "data": {
      "text/html": [
       "<pre style=\"white-space:pre;overflow-x:auto;line-height:normal;font-family:Menlo,'DejaVu Sans Mono',consolas,'Courier New',monospace\">took <span style=\"color: #000080; font-weight: bold\">1.8913333415985107</span>\n",
       "</pre>\n"
      ],
      "text/plain": [
       "<rich.jupyter.JupyterRenderable at 0x7f17ff423d30>"
      ]
     },
     "metadata": {},
     "output_type": "display_data"
    },
    {
     "name": "stdout",
     "output_type": "stream",
     "text": [
      "text/html; charset=UTF-8\n"
     ]
    },
    {
     "data": {
      "text/html": [
       "<pre style=\"white-space:pre;overflow-x:auto;line-height:normal;font-family:Menlo,'DejaVu Sans Mono',consolas,'Courier New',monospace\"><span style=\"color: #0000ff; text-decoration: underline\">https://en.amwalalghad.com/abu-dhabis-markets-rise-lifted-by-fab/</span>\n",
       "</pre>\n"
      ],
      "text/plain": [
       "<rich.jupyter.JupyterRenderable at 0x7f17ff423cf8>"
      ]
     },
     "metadata": {},
     "output_type": "display_data"
    },
    {
     "data": {
      "text/html": [
       "<pre style=\"white-space:pre;overflow-x:auto;line-height:normal;font-family:Menlo,'DejaVu Sans Mono',consolas,'Courier New',monospace\">took <span style=\"color: #000080; font-weight: bold\">1.9365301132202148</span>\n",
       "</pre>\n"
      ],
      "text/plain": [
       "<rich.jupyter.JupyterRenderable at 0x7f17ff423da0>"
      ]
     },
     "metadata": {},
     "output_type": "display_data"
    },
    {
     "name": "stdout",
     "output_type": "stream",
     "text": [
      "text/html; charset=UTF-8\n"
     ]
    },
    {
     "data": {
      "text/html": [
       "<pre style=\"white-space:pre;overflow-x:auto;line-height:normal;font-family:Menlo,'DejaVu Sans Mono',consolas,'Courier New',monospace\"><span style=\"color: #0000ff; text-decoration: underline\">https://en.amwalalghad.com/egyptian-life-takaful-gig-uaes-fab-reach-bancassurance-deal/</span>\n",
       "</pre>\n"
      ],
      "text/plain": [
       "<rich.jupyter.JupyterRenderable at 0x7f17ff423d30>"
      ]
     },
     "metadata": {},
     "output_type": "display_data"
    },
    {
     "data": {
      "text/html": [
       "<pre style=\"white-space:pre;overflow-x:auto;line-height:normal;font-family:Menlo,'DejaVu Sans Mono',consolas,'Courier New',monospace\">took <span style=\"color: #000080; font-weight: bold\">1.8574931621551514</span>\n",
       "</pre>\n"
      ],
      "text/plain": [
       "<rich.jupyter.JupyterRenderable at 0x7f17ff423d30>"
      ]
     },
     "metadata": {},
     "output_type": "display_data"
    },
    {
     "name": "stdout",
     "output_type": "stream",
     "text": [
      "text/html; charset=UTF-8\n"
     ]
    },
    {
     "data": {
      "text/html": [
       "<pre style=\"white-space:pre;overflow-x:auto;line-height:normal;font-family:Menlo,'DejaVu Sans Mono',consolas,'Courier New',monospace\"><span style=\"color: #0000ff; text-decoration: underline\">https://en.amwalalghad.com/abu-dhabi-markets-rise-over-2-outperforming-on-fabs-foreign-owners</span>\n",
       "<span style=\"color: #0000ff; text-decoration: underline\">hip-limit-surge/</span>\n",
       "</pre>\n"
      ],
      "text/plain": [
       "<rich.jupyter.JupyterRenderable at 0x7f17ff412cf8>"
      ]
     },
     "metadata": {},
     "output_type": "display_data"
    },
    {
     "data": {
      "text/html": [
       "<pre style=\"white-space:pre;overflow-x:auto;line-height:normal;font-family:Menlo,'DejaVu Sans Mono',consolas,'Courier New',monospace\">took <span style=\"color: #000080; font-weight: bold\">2.118877649307251</span>\n",
       "</pre>\n"
      ],
      "text/plain": [
       "<rich.jupyter.JupyterRenderable at 0x7f17ff412cf8>"
      ]
     },
     "metadata": {},
     "output_type": "display_data"
    },
    {
     "name": "stdout",
     "output_type": "stream",
     "text": [
      "text/html; charset=UTF-8\n"
     ]
    },
    {
     "data": {
      "text/html": [
       "<pre style=\"white-space:pre;overflow-x:auto;line-height:normal;font-family:Menlo,'DejaVu Sans Mono',consolas,'Courier New',monospace\"><span style=\"color: #0000ff; text-decoration: underline\">https://en.amwalalghad.com/key-gulf-stocks-mostly-down-fab-weighs-on-abu-dhabi-index/</span>\n",
       "</pre>\n"
      ],
      "text/plain": [
       "<rich.jupyter.JupyterRenderable at 0x7f17ff4129e8>"
      ]
     },
     "metadata": {},
     "output_type": "display_data"
    },
    {
     "data": {
      "text/html": [
       "<pre style=\"white-space:pre;overflow-x:auto;line-height:normal;font-family:Menlo,'DejaVu Sans Mono',consolas,'Courier New',monospace\">took <span style=\"color: #000080; font-weight: bold\">2.1275100708007812</span>\n",
       "</pre>\n"
      ],
      "text/plain": [
       "<rich.jupyter.JupyterRenderable at 0x7f17ff412c88>"
      ]
     },
     "metadata": {},
     "output_type": "display_data"
    },
    {
     "name": "stdout",
     "output_type": "stream",
     "text": [
      "text/html; charset=UTF-8\n"
     ]
    },
    {
     "data": {
      "text/html": [
       "<pre style=\"white-space:pre;overflow-x:auto;line-height:normal;font-family:Menlo,'DejaVu Sans Mono',consolas,'Courier New',monospace\"><span style=\"color: #0000ff; text-decoration: underline\">https://en.amwalalghad.com/first-abu-dhabi-bank-reportedly-to-restart-negotiations-to-buy-ban</span>\n",
       "<span style=\"color: #0000ff; text-decoration: underline\">k-audis-egypt-unit/</span>\n",
       "</pre>\n"
      ],
      "text/plain": [
       "<rich.jupyter.JupyterRenderable at 0x7f17ff423d30>"
      ]
     },
     "metadata": {},
     "output_type": "display_data"
    },
    {
     "data": {
      "text/html": [
       "<pre style=\"white-space:pre;overflow-x:auto;line-height:normal;font-family:Menlo,'DejaVu Sans Mono',consolas,'Courier New',monospace\">took <span style=\"color: #000080; font-weight: bold\">1.9681282043457031</span>\n",
       "</pre>\n"
      ],
      "text/plain": [
       "<rich.jupyter.JupyterRenderable at 0x7f17ff423d30>"
      ]
     },
     "metadata": {},
     "output_type": "display_data"
    },
    {
     "name": "stdout",
     "output_type": "stream",
     "text": [
      "text/html; charset=UTF-8\n"
     ]
    },
    {
     "data": {
      "text/html": [
       "<pre style=\"white-space:pre;overflow-x:auto;line-height:normal;font-family:Menlo,'DejaVu Sans Mono',consolas,'Courier New',monospace\"><span style=\"color: #0000ff; text-decoration: underline\">https://en.amwalalghad.com/first-abu-dhabi-bank-suspends-talks-to-acquire-bank-audis-egyptian</span>\n",
       "<span style=\"color: #0000ff; text-decoration: underline\">-business-amid-coronavirus-crisis/</span>\n",
       "</pre>\n"
      ],
      "text/plain": [
       "<rich.jupyter.JupyterRenderable at 0x7f17ff423cf8>"
      ]
     },
     "metadata": {},
     "output_type": "display_data"
    },
    {
     "data": {
      "text/html": [
       "<pre style=\"white-space:pre;overflow-x:auto;line-height:normal;font-family:Menlo,'DejaVu Sans Mono',consolas,'Courier New',monospace\">took <span style=\"color: #000080; font-weight: bold\">1.965095043182373</span>\n",
       "</pre>\n"
      ],
      "text/plain": [
       "<rich.jupyter.JupyterRenderable at 0x7f17ff423cf8>"
      ]
     },
     "metadata": {},
     "output_type": "display_data"
    }
   ],
   "source": [
    "results = search(\"site:\" + toscrape[0] + \" fab\")"
   ]
  },
  {
   "cell_type": "code",
   "execution_count": 10,
   "metadata": {},
   "outputs": [
    {
     "data": {
      "text/html": [
       "<pre style=\"white-space:pre;overflow-x:auto;line-height:normal;font-family:Menlo,'DejaVu Sans Mono',consolas,'Courier New',monospace\"><span style=\"font-weight: bold\">[</span>\n",
       "    <span style=\"font-weight: bold\">[</span>\n",
       "        <span style=\"color: #008000\">'Egypt has tapped Emirates NBD and First Abu Dhabi Bank (FAB) to arrange a loan worth</span>\n",
       "<span style=\"color: #008000\">more than $1 billion as it tries to plug its financing gap caused by the covid-19 pandemic, </span>\n",
       "<span style=\"color: #008000\">Reuters reports, citing two sources familiar with the matter.'</span>,\n",
       "        <span style=\"color: #008000\">'The two banks are in talks with other lenders to assist with the loan, the sources </span>\n",
       "<span style=\"color: #008000\">said.'</span>,\n",
       "        <span style=\"color: #008000\">'The Egyptian government, Emirates NBD and FAB did not immediately respond to </span>\n",
       "<span style=\"color: #008000\">requests for comment. The sources declined to be named because the information is not </span>\n",
       "<span style=\"color: #008000\">public.'</span>,\n",
       "        <span style=\"color: #008000\">'The financing plan comes as Egypt’s economy suffers from the impact of the </span>\n",
       "<span style=\"color: #008000\">coronavirus outbreak, which has badly hit its tourism and construction sectors.'</span>,\n",
       "        <span style=\"color: #008000\">'Egypt’s foreign reserves declined by $1 billion in May as the COVID-19 crisis has </span>\n",
       "<span style=\"color: #008000\">squeezed some of the country’s main sources of foreign currency, especially tourism and </span>\n",
       "<span style=\"color: #008000\">remittances from workers abroad. (Reporting by Saeed Azhar, Davide Barbuscia;'</span>,\n",
       "    <span style=\"font-weight: bold\">]</span>,\n",
       "    <span style=\"font-weight: bold\">[</span>\n",
       "        <span style=\"color: #008000\">'Saudi Arabian shares fell for a fourth day on Wednesday as weak earnings continued </span>\n",
       "<span style=\"color: #008000\">to weigh on the index, while United Arab Emirates’ largest lender FAB boosted the Abu Dhabi </span>\n",
       "<span style=\"color: #008000\">index.'</span>,\n",
       "        <span style=\"color: #008000\">'In Saudi Arabia the benchmark index was down 0.2 percent, with Saudi Basic </span>\n",
       "<span style=\"color: #008000\">Industries falling 0.5 percent, while Saudi Telecom Co was down 1.1 percent as the stock </span>\n",
       "<span style=\"color: #008000\">traded ex-dividend.'</span>,\n",
       "        <span style=\"color: #008000\">'Methanol Chemicals Co fell 1 percent after it posted a net loss of 32.3 million </span>\n",
       "<span style=\"color: #008000\">riyals ($8.6 million), compared with a profit of 22.5 million a year earlier.'</span>,\n",
       "        <span style=\"color: #008000\">'The firm blamed the loss on lower selling prices of most petrochemical products.'</span>,\n",
       "        <span style=\"color: #008000\">'Advanced Petrochemical dropped 0.5 percent after reporting a more than 5 percent </span>\n",
       "<span style=\"color: #008000\">rise in third-quarter net profit, but revenue was down over 13 percent.'</span>,\n",
       "        <span style=\"color: #008000\">'Abdulmohsen Al Hokair Group For Tourism And Development fell 4 percent after posting</span>\n",
       "<span style=\"color: #008000\">a third-quarter net loss of 15.5 million riyals, compared with a net profit of 1.9 million a </span>\n",
       "<span style=\"color: #008000\">year earlier.'</span>,\n",
       "        <span style=\"color: #008000\">'In Abu Dhabi the index rose 1.1 percent, snapping a three-day losing streak with </span>\n",
       "<span style=\"color: #008000\">market heavyweight First Abu Dhabi Bank (FAB) advancing 2 percent and Abu Dhabi commercial </span>\n",
       "<span style=\"color: #008000\">Bank gaining 0.3 percent.'</span>,\n",
       "        <span style=\"color: #008000\">'FAB on Oct. 24 reported a single-digit rise in third-quarter net profit, broadly in </span>\n",
       "<span style=\"color: #008000\">line with analysts’ forecasts.'</span>,\n",
       "        <span style=\"color: #008000\">'Buoyed by real estates shares, Dubai’s main share index edged up 0.3 percent. </span>\n",
       "<span style=\"color: #008000\">Blue-chip developer Emaar Properties rebounded 1.7 percent and its Emaar Malls unit added 0.5</span>\n",
       "<span style=\"color: #008000\">percent.'</span>,\n",
       "        <span style=\"color: #008000\">'In contrast, DAMAC Properties slipped 1.7 percent following its announcement of no </span>\n",
       "<span style=\"color: #008000\">dividend, citing low profitability and a weak market.'</span>,\n",
       "        <span style=\"color: #008000\">'The Qatari index edged up 0.1 percent, with lender Masraf Al Rayan adding 0.8 </span>\n",
       "<span style=\"color: #008000\">percent and Qatar Islamic Bank gaining 0.5 percent.'</span>,\n",
       "        <span style=\"color: #008000\">'On Monday Masraf Al Rayan had reported marginal growth in nine-month net profit to </span>\n",
       "<span style=\"color: #008000\">1.65 billion riyals, compared with 1.63 billion a year earlier.'</span>,\n",
       "        <span style=\"color: #008000\">'Source: Reuters'</span>,\n",
       "    <span style=\"font-weight: bold\">]</span>,\n",
       "    <span style=\"font-weight: bold\">[</span>\n",
       "        <span style=\"color: #008000\">'Abu Dhabi’s stock market rose from the previous session’s 4-1/2-year high on Monday,</span>\n",
       "<span style=\"color: #008000\">lifted by First Abu Dhabi Bank, while Qatar Electricity and Water weighed on the Qatar </span>\n",
       "<span style=\"color: #008000\">index.'</span>,\n",
       "        <span style=\"color: #008000\">'The Abu Dhabi index was up 0.5 percent with First Abu Dhabi Bank adding 1 percent. </span>\n",
       "<span style=\"color: #008000\">Last week, it obtained regulatory approval to increase its foreign ownership limit to 40 </span>\n",
       "<span style=\"color: #008000\">percent from a previous limit of 25 percent.'</span>,\n",
       "        <span style=\"color: #008000\">'Qatar’s index was down 0.3 percent with Qatar Gas Transport losing 3.1 percent and </span>\n",
       "<span style=\"color: #008000\">Qatar Electricity And Water shedding 2.3 percent after its first-quarter net profit fell </span>\n",
       "<span style=\"color: #008000\">nearly 22 percent.'</span>,\n",
       "        <span style=\"color: #008000\">'The company also said it aims to generate 40 percent of its profit from foreign </span>\n",
       "<span style=\"color: #008000\">investment arm Nebras Power in the next 10 years.'</span>,\n",
       "        <span style=\"color: #008000\">'In Dubai, the index rose 0.5 percent, supported by a 2 percent gain in Dubai Islamic</span>\n",
       "<span style=\"color: #008000\">Bank. The lender said that it regularly looks at expansion opportunities, including buying </span>\n",
       "<span style=\"color: #008000\">other financial institutions.'</span>,\n",
       "        <span style=\"color: #008000\">'The United Arab Emirates’ largest sharia-compliant bank is in talks with </span>\n",
       "<span style=\"color: #008000\">shareholders of unlisted Dubai-based Noor Bank over a possible acquisition of the lender, </span>\n",
       "<span style=\"color: #008000\">three sources familiar with the matter told Reuters last week.'</span>,\n",
       "        <span style=\"color: #008000\">'“We see the likelihood of a deal going through as high, driving the consolidation </span>\n",
       "<span style=\"color: #008000\">theme in UAE,” Arqaam Capital said, noting that Noor was now the only unlisted bank in the </span>\n",
       "<span style=\"color: #008000\">UAE, following the merger of Abu Dhabi counterparts Al Hilal and Abu Dhabi Commercial Bank.'</span>,\n",
       "        <span style=\"color: #008000\">'Saudi Arabia’s index traded flat with Bank Albilad rising 1.7 percent after its </span>\n",
       "<span style=\"color: #008000\">first-quarter net profit grew more than 23 percent.'</span>,\n",
       "        <span style=\"color: #008000\">'National Shipping Company Of Saudi Arabia fell 4.1 percent as the stock traded </span>\n",
       "<span style=\"color: #008000\">ex-dividend.'</span>,\n",
       "        <span style=\"color: #008000\">'The index has gained about 16 percent so far this year as foreign buyers rushed in </span>\n",
       "<span style=\"color: #008000\">ahead of and after its entry into the FTSE Russell’s emerging market index on March 18.'</span>,\n",
       "        <span style=\"color: #008000\">'Foreign investors have been net buyers of Saudi stocks every week this year and </span>\n",
       "<span style=\"color: #008000\">bought 1.21 billion riyals ($322.64 million) of shares on a net basis in the last week, </span>\n",
       "<span style=\"color: #008000\">according to stock exchange data released late on Sunday.'</span>,\n",
       "        <span style=\"color: #008000\">'Source: Reuters'</span>,\n",
       "    <span style=\"font-weight: bold\">]</span>,\n",
       "    <span style=\"font-weight: bold\">[</span>\n",
       "        <span style=\"color: #008000\">'First Abu Dhabi Bank’s (FAB) Egyptian unit, one of the largest foreign banks in the </span>\n",
       "<span style=\"color: #008000\">country, and Egyptian Life Takaful Company – GIG have signed Thursday a bancassurance </span>\n",
       "<span style=\"color: #008000\">partnership deal.'</span>,\n",
       "        <span style=\"color: #008000\">'The agreement lets FAB-Egypt offer GIG’s range of life insurance products to </span>\n",
       "<span style=\"color: #008000\">customers in Egypt throughout its nationwide network covering Cairo, Alexandria, the Delta, </span>\n",
       "<span style=\"color: #008000\">Upper Egypt, and the Red Sea.'</span>,\n",
       "        <span style=\"color: #008000\">'FAB is the largest bank in the UAE with total assets worth AED 669 billion ($182 </span>\n",
       "<span style=\"color: #008000\">billion).'</span>,\n",
       "        <span style=\"color: #008000\">'GIG has earlier reached bancassurance partnership with four banks, Bank Audi-Egypt, </span>\n",
       "<span style=\"color: #008000\">Abu Dhabi Islamic Bank (ADIB) – Egypt, Banque Misr’s Islamic Transactions branch, and </span>\n",
       "<span style=\"color: #008000\">National Bank of Kuwait (NBK) – Egypt.'</span>,\n",
       "        <span style=\"color: #008000\">'In February, the Egyptian insurer had reached a preliminary bancassurance </span>\n",
       "<span style=\"color: #008000\">partnership with Misr Iran Development Bank (MIDB), a jointly owned bank between Egypt and </span>\n",
       "<span style=\"color: #008000\">Iran.'</span>,\n",
       "    <span style=\"font-weight: bold\">]</span>,\n",
       "    <span style=\"font-weight: bold\">[</span>\n",
       "        <span style=\"color: #008000\">'Abu Dhabi markets rose more than two percent early on Sunday, outperforming other </span>\n",
       "<span style=\"color: #008000\">Gulf stocks, as First Abu Dhabi Bank (FAB) increased to a two-month high after it obtained </span>\n",
       "<span style=\"color: #008000\">regulatory approval to raise its foreign ownership limit.'</span>,\n",
       "        <span style=\"color: #008000\">'Foreigners will be allowed to own as much as 40 percent of FAB stock from a previous</span>\n",
       "<span style=\"color: #008000\">limit of 25 percent, lifting FAB shares by as much as 4.6 percent.'</span>,\n",
       "        <span style=\"color: #008000\">'At 0712 GMT, FAB shares were trading at 15.52 dirhams ($4.23), their highest level </span>\n",
       "<span style=\"color: #008000\">since early February.'</span>,\n",
       "        <span style=\"color: #008000\">'Dubai shares were flat on weakness in Emaar Properties, but shares of Emirates NBD </span>\n",
       "<span style=\"color: #008000\">were up 1.3 percent after the bank said it had sold more shares in the London initial public </span>\n",
       "<span style=\"color: #008000\">offering of Network International after exercising a greenshoe option.'</span>,\n",
       "        <span style=\"color: #008000\">'Saudi stocks made a lacklustre start to the week due to weakness in financial stocks</span>\n",
       "<span style=\"color: #008000\">amid profit taking after robust gains in the Gulf region’s biggest stock market this year.'</span>,\n",
       "        <span style=\"color: #008000\">'The index was trading 0.2 percent lower with National Commercial Bank down 0.9 </span>\n",
       "<span style=\"color: #008000\">percent and Riyad Bank down almost 1 percent.'</span>,\n",
       "        <span style=\"color: #008000\">'The index is still up 16 percent so far this year, fuelled by an increase in foreign</span>\n",
       "<span style=\"color: #008000\">fund flows as it entered the FTSE Russell’s emerging-market index on March 18.'</span>,\n",
       "        <span style=\"color: #008000\">'Qatari stocks were down 0.5 percent, weighed down by a 0.7 percent drop in market </span>\n",
       "<span style=\"color: #008000\">heavyweight Industries Qatar and a 1.4 percent drop in Qatar Insurance Company .'</span>,\n",
       "        <span style=\"color: #008000\">'Source: Reuters'</span>,\n",
       "    <span style=\"font-weight: bold\">]</span>,\n",
       "    <span style=\"font-weight: bold\">[</span>\n",
       "        <span style=\"color: #008000\">'Key Gulf stocks mostly down, FAB weighs on Abu Dhabi index'</span>,\n",
       "        <span style=\"color: #008000\">'Abu Dhabi’s stock index dropped on Monday as its financial shares, particularly </span>\n",
       "<span style=\"color: #008000\">First Abu Dhabi Bank weighed on. Most major Gulf markets also went down.'</span>,\n",
       "        <span style=\"color: #008000\">'The Abu Dhabi index lost 1 percent, with First Abu Dhabi Bank shedding 1.5 percent </span>\n",
       "<span style=\"color: #008000\">before announcing its first-quarter results later in the day.'</span>,\n",
       "        <span style=\"color: #008000\">'Dana Gas slid 2.1 percent to drop for the third straight session. The company’s </span>\n",
       "<span style=\"color: #008000\">stock went ex-dividend on Thursday and has been sliding since.'</span>,\n",
       "        <span style=\"color: #008000\">'Saudi Arabia’s main index was the only market to gain in early trading, going up 0.1</span>\n",
       "<span style=\"color: #008000\">percent. Saudi British Bank rose 2.6 percent to its highest in four years after reporting a </span>\n",
       "<span style=\"color: #008000\">24 percent increase in first-quarter net profit.'</span>,\n",
       "        <span style=\"color: #008000\">'Zahrat Al Waha gained 1.5 percent after posting a two-fold rise in its first-quarter</span>\n",
       "<span style=\"color: #008000\">net profit.'</span>,\n",
       "        <span style=\"color: #008000\">'Dubai’s index slipped 0.2 percent for its fifth straight day of loss, partly due to </span>\n",
       "<span style=\"color: #008000\">a 4.3 percent decline by Dubai Islamic Insurance And Reinsurance after its shareholders </span>\n",
       "<span style=\"color: #008000\">elected against a dividend distribution for 2018.'</span>,\n",
       "        <span style=\"color: #008000\">'Islamic Arab Insurance Co also fell 1.6 percent after its shareholders decided </span>\n",
       "<span style=\"color: #008000\">against a dividend distribution for the year.'</span>,\n",
       "        <span style=\"color: #008000\">'Qatar’s blue-chip index was down 0.1 percent. Real estate companies United </span>\n",
       "<span style=\"color: #008000\">Development and Barwa Real Estate lost 1.5 percent and 0.7 percent, respectively.'</span>,\n",
       "        <span style=\"color: #008000\">'Source: Reuters'</span>,\n",
       "    <span style=\"font-weight: bold\">]</span>,\n",
       "    <span style=\"font-weight: bold\">[</span>\n",
       "        <span style=\"color: #008000\">'UAE’s biggest lender, First Abu Dhabi Bank (FAB) plans to restart negotiations to </span>\n",
       "<span style=\"color: #008000\">buy the Egyptian unit of Lebanon’s Bank Audi, two sources familiar with the matter told </span>\n",
       "<span style=\"color: #008000\">Reuters on Sunday.'</span>,\n",
       "        <span style=\"color: #008000\">'FAB will have an internal meeting this week to decide on a way to resume talks and </span>\n",
       "<span style=\"color: #008000\">put in a final bid, one of the sources told Reuters, declining to be named as the matter is </span>\n",
       "<span style=\"color: #008000\">not public yet.'</span>,\n",
       "        <span style=\"color: #008000\">'Meanwhile, a second source told Reuters that FAB planned to restart talks within two</span>\n",
       "<span style=\"color: #008000\">weeks.'</span>,\n",
       "        <span style=\"color: #008000\">'FAB declined to make any comments. A spokesperson for Bank Audi said it had not been</span>\n",
       "<span style=\"color: #008000\">contacted by FAB regarding restarting any talks.'</span>,\n",
       "        <span style=\"color: #008000\">'In May, FAB put talks on hold due to difficult market conditions driven by the </span>\n",
       "<span style=\"color: #008000\">coronavirus pandemic.'</span>,\n",
       "        <span style=\"color: #008000\">'A source familiar with the matter said then that the acquisition offer was worth </span>\n",
       "<span style=\"color: #008000\">around $700 million.'</span>,\n",
       "        <span style=\"color: #008000\">'Bank Audi Egypt has grown from a three-branch operation taken over by Bank Audi in </span>\n",
       "<span style=\"color: #008000\">2005 to 50 branches with total assets of $4.4 billion as of the end of September 2019.'</span>,\n",
       "        <span style=\"color: #008000\">'Gulf lenders are seeking to expand their market share in Egypt, the Arab world’s </span>\n",
       "<span style=\"color: #008000\">most populous country. On the other hand, some Lebanese lenders are attempting to sell assets</span>\n",
       "<span style=\"color: #008000\">to fulfil a requirement from Lebanon’s central bank to boost their equity.'</span>,\n",
       "        <span style=\"color: #008000\">'Emirates NBD, Dubai’s largest lender, is currently negotiating to take over the </span>\n",
       "<span style=\"color: #008000\">Egyptian unit of Lebanon’s Blom Bank.'</span>,\n",
       "    <span style=\"font-weight: bold\">]</span>,\n",
       "    <span style=\"font-weight: bold\">[</span>\n",
       "        <span style=\"color: #008000\">'Given the exceptional circumstances caused by the coronavirus crisis, First Abu </span>\n",
       "<span style=\"color: #008000\">Dhabi Bank (FAB) has suspended all talks to buy the Egyptian assets of Lebanon’s Bank Audi, </span>\n",
       "<span style=\"color: #008000\">the two lenders said in a joint statement Monday.'</span>,\n",
       "        <span style=\"color: #008000\">'“Despite the incompletion of the sale deal due to the exceptional circumstances </span>\n",
       "<span style=\"color: #008000\">caused by the coronavirus crisis which has led to the suspension of all talks, we would like </span>\n",
       "<span style=\"color: #008000\">to thank First Abu Dhabi Bank for its efforts and creative discussions.” said Bank Audi’s </span>\n",
       "<span style=\"color: #008000\">chief financial officer Tamer Ghazaleh.'</span>,\n",
       "        <span style=\"color: #008000\">'Mohamed Bedir, the CEO of Bank Audi Egypt, said in a media statement” Bank Audi </span>\n",
       "<span style=\"color: #008000\">Egypt is proud to take the lead in the Bank Audi Group in terms of its exceptional </span>\n",
       "<span style=\"color: #008000\">profitability and growth rates since its inception besides its position among private banks </span>\n",
       "<span style=\"color: #008000\">in Egypt and being in a country that enjoys a political and economic stability …”'</span>,\n",
       "        <span style=\"color: #008000\">'The deal by FAB, the UAE’s biggest lender, to buy Bank Audi Egypt for was worth $700</span>\n",
       "<span style=\"color: #008000\">million but the timing was now not right due to the need to support the UAE economy in light </span>\n",
       "<span style=\"color: #008000\">of the pandemic, an informed source told Reuters earlier the day.'</span>,\n",
       "        <span style=\"color: #008000\">'Lebanese banks are trying to boost their finances as the country endures its worst </span>\n",
       "<span style=\"color: #008000\">financial crisis since the civil war.'</span>,\n",
       "        <span style=\"color: #008000\">'Bank Audi Egypt has grown from a three-branch operation acquired by Bank Audi in </span>\n",
       "<span style=\"color: #008000\">2005 to 50 branches with total assets of $4.4 billion as of the end of September 2019.'</span>,\n",
       "    <span style=\"font-weight: bold\">]</span>,\n",
       "<span style=\"font-weight: bold\">]</span>\n",
       "</pre>\n"
      ],
      "text/plain": [
       "<rich.jupyter.JupyterRenderable at 0x7f17feb70a20>"
      ]
     },
     "metadata": {},
     "output_type": "display_data"
    }
   ],
   "source": [
    "print(results[2]) "
   ]
  },
  {
   "cell_type": "code",
   "execution_count": 75,
   "metadata": {},
   "outputs": [],
   "source": [
    "model_path = \"/home/raymond/finBERT/models/trc2/\""
   ]
  },
  {
   "cell_type": "code",
   "execution_count": 68,
   "metadata": {},
   "outputs": [
    {
     "data": {
      "text/html": [
       "<pre style=\"white-space:pre;overflow-x:auto;line-height:normal;font-family:Menlo,'DejaVu Sans Mono',consolas,'Courier New',monospace\"><span style=\"font-weight: bold\">&lt;</span><span style=\"color: #ff00ff; font-weight: bold\">class</span><span style=\"color: #000000\"> </span><span style=\"color: #008000\">'NoneType'</span><span style=\"font-weight: bold\">&gt;</span>\n",
       "</pre>\n"
      ],
      "text/plain": [
       "<rich.jupyter.JupyterRenderable at 0x7f17fea7f390>"
      ]
     },
     "metadata": {},
     "output_type": "display_data"
    }
   ],
   "source": [
    "# path to trc2 pytorch model # for some reason flask app doesn't work\n",
    "paragraph = results[2][1][1]\n",
    "# sample = '{\"text\": ' + paragraph + '}'\n",
    "sample = {\"text\": paragraph}\n",
    "header = {'Content-Type': 'application/json'}\n",
    "def get_sentiment(text):\n",
    "    results = requests.post(\"http://0.0.0.0:8080\", json = sample, headers = header)\n",
    "print(type(get_sentiment(sample)))"
   ]
  },
  {
   "cell_type": "code",
   "execution_count": 76,
   "metadata": {},
   "outputs": [
    {
     "name": "stderr",
     "output_type": "stream",
     "text": [
      "09/07/2020 21:54:38 - INFO - pytorch_pretrained_bert.modeling -   loading archive file /home/raymond/finBERT/models/trc2/\n",
      "09/07/2020 21:54:38 - INFO - pytorch_pretrained_bert.modeling -   Model config {\n",
      "  \"attention_probs_dropout_prob\": 0.1,\n",
      "  \"hidden_act\": \"gelu\",\n",
      "  \"hidden_dropout_prob\": 0.1,\n",
      "  \"hidden_size\": 768,\n",
      "  \"initializer_range\": 0.02,\n",
      "  \"intermediate_size\": 3072,\n",
      "  \"max_position_embeddings\": 512,\n",
      "  \"num_attention_heads\": 12,\n",
      "  \"num_hidden_layers\": 12,\n",
      "  \"type_vocab_size\": 2,\n",
      "  \"vocab_size\": 30522\n",
      "}\n",
      "\n",
      "09/07/2020 21:54:40 - INFO - pytorch_pretrained_bert.modeling -   Weights of BertForSequenceClassification not initialized from pretrained model: ['classifier.weight', 'classifier.bias']\n",
      "09/07/2020 21:54:40 - INFO - pytorch_pretrained_bert.modeling -   Weights from pretrained model not used in BertForSequenceClassification: ['cls.predictions.bias', 'cls.predictions.transform.dense.weight', 'cls.predictions.transform.dense.bias', 'cls.predictions.transform.LayerNorm.weight', 'cls.predictions.transform.LayerNorm.bias', 'cls.predictions.decoder.weight', 'cls.seq_relationship.weight', 'cls.seq_relationship.bias']\n"
     ]
    }
   ],
   "source": [
    "# paste in flask app prediction code here, but remove the flask\n",
    "import sys\n",
    "sys.path.insert(0, \"/home/raymond/finBERT\")\n",
    "from finbert.finbert import predict\n",
    "from pytorch_pretrained_bert.modeling import BertForSequenceClassification\n",
    "model = BertForSequenceClassification.from_pretrained(model_path,num_labels=3,cache_dir=None)\n"
   ]
  },
  {
   "cell_type": "code",
   "execution_count": 82,
   "metadata": {
    "scrolled": true
   },
   "outputs": [
    {
     "name": "stderr",
     "output_type": "stream",
     "text": [
      "09/07/2020 21:58:43 - INFO - pytorch_pretrained_bert.tokenization -   loading vocabulary file https://s3.amazonaws.com/models.huggingface.co/bert/bert-base-uncased-vocab.txt from cache at /home/raymond/.pytorch_pretrained_bert/26bc1ad6c0ac742e9b52263248f6d0f00068293b33709fae12320c0e35ccfbbb.542ce4285a40d23a559526243235df47c5f75c197f04f37d1a0c124c32c9a084\n",
      "09/07/2020 21:58:43 - INFO - finbert.utils -   *** Example ***\n",
      "09/07/2020 21:58:43 - INFO - finbert.utils -   guid: 0\n",
      "09/07/2020 21:58:43 - INFO - finbert.utils -   tokens: [CLS] egypt has tapped emirates n ##b ##d and first abu dhabi bank ( fa ##b ) to arrange a loan worth more than $ 1 billion as it tries to plug its financing gap caused by the co ##vid - 19 pan ##de ##mic , reuters reports , citing two sources familiar with the matter . [SEP]\n",
      "09/07/2020 21:58:43 - INFO - finbert.utils -   input_ids: 101 5279 2038 10410 14041 1050 2497 2094 1998 2034 8273 23153 2924 1006 6904 2497 1007 2000 13621 1037 5414 4276 2062 2084 1002 1015 4551 2004 2009 5363 2000 13354 2049 12135 6578 3303 2011 1996 2522 17258 1011 2539 6090 3207 7712 1010 26665 4311 1010 8951 2048 4216 5220 2007 1996 3043 1012 102 0 0 0 0 0 0\n",
      "09/07/2020 21:58:43 - INFO - finbert.utils -   input_mask: 1 1 1 1 1 1 1 1 1 1 1 1 1 1 1 1 1 1 1 1 1 1 1 1 1 1 1 1 1 1 1 1 1 1 1 1 1 1 1 1 1 1 1 1 1 1 1 1 1 1 1 1 1 1 1 1 1 1 0 0 0 0 0 0\n",
      "09/07/2020 21:58:43 - INFO - finbert.utils -   segment_ids: 0 0 0 0 0 0 0 0 0 0 0 0 0 0 0 0 0 0 0 0 0 0 0 0 0 0 0 0 0 0 0 0 0 0 0 0 0 0 0 0 0 0 0 0 0 0 0 0 0 0 0 0 0 0 0 0 0 0 0 0 0 0 0 0\n",
      "09/07/2020 21:58:43 - INFO - finbert.utils -   label: None (id = 9090)\n",
      "09/07/2020 21:58:43 - INFO - pytorch_pretrained_bert.tokenization -   loading vocabulary file https://s3.amazonaws.com/models.huggingface.co/bert/bert-base-uncased-vocab.txt from cache at /home/raymond/.pytorch_pretrained_bert/26bc1ad6c0ac742e9b52263248f6d0f00068293b33709fae12320c0e35ccfbbb.542ce4285a40d23a559526243235df47c5f75c197f04f37d1a0c124c32c9a084\n",
      "09/07/2020 21:58:43 - INFO - finbert.utils -   *** Example ***\n",
      "09/07/2020 21:58:43 - INFO - finbert.utils -   guid: 0\n",
      "09/07/2020 21:58:43 - INFO - finbert.utils -   tokens: [CLS] the two banks are in talks with other lend ##ers to assist with the loan , the sources said . [SEP]\n",
      "09/07/2020 21:58:43 - INFO - finbert.utils -   input_ids: 101 1996 2048 5085 2024 1999 7566 2007 2060 18496 2545 2000 6509 2007 1996 5414 1010 1996 4216 2056 1012 102 0 0 0 0 0 0 0 0 0 0 0 0 0 0 0 0 0 0 0 0 0 0 0 0 0 0 0 0 0 0 0 0 0 0 0 0 0 0 0 0 0 0\n",
      "09/07/2020 21:58:43 - INFO - finbert.utils -   input_mask: 1 1 1 1 1 1 1 1 1 1 1 1 1 1 1 1 1 1 1 1 1 1 0 0 0 0 0 0 0 0 0 0 0 0 0 0 0 0 0 0 0 0 0 0 0 0 0 0 0 0 0 0 0 0 0 0 0 0 0 0 0 0 0 0\n",
      "09/07/2020 21:58:43 - INFO - finbert.utils -   segment_ids: 0 0 0 0 0 0 0 0 0 0 0 0 0 0 0 0 0 0 0 0 0 0 0 0 0 0 0 0 0 0 0 0 0 0 0 0 0 0 0 0 0 0 0 0 0 0 0 0 0 0 0 0 0 0 0 0 0 0 0 0 0 0 0 0\n",
      "09/07/2020 21:58:43 - INFO - finbert.utils -   label: None (id = 9090)\n",
      "09/07/2020 21:58:44 - INFO - pytorch_pretrained_bert.tokenization -   loading vocabulary file https://s3.amazonaws.com/models.huggingface.co/bert/bert-base-uncased-vocab.txt from cache at /home/raymond/.pytorch_pretrained_bert/26bc1ad6c0ac742e9b52263248f6d0f00068293b33709fae12320c0e35ccfbbb.542ce4285a40d23a559526243235df47c5f75c197f04f37d1a0c124c32c9a084\n",
      "09/07/2020 21:58:44 - INFO - finbert.utils -   *** Example ***\n",
      "09/07/2020 21:58:44 - INFO - finbert.utils -   guid: 0\n",
      "09/07/2020 21:58:44 - INFO - finbert.utils -   tokens: [CLS] the egyptian government , emirates n ##b ##d and fa ##b did not immediately respond to requests for comment . [SEP]\n",
      "09/07/2020 21:58:44 - INFO - finbert.utils -   input_ids: 101 1996 6811 2231 1010 14041 1050 2497 2094 1998 6904 2497 2106 2025 3202 6869 2000 11186 2005 7615 1012 102 0 0 0 0 0 0 0 0 0 0 0 0 0 0 0 0 0 0 0 0 0 0 0 0 0 0 0 0 0 0 0 0 0 0 0 0 0 0 0 0 0 0\n",
      "09/07/2020 21:58:44 - INFO - finbert.utils -   input_mask: 1 1 1 1 1 1 1 1 1 1 1 1 1 1 1 1 1 1 1 1 1 1 0 0 0 0 0 0 0 0 0 0 0 0 0 0 0 0 0 0 0 0 0 0 0 0 0 0 0 0 0 0 0 0 0 0 0 0 0 0 0 0 0 0\n",
      "09/07/2020 21:58:44 - INFO - finbert.utils -   segment_ids: 0 0 0 0 0 0 0 0 0 0 0 0 0 0 0 0 0 0 0 0 0 0 0 0 0 0 0 0 0 0 0 0 0 0 0 0 0 0 0 0 0 0 0 0 0 0 0 0 0 0 0 0 0 0 0 0 0 0 0 0 0 0 0 0\n",
      "09/07/2020 21:58:44 - INFO - finbert.utils -   label: None (id = 9090)\n",
      "09/07/2020 21:58:44 - INFO - pytorch_pretrained_bert.tokenization -   loading vocabulary file https://s3.amazonaws.com/models.huggingface.co/bert/bert-base-uncased-vocab.txt from cache at /home/raymond/.pytorch_pretrained_bert/26bc1ad6c0ac742e9b52263248f6d0f00068293b33709fae12320c0e35ccfbbb.542ce4285a40d23a559526243235df47c5f75c197f04f37d1a0c124c32c9a084\n",
      "09/07/2020 21:58:44 - INFO - finbert.utils -   *** Example ***\n",
      "09/07/2020 21:58:44 - INFO - finbert.utils -   guid: 0\n",
      "09/07/2020 21:58:44 - INFO - finbert.utils -   tokens: [CLS] the financing plan comes as egypt ’ s economy suffers from the impact of the corona ##virus outbreak , which has badly hit its tourism and construction sectors . [SEP]\n",
      "09/07/2020 21:58:44 - INFO - finbert.utils -   input_ids: 101 1996 12135 2933 3310 2004 5279 1521 1055 4610 17567 2013 1996 4254 1997 1996 21887 23350 8293 1010 2029 2038 6649 2718 2049 6813 1998 2810 11105 1012 102 0 0 0 0 0 0 0 0 0 0 0 0 0 0 0 0 0 0 0 0 0 0 0 0 0 0 0 0 0 0 0 0 0\n",
      "09/07/2020 21:58:44 - INFO - finbert.utils -   input_mask: 1 1 1 1 1 1 1 1 1 1 1 1 1 1 1 1 1 1 1 1 1 1 1 1 1 1 1 1 1 1 1 0 0 0 0 0 0 0 0 0 0 0 0 0 0 0 0 0 0 0 0 0 0 0 0 0 0 0 0 0 0 0 0 0\n",
      "09/07/2020 21:58:44 - INFO - finbert.utils -   segment_ids: 0 0 0 0 0 0 0 0 0 0 0 0 0 0 0 0 0 0 0 0 0 0 0 0 0 0 0 0 0 0 0 0 0 0 0 0 0 0 0 0 0 0 0 0 0 0 0 0 0 0 0 0 0 0 0 0 0 0 0 0 0 0 0 0\n",
      "09/07/2020 21:58:44 - INFO - finbert.utils -   label: None (id = 9090)\n",
      "09/07/2020 21:58:45 - INFO - pytorch_pretrained_bert.tokenization -   loading vocabulary file https://s3.amazonaws.com/models.huggingface.co/bert/bert-base-uncased-vocab.txt from cache at /home/raymond/.pytorch_pretrained_bert/26bc1ad6c0ac742e9b52263248f6d0f00068293b33709fae12320c0e35ccfbbb.542ce4285a40d23a559526243235df47c5f75c197f04f37d1a0c124c32c9a084\n",
      "09/07/2020 21:58:45 - INFO - finbert.utils -   *** Example ***\n",
      "09/07/2020 21:58:45 - INFO - finbert.utils -   guid: 0\n",
      "09/07/2020 21:58:45 - INFO - finbert.utils -   tokens: [CLS] egypt ’ s foreign reserves declined by $ 1 billion in may as the co ##vid - 19 crisis has squeezed some of the country ’ s main sources of foreign currency , especially tourism and re ##mit ##tance ##s from workers abroad . [SEP]\n",
      "09/07/2020 21:58:45 - INFO - finbert.utils -   input_ids: 101 5279 1521 1055 3097 8269 6430 2011 1002 1015 4551 1999 2089 2004 1996 2522 17258 1011 2539 5325 2038 7757 2070 1997 1996 2406 1521 1055 2364 4216 1997 3097 9598 1010 2926 6813 1998 2128 22930 26897 2015 2013 3667 6917 1012 102 0 0 0 0 0 0 0 0 0 0 0 0 0 0 0 0 0 0\n",
      "09/07/2020 21:58:45 - INFO - finbert.utils -   input_mask: 1 1 1 1 1 1 1 1 1 1 1 1 1 1 1 1 1 1 1 1 1 1 1 1 1 1 1 1 1 1 1 1 1 1 1 1 1 1 1 1 1 1 1 1 1 1 0 0 0 0 0 0 0 0 0 0 0 0 0 0 0 0 0 0\n",
      "09/07/2020 21:58:45 - INFO - finbert.utils -   segment_ids: 0 0 0 0 0 0 0 0 0 0 0 0 0 0 0 0 0 0 0 0 0 0 0 0 0 0 0 0 0 0 0 0 0 0 0 0 0 0 0 0 0 0 0 0 0 0 0 0 0 0 0 0 0 0 0 0 0 0 0 0 0 0 0 0\n",
      "09/07/2020 21:58:45 - INFO - finbert.utils -   label: None (id = 9090)\n",
      "09/07/2020 21:58:45 - INFO - pytorch_pretrained_bert.tokenization -   loading vocabulary file https://s3.amazonaws.com/models.huggingface.co/bert/bert-base-uncased-vocab.txt from cache at /home/raymond/.pytorch_pretrained_bert/26bc1ad6c0ac742e9b52263248f6d0f00068293b33709fae12320c0e35ccfbbb.542ce4285a40d23a559526243235df47c5f75c197f04f37d1a0c124c32c9a084\n",
      "09/07/2020 21:58:45 - INFO - finbert.utils -   *** Example ***\n",
      "09/07/2020 21:58:45 - INFO - finbert.utils -   guid: 0\n",
      "09/07/2020 21:58:45 - INFO - finbert.utils -   tokens: [CLS] saudi arabian shares fell for a fourth day on wednesday as weak earnings continued to weigh on the index , while united arab emirates ’ largest lend ##er fa ##b boosted the abu dhabi index . [SEP]\n",
      "09/07/2020 21:58:45 - INFO - finbert.utils -   input_ids: 101 8174 13771 6661 3062 2005 1037 2959 2154 2006 9317 2004 5410 16565 2506 2000 17042 2006 1996 5950 1010 2096 2142 5424 14041 1521 2922 18496 2121 6904 2497 28043 1996 8273 23153 5950 1012 102 0 0 0 0 0 0 0 0 0 0 0 0 0 0 0 0 0 0 0 0 0 0 0 0 0 0\n"
     ]
    },
    {
     "name": "stderr",
     "output_type": "stream",
     "text": [
      "09/07/2020 21:58:45 - INFO - finbert.utils -   input_mask: 1 1 1 1 1 1 1 1 1 1 1 1 1 1 1 1 1 1 1 1 1 1 1 1 1 1 1 1 1 1 1 1 1 1 1 1 1 1 0 0 0 0 0 0 0 0 0 0 0 0 0 0 0 0 0 0 0 0 0 0 0 0 0 0\n",
      "09/07/2020 21:58:45 - INFO - finbert.utils -   segment_ids: 0 0 0 0 0 0 0 0 0 0 0 0 0 0 0 0 0 0 0 0 0 0 0 0 0 0 0 0 0 0 0 0 0 0 0 0 0 0 0 0 0 0 0 0 0 0 0 0 0 0 0 0 0 0 0 0 0 0 0 0 0 0 0 0\n",
      "09/07/2020 21:58:45 - INFO - finbert.utils -   label: None (id = 9090)\n",
      "09/07/2020 21:58:46 - INFO - pytorch_pretrained_bert.tokenization -   loading vocabulary file https://s3.amazonaws.com/models.huggingface.co/bert/bert-base-uncased-vocab.txt from cache at /home/raymond/.pytorch_pretrained_bert/26bc1ad6c0ac742e9b52263248f6d0f00068293b33709fae12320c0e35ccfbbb.542ce4285a40d23a559526243235df47c5f75c197f04f37d1a0c124c32c9a084\n",
      "09/07/2020 21:58:46 - INFO - finbert.utils -   *** Example ***\n",
      "09/07/2020 21:58:46 - INFO - finbert.utils -   guid: 0\n",
      "09/07/2020 21:58:46 - INFO - finbert.utils -   tokens: [CLS] in saudi arabia the bench ##mark index was down 0 . 2 percent , with saudi basic industries falling 0 . 5 percent , while saudi telecom co was down 1 . 1 percent as the stock traded ex - divide ##nd . [SEP]\n",
      "09/07/2020 21:58:46 - INFO - finbert.utils -   input_ids: 101 1999 8174 9264 1996 6847 10665 5950 2001 2091 1014 1012 1016 3867 1010 2007 8174 3937 6088 4634 1014 1012 1019 3867 1010 2096 8174 18126 2522 2001 2091 1015 1012 1015 3867 2004 1996 4518 7007 4654 1011 11443 4859 1012 102 0 0 0 0 0 0 0 0 0 0 0 0 0 0 0 0 0 0 0\n",
      "09/07/2020 21:58:46 - INFO - finbert.utils -   input_mask: 1 1 1 1 1 1 1 1 1 1 1 1 1 1 1 1 1 1 1 1 1 1 1 1 1 1 1 1 1 1 1 1 1 1 1 1 1 1 1 1 1 1 1 1 1 0 0 0 0 0 0 0 0 0 0 0 0 0 0 0 0 0 0 0\n",
      "09/07/2020 21:58:46 - INFO - finbert.utils -   segment_ids: 0 0 0 0 0 0 0 0 0 0 0 0 0 0 0 0 0 0 0 0 0 0 0 0 0 0 0 0 0 0 0 0 0 0 0 0 0 0 0 0 0 0 0 0 0 0 0 0 0 0 0 0 0 0 0 0 0 0 0 0 0 0 0 0\n",
      "09/07/2020 21:58:46 - INFO - finbert.utils -   label: None (id = 9090)\n",
      "09/07/2020 21:58:46 - INFO - pytorch_pretrained_bert.tokenization -   loading vocabulary file https://s3.amazonaws.com/models.huggingface.co/bert/bert-base-uncased-vocab.txt from cache at /home/raymond/.pytorch_pretrained_bert/26bc1ad6c0ac742e9b52263248f6d0f00068293b33709fae12320c0e35ccfbbb.542ce4285a40d23a559526243235df47c5f75c197f04f37d1a0c124c32c9a084\n",
      "09/07/2020 21:58:46 - INFO - finbert.utils -   *** Example ***\n",
      "09/07/2020 21:58:46 - INFO - finbert.utils -   guid: 0\n",
      "09/07/2020 21:58:46 - INFO - finbert.utils -   tokens: [CLS] met ##han ##ol chemicals co fell 1 percent after it posted a net loss of 32 . 3 million ri ##yal ##s ( $ 8 . 6 million ) , compared with a profit of 22 . 5 million a year earlier . [SEP]\n",
      "09/07/2020 21:58:46 - INFO - finbert.utils -   input_ids: 101 2777 4819 4747 12141 2522 3062 1015 3867 2044 2009 6866 1037 5658 3279 1997 3590 1012 1017 2454 15544 21095 2015 1006 1002 1022 1012 1020 2454 1007 1010 4102 2007 1037 5618 1997 2570 1012 1019 2454 1037 2095 3041 1012 102 0 0 0 0 0 0 0 0 0 0 0 0 0 0 0 0 0 0 0\n",
      "09/07/2020 21:58:46 - INFO - finbert.utils -   input_mask: 1 1 1 1 1 1 1 1 1 1 1 1 1 1 1 1 1 1 1 1 1 1 1 1 1 1 1 1 1 1 1 1 1 1 1 1 1 1 1 1 1 1 1 1 1 0 0 0 0 0 0 0 0 0 0 0 0 0 0 0 0 0 0 0\n",
      "09/07/2020 21:58:46 - INFO - finbert.utils -   segment_ids: 0 0 0 0 0 0 0 0 0 0 0 0 0 0 0 0 0 0 0 0 0 0 0 0 0 0 0 0 0 0 0 0 0 0 0 0 0 0 0 0 0 0 0 0 0 0 0 0 0 0 0 0 0 0 0 0 0 0 0 0 0 0 0 0\n",
      "09/07/2020 21:58:46 - INFO - finbert.utils -   label: None (id = 9090)\n",
      "09/07/2020 21:58:47 - INFO - pytorch_pretrained_bert.tokenization -   loading vocabulary file https://s3.amazonaws.com/models.huggingface.co/bert/bert-base-uncased-vocab.txt from cache at /home/raymond/.pytorch_pretrained_bert/26bc1ad6c0ac742e9b52263248f6d0f00068293b33709fae12320c0e35ccfbbb.542ce4285a40d23a559526243235df47c5f75c197f04f37d1a0c124c32c9a084\n",
      "09/07/2020 21:58:47 - INFO - finbert.utils -   *** Example ***\n",
      "09/07/2020 21:58:47 - INFO - finbert.utils -   guid: 0\n",
      "09/07/2020 21:58:47 - INFO - finbert.utils -   tokens: [CLS] the firm blamed the loss on lower selling prices of most pet ##ro ##chemical products . [SEP]\n",
      "09/07/2020 21:58:47 - INFO - finbert.utils -   input_ids: 101 1996 3813 11248 1996 3279 2006 2896 4855 7597 1997 2087 9004 3217 15869 3688 1012 102 0 0 0 0 0 0 0 0 0 0 0 0 0 0 0 0 0 0 0 0 0 0 0 0 0 0 0 0 0 0 0 0 0 0 0 0 0 0 0 0 0 0 0 0 0 0\n",
      "09/07/2020 21:58:47 - INFO - finbert.utils -   input_mask: 1 1 1 1 1 1 1 1 1 1 1 1 1 1 1 1 1 1 0 0 0 0 0 0 0 0 0 0 0 0 0 0 0 0 0 0 0 0 0 0 0 0 0 0 0 0 0 0 0 0 0 0 0 0 0 0 0 0 0 0 0 0 0 0\n",
      "09/07/2020 21:58:47 - INFO - finbert.utils -   segment_ids: 0 0 0 0 0 0 0 0 0 0 0 0 0 0 0 0 0 0 0 0 0 0 0 0 0 0 0 0 0 0 0 0 0 0 0 0 0 0 0 0 0 0 0 0 0 0 0 0 0 0 0 0 0 0 0 0 0 0 0 0 0 0 0 0\n",
      "09/07/2020 21:58:47 - INFO - finbert.utils -   label: None (id = 9090)\n",
      "09/07/2020 21:58:47 - INFO - pytorch_pretrained_bert.tokenization -   loading vocabulary file https://s3.amazonaws.com/models.huggingface.co/bert/bert-base-uncased-vocab.txt from cache at /home/raymond/.pytorch_pretrained_bert/26bc1ad6c0ac742e9b52263248f6d0f00068293b33709fae12320c0e35ccfbbb.542ce4285a40d23a559526243235df47c5f75c197f04f37d1a0c124c32c9a084\n",
      "09/07/2020 21:58:48 - INFO - finbert.utils -   *** Example ***\n",
      "09/07/2020 21:58:48 - INFO - finbert.utils -   guid: 0\n",
      "09/07/2020 21:58:48 - INFO - finbert.utils -   tokens: [CLS] advanced pet ##ro ##chemical dropped 0 . 5 percent after reporting a more than 5 percent rise in third - quarter net profit , but revenue was down over 13 percent . [SEP]\n",
      "09/07/2020 21:58:48 - INFO - finbert.utils -   input_ids: 101 3935 9004 3217 15869 3333 1014 1012 1019 3867 2044 7316 1037 2062 2084 1019 3867 4125 1999 2353 1011 4284 5658 5618 1010 2021 6599 2001 2091 2058 2410 3867 1012 102 0 0 0 0 0 0 0 0 0 0 0 0 0 0 0 0 0 0 0 0 0 0 0 0 0 0 0 0 0 0\n",
      "09/07/2020 21:58:48 - INFO - finbert.utils -   input_mask: 1 1 1 1 1 1 1 1 1 1 1 1 1 1 1 1 1 1 1 1 1 1 1 1 1 1 1 1 1 1 1 1 1 1 0 0 0 0 0 0 0 0 0 0 0 0 0 0 0 0 0 0 0 0 0 0 0 0 0 0 0 0 0 0\n",
      "09/07/2020 21:58:48 - INFO - finbert.utils -   segment_ids: 0 0 0 0 0 0 0 0 0 0 0 0 0 0 0 0 0 0 0 0 0 0 0 0 0 0 0 0 0 0 0 0 0 0 0 0 0 0 0 0 0 0 0 0 0 0 0 0 0 0 0 0 0 0 0 0 0 0 0 0 0 0 0 0\n",
      "09/07/2020 21:58:48 - INFO - finbert.utils -   label: None (id = 9090)\n",
      "09/07/2020 21:58:48 - INFO - pytorch_pretrained_bert.tokenization -   loading vocabulary file https://s3.amazonaws.com/models.huggingface.co/bert/bert-base-uncased-vocab.txt from cache at /home/raymond/.pytorch_pretrained_bert/26bc1ad6c0ac742e9b52263248f6d0f00068293b33709fae12320c0e35ccfbbb.542ce4285a40d23a559526243235df47c5f75c197f04f37d1a0c124c32c9a084\n",
      "09/07/2020 21:58:48 - INFO - finbert.utils -   *** Example ***\n",
      "09/07/2020 21:58:48 - INFO - finbert.utils -   guid: 0\n",
      "09/07/2020 21:58:48 - INFO - finbert.utils -   tokens: [CLS] abdul ##mo ##hs ##en al ho ##kai ##r group for tourism and development fell 4 percent after posting a third - quarter net loss of 15 . 5 million ri ##yal ##s , compared with a net profit of 1 . 9 million a year earlier . [SEP]\n",
      "09/07/2020 21:58:48 - INFO - finbert.utils -   input_ids: 101 10298 5302 7898 2368 2632 7570 11151 2099 2177 2005 6813 1998 2458 3062 1018 3867 2044 14739 1037 2353 1011 4284 5658 3279 1997 2321 1012 1019 2454 15544 21095 2015 1010 4102 2007 1037 5658 5618 1997 1015 1012 1023 2454 1037 2095 3041 1012 102 0 0 0 0 0 0 0 0 0 0 0 0 0 0 0\n",
      "09/07/2020 21:58:48 - INFO - finbert.utils -   input_mask: 1 1 1 1 1 1 1 1 1 1 1 1 1 1 1 1 1 1 1 1 1 1 1 1 1 1 1 1 1 1 1 1 1 1 1 1 1 1 1 1 1 1 1 1 1 1 1 1 1 0 0 0 0 0 0 0 0 0 0 0 0 0 0 0\n",
      "09/07/2020 21:58:48 - INFO - finbert.utils -   segment_ids: 0 0 0 0 0 0 0 0 0 0 0 0 0 0 0 0 0 0 0 0 0 0 0 0 0 0 0 0 0 0 0 0 0 0 0 0 0 0 0 0 0 0 0 0 0 0 0 0 0 0 0 0 0 0 0 0 0 0 0 0 0 0 0 0\n",
      "09/07/2020 21:58:48 - INFO - finbert.utils -   label: None (id = 9090)\n",
      "09/07/2020 21:58:48 - INFO - pytorch_pretrained_bert.tokenization -   loading vocabulary file https://s3.amazonaws.com/models.huggingface.co/bert/bert-base-uncased-vocab.txt from cache at /home/raymond/.pytorch_pretrained_bert/26bc1ad6c0ac742e9b52263248f6d0f00068293b33709fae12320c0e35ccfbbb.542ce4285a40d23a559526243235df47c5f75c197f04f37d1a0c124c32c9a084\n",
      "09/07/2020 21:58:49 - INFO - finbert.utils -   *** Example ***\n",
      "09/07/2020 21:58:49 - INFO - finbert.utils -   guid: 0\n"
     ]
    },
    {
     "name": "stderr",
     "output_type": "stream",
     "text": [
      "09/07/2020 21:58:49 - INFO - finbert.utils -   tokens: [CLS] in abu dhabi the index rose 1 . 1 percent , snapping a three - day losing streak with market heavyweight first abu dhabi bank ( fa ##b ) advancing 2 percent and abu dhabi commercial bank gaining 0 . 3 percent . [SEP]\n",
      "09/07/2020 21:58:49 - INFO - finbert.utils -   input_ids: 101 1999 8273 23153 1996 5950 3123 1015 1012 1015 3867 1010 15790 1037 2093 1011 2154 3974 9039 2007 3006 8366 2034 8273 23153 2924 1006 6904 2497 1007 10787 1016 3867 1998 8273 23153 3293 2924 8550 1014 1012 1017 3867 1012 102 0 0 0 0 0 0 0 0 0 0 0 0 0 0 0 0 0 0 0\n",
      "09/07/2020 21:58:49 - INFO - finbert.utils -   input_mask: 1 1 1 1 1 1 1 1 1 1 1 1 1 1 1 1 1 1 1 1 1 1 1 1 1 1 1 1 1 1 1 1 1 1 1 1 1 1 1 1 1 1 1 1 1 0 0 0 0 0 0 0 0 0 0 0 0 0 0 0 0 0 0 0\n",
      "09/07/2020 21:58:49 - INFO - finbert.utils -   segment_ids: 0 0 0 0 0 0 0 0 0 0 0 0 0 0 0 0 0 0 0 0 0 0 0 0 0 0 0 0 0 0 0 0 0 0 0 0 0 0 0 0 0 0 0 0 0 0 0 0 0 0 0 0 0 0 0 0 0 0 0 0 0 0 0 0\n",
      "09/07/2020 21:58:49 - INFO - finbert.utils -   label: None (id = 9090)\n",
      "09/07/2020 21:58:49 - INFO - pytorch_pretrained_bert.tokenization -   loading vocabulary file https://s3.amazonaws.com/models.huggingface.co/bert/bert-base-uncased-vocab.txt from cache at /home/raymond/.pytorch_pretrained_bert/26bc1ad6c0ac742e9b52263248f6d0f00068293b33709fae12320c0e35ccfbbb.542ce4285a40d23a559526243235df47c5f75c197f04f37d1a0c124c32c9a084\n",
      "09/07/2020 21:58:49 - INFO - finbert.utils -   *** Example ***\n",
      "09/07/2020 21:58:49 - INFO - finbert.utils -   guid: 0\n",
      "09/07/2020 21:58:49 - INFO - finbert.utils -   tokens: [CLS] fa ##b on oct . 24 reported a single - digit rise in third - quarter net profit , broadly in line with analysts ’ forecast ##s . [SEP]\n",
      "09/07/2020 21:58:49 - INFO - finbert.utils -   input_ids: 101 6904 2497 2006 13323 1012 2484 2988 1037 2309 1011 15340 4125 1999 2353 1011 4284 5658 5618 1010 13644 1999 2240 2007 18288 1521 19939 2015 1012 102 0 0 0 0 0 0 0 0 0 0 0 0 0 0 0 0 0 0 0 0 0 0 0 0 0 0 0 0 0 0 0 0 0 0\n",
      "09/07/2020 21:58:49 - INFO - finbert.utils -   input_mask: 1 1 1 1 1 1 1 1 1 1 1 1 1 1 1 1 1 1 1 1 1 1 1 1 1 1 1 1 1 1 0 0 0 0 0 0 0 0 0 0 0 0 0 0 0 0 0 0 0 0 0 0 0 0 0 0 0 0 0 0 0 0 0 0\n",
      "09/07/2020 21:58:49 - INFO - finbert.utils -   segment_ids: 0 0 0 0 0 0 0 0 0 0 0 0 0 0 0 0 0 0 0 0 0 0 0 0 0 0 0 0 0 0 0 0 0 0 0 0 0 0 0 0 0 0 0 0 0 0 0 0 0 0 0 0 0 0 0 0 0 0 0 0 0 0 0 0\n",
      "09/07/2020 21:58:49 - INFO - finbert.utils -   label: None (id = 9090)\n",
      "09/07/2020 21:58:50 - INFO - pytorch_pretrained_bert.tokenization -   loading vocabulary file https://s3.amazonaws.com/models.huggingface.co/bert/bert-base-uncased-vocab.txt from cache at /home/raymond/.pytorch_pretrained_bert/26bc1ad6c0ac742e9b52263248f6d0f00068293b33709fae12320c0e35ccfbbb.542ce4285a40d23a559526243235df47c5f75c197f04f37d1a0c124c32c9a084\n",
      "09/07/2020 21:58:50 - INFO - finbert.utils -   *** Example ***\n",
      "09/07/2020 21:58:50 - INFO - finbert.utils -   guid: 0\n",
      "09/07/2020 21:58:50 - INFO - finbert.utils -   tokens: [CLS] bu ##oy ##ed by real estates shares , dubai ’ s main share index edged up 0 . 3 percent . [SEP]\n",
      "09/07/2020 21:58:50 - INFO - finbert.utils -   input_ids: 101 20934 6977 2098 2011 2613 8707 6661 1010 11558 1521 1055 2364 3745 5950 13011 2039 1014 1012 1017 3867 1012 102 0 0 0 0 0 0 0 0 0 0 0 0 0 0 0 0 0 0 0 0 0 0 0 0 0 0 0 0 0 0 0 0 0 0 0 0 0 0 0 0 0\n",
      "09/07/2020 21:58:50 - INFO - finbert.utils -   input_mask: 1 1 1 1 1 1 1 1 1 1 1 1 1 1 1 1 1 1 1 1 1 1 1 0 0 0 0 0 0 0 0 0 0 0 0 0 0 0 0 0 0 0 0 0 0 0 0 0 0 0 0 0 0 0 0 0 0 0 0 0 0 0 0 0\n",
      "09/07/2020 21:58:50 - INFO - finbert.utils -   segment_ids: 0 0 0 0 0 0 0 0 0 0 0 0 0 0 0 0 0 0 0 0 0 0 0 0 0 0 0 0 0 0 0 0 0 0 0 0 0 0 0 0 0 0 0 0 0 0 0 0 0 0 0 0 0 0 0 0 0 0 0 0 0 0 0 0\n",
      "09/07/2020 21:58:50 - INFO - finbert.utils -   label: None (id = 9090)\n",
      "09/07/2020 21:58:50 - INFO - pytorch_pretrained_bert.tokenization -   loading vocabulary file https://s3.amazonaws.com/models.huggingface.co/bert/bert-base-uncased-vocab.txt from cache at /home/raymond/.pytorch_pretrained_bert/26bc1ad6c0ac742e9b52263248f6d0f00068293b33709fae12320c0e35ccfbbb.542ce4285a40d23a559526243235df47c5f75c197f04f37d1a0c124c32c9a084\n",
      "09/07/2020 21:58:50 - INFO - finbert.utils -   *** Example ***\n",
      "09/07/2020 21:58:50 - INFO - finbert.utils -   guid: 0\n",
      "09/07/2020 21:58:50 - INFO - finbert.utils -   tokens: [CLS] in contrast , dam ##ac properties slipped 1 . 7 percent following its announcement of no divide ##nd , citing low profit ##ability and a weak market . [SEP]\n",
      "09/07/2020 21:58:50 - INFO - finbert.utils -   input_ids: 101 1999 5688 1010 5477 6305 5144 5707 1015 1012 1021 3867 2206 2049 8874 1997 2053 11443 4859 1010 8951 2659 5618 8010 1998 1037 5410 3006 1012 102 0 0 0 0 0 0 0 0 0 0 0 0 0 0 0 0 0 0 0 0 0 0 0 0 0 0 0 0 0 0 0 0 0 0\n",
      "09/07/2020 21:58:50 - INFO - finbert.utils -   input_mask: 1 1 1 1 1 1 1 1 1 1 1 1 1 1 1 1 1 1 1 1 1 1 1 1 1 1 1 1 1 1 0 0 0 0 0 0 0 0 0 0 0 0 0 0 0 0 0 0 0 0 0 0 0 0 0 0 0 0 0 0 0 0 0 0\n",
      "09/07/2020 21:58:50 - INFO - finbert.utils -   segment_ids: 0 0 0 0 0 0 0 0 0 0 0 0 0 0 0 0 0 0 0 0 0 0 0 0 0 0 0 0 0 0 0 0 0 0 0 0 0 0 0 0 0 0 0 0 0 0 0 0 0 0 0 0 0 0 0 0 0 0 0 0 0 0 0 0\n",
      "09/07/2020 21:58:50 - INFO - finbert.utils -   label: None (id = 9090)\n",
      "09/07/2020 21:58:51 - INFO - pytorch_pretrained_bert.tokenization -   loading vocabulary file https://s3.amazonaws.com/models.huggingface.co/bert/bert-base-uncased-vocab.txt from cache at /home/raymond/.pytorch_pretrained_bert/26bc1ad6c0ac742e9b52263248f6d0f00068293b33709fae12320c0e35ccfbbb.542ce4285a40d23a559526243235df47c5f75c197f04f37d1a0c124c32c9a084\n",
      "09/07/2020 21:58:51 - INFO - finbert.utils -   *** Example ***\n",
      "09/07/2020 21:58:51 - INFO - finbert.utils -   guid: 0\n",
      "09/07/2020 21:58:51 - INFO - finbert.utils -   tokens: [CLS] the qatar ##i index edged up 0 . 1 percent , with lend ##er mas ##raf al ray ##an adding 0 . 8 percent and qatar islamic bank gaining 0 . 5 percent . [SEP]\n",
      "09/07/2020 21:58:51 - INFO - finbert.utils -   input_ids: 101 1996 12577 2072 5950 13011 2039 1014 1012 1015 3867 1010 2007 18496 2121 16137 27528 2632 4097 2319 5815 1014 1012 1022 3867 1998 12577 5499 2924 8550 1014 1012 1019 3867 1012 102 0 0 0 0 0 0 0 0 0 0 0 0 0 0 0 0 0 0 0 0 0 0 0 0 0 0 0 0\n",
      "09/07/2020 21:58:51 - INFO - finbert.utils -   input_mask: 1 1 1 1 1 1 1 1 1 1 1 1 1 1 1 1 1 1 1 1 1 1 1 1 1 1 1 1 1 1 1 1 1 1 1 1 0 0 0 0 0 0 0 0 0 0 0 0 0 0 0 0 0 0 0 0 0 0 0 0 0 0 0 0\n",
      "09/07/2020 21:58:51 - INFO - finbert.utils -   segment_ids: 0 0 0 0 0 0 0 0 0 0 0 0 0 0 0 0 0 0 0 0 0 0 0 0 0 0 0 0 0 0 0 0 0 0 0 0 0 0 0 0 0 0 0 0 0 0 0 0 0 0 0 0 0 0 0 0 0 0 0 0 0 0 0 0\n",
      "09/07/2020 21:58:51 - INFO - finbert.utils -   label: None (id = 9090)\n",
      "09/07/2020 21:58:51 - INFO - pytorch_pretrained_bert.tokenization -   loading vocabulary file https://s3.amazonaws.com/models.huggingface.co/bert/bert-base-uncased-vocab.txt from cache at /home/raymond/.pytorch_pretrained_bert/26bc1ad6c0ac742e9b52263248f6d0f00068293b33709fae12320c0e35ccfbbb.542ce4285a40d23a559526243235df47c5f75c197f04f37d1a0c124c32c9a084\n",
      "09/07/2020 21:58:51 - INFO - finbert.utils -   *** Example ***\n",
      "09/07/2020 21:58:51 - INFO - finbert.utils -   guid: 0\n",
      "09/07/2020 21:58:51 - INFO - finbert.utils -   tokens: [CLS] on monday mas ##raf al ray ##an had reported marginal growth in nine - month net profit to 1 . 65 billion ri ##yal ##s , compared with 1 . 63 billion a year earlier . [SEP]\n",
      "09/07/2020 21:58:51 - INFO - finbert.utils -   input_ids: 101 2006 6928 16137 27528 2632 4097 2319 2018 2988 14785 3930 1999 3157 1011 3204 5658 5618 2000 1015 1012 3515 4551 15544 21095 2015 1010 4102 2007 1015 1012 6191 4551 1037 2095 3041 1012 102 0 0 0 0 0 0 0 0 0 0 0 0 0 0 0 0 0 0 0 0 0 0 0 0 0 0\n",
      "09/07/2020 21:58:51 - INFO - finbert.utils -   input_mask: 1 1 1 1 1 1 1 1 1 1 1 1 1 1 1 1 1 1 1 1 1 1 1 1 1 1 1 1 1 1 1 1 1 1 1 1 1 1 0 0 0 0 0 0 0 0 0 0 0 0 0 0 0 0 0 0 0 0 0 0 0 0 0 0\n",
      "09/07/2020 21:58:51 - INFO - finbert.utils -   segment_ids: 0 0 0 0 0 0 0 0 0 0 0 0 0 0 0 0 0 0 0 0 0 0 0 0 0 0 0 0 0 0 0 0 0 0 0 0 0 0 0 0 0 0 0 0 0 0 0 0 0 0 0 0 0 0 0 0 0 0 0 0 0 0 0 0\n",
      "09/07/2020 21:58:51 - INFO - finbert.utils -   label: None (id = 9090)\n",
      "09/07/2020 21:58:52 - INFO - pytorch_pretrained_bert.tokenization -   loading vocabulary file https://s3.amazonaws.com/models.huggingface.co/bert/bert-base-uncased-vocab.txt from cache at /home/raymond/.pytorch_pretrained_bert/26bc1ad6c0ac742e9b52263248f6d0f00068293b33709fae12320c0e35ccfbbb.542ce4285a40d23a559526243235df47c5f75c197f04f37d1a0c124c32c9a084\n"
     ]
    },
    {
     "name": "stderr",
     "output_type": "stream",
     "text": [
      "09/07/2020 21:58:52 - INFO - finbert.utils -   *** Example ***\n",
      "09/07/2020 21:58:52 - INFO - finbert.utils -   guid: 0\n",
      "09/07/2020 21:58:52 - INFO - finbert.utils -   tokens: [CLS] source : reuters [SEP]\n",
      "09/07/2020 21:58:52 - INFO - finbert.utils -   input_ids: 101 3120 1024 26665 102 0 0 0 0 0 0 0 0 0 0 0 0 0 0 0 0 0 0 0 0 0 0 0 0 0 0 0 0 0 0 0 0 0 0 0 0 0 0 0 0 0 0 0 0 0 0 0 0 0 0 0 0 0 0 0 0 0 0 0\n",
      "09/07/2020 21:58:52 - INFO - finbert.utils -   input_mask: 1 1 1 1 1 0 0 0 0 0 0 0 0 0 0 0 0 0 0 0 0 0 0 0 0 0 0 0 0 0 0 0 0 0 0 0 0 0 0 0 0 0 0 0 0 0 0 0 0 0 0 0 0 0 0 0 0 0 0 0 0 0 0 0\n",
      "09/07/2020 21:58:52 - INFO - finbert.utils -   segment_ids: 0 0 0 0 0 0 0 0 0 0 0 0 0 0 0 0 0 0 0 0 0 0 0 0 0 0 0 0 0 0 0 0 0 0 0 0 0 0 0 0 0 0 0 0 0 0 0 0 0 0 0 0 0 0 0 0 0 0 0 0 0 0 0 0\n",
      "09/07/2020 21:58:52 - INFO - finbert.utils -   label: None (id = 9090)\n",
      "09/07/2020 21:58:52 - INFO - pytorch_pretrained_bert.tokenization -   loading vocabulary file https://s3.amazonaws.com/models.huggingface.co/bert/bert-base-uncased-vocab.txt from cache at /home/raymond/.pytorch_pretrained_bert/26bc1ad6c0ac742e9b52263248f6d0f00068293b33709fae12320c0e35ccfbbb.542ce4285a40d23a559526243235df47c5f75c197f04f37d1a0c124c32c9a084\n",
      "09/07/2020 21:58:52 - INFO - finbert.utils -   *** Example ***\n",
      "09/07/2020 21:58:52 - INFO - finbert.utils -   guid: 0\n",
      "09/07/2020 21:58:52 - INFO - finbert.utils -   tokens: [CLS] abu dhabi ’ s stock market rose from the previous session ’ s 4 - 1 / 2 - year high on monday , lifted by first abu dhabi bank , while qatar electricity and water weighed on the qatar index . [SEP]\n",
      "09/07/2020 21:58:52 - INFO - finbert.utils -   input_ids: 101 8273 23153 1521 1055 4518 3006 3123 2013 1996 3025 5219 1521 1055 1018 1011 1015 1013 1016 1011 2095 2152 2006 6928 1010 4196 2011 2034 8273 23153 2924 1010 2096 12577 6451 1998 2300 12781 2006 1996 12577 5950 1012 102 0 0 0 0 0 0 0 0 0 0 0 0 0 0 0 0 0 0 0 0\n",
      "09/07/2020 21:58:52 - INFO - finbert.utils -   input_mask: 1 1 1 1 1 1 1 1 1 1 1 1 1 1 1 1 1 1 1 1 1 1 1 1 1 1 1 1 1 1 1 1 1 1 1 1 1 1 1 1 1 1 1 1 0 0 0 0 0 0 0 0 0 0 0 0 0 0 0 0 0 0 0 0\n",
      "09/07/2020 21:58:52 - INFO - finbert.utils -   segment_ids: 0 0 0 0 0 0 0 0 0 0 0 0 0 0 0 0 0 0 0 0 0 0 0 0 0 0 0 0 0 0 0 0 0 0 0 0 0 0 0 0 0 0 0 0 0 0 0 0 0 0 0 0 0 0 0 0 0 0 0 0 0 0 0 0\n",
      "09/07/2020 21:58:52 - INFO - finbert.utils -   label: None (id = 9090)\n",
      "09/07/2020 21:58:53 - INFO - pytorch_pretrained_bert.tokenization -   loading vocabulary file https://s3.amazonaws.com/models.huggingface.co/bert/bert-base-uncased-vocab.txt from cache at /home/raymond/.pytorch_pretrained_bert/26bc1ad6c0ac742e9b52263248f6d0f00068293b33709fae12320c0e35ccfbbb.542ce4285a40d23a559526243235df47c5f75c197f04f37d1a0c124c32c9a084\n",
      "09/07/2020 21:58:53 - INFO - finbert.utils -   *** Example ***\n",
      "09/07/2020 21:58:53 - INFO - finbert.utils -   guid: 0\n",
      "09/07/2020 21:58:53 - INFO - finbert.utils -   tokens: [CLS] the abu dhabi index was up 0 . 5 percent with first abu dhabi bank adding 1 percent . [SEP]\n",
      "09/07/2020 21:58:53 - INFO - finbert.utils -   input_ids: 101 1996 8273 23153 5950 2001 2039 1014 1012 1019 3867 2007 2034 8273 23153 2924 5815 1015 3867 1012 102 0 0 0 0 0 0 0 0 0 0 0 0 0 0 0 0 0 0 0 0 0 0 0 0 0 0 0 0 0 0 0 0 0 0 0 0 0 0 0 0 0 0 0\n",
      "09/07/2020 21:58:53 - INFO - finbert.utils -   input_mask: 1 1 1 1 1 1 1 1 1 1 1 1 1 1 1 1 1 1 1 1 1 0 0 0 0 0 0 0 0 0 0 0 0 0 0 0 0 0 0 0 0 0 0 0 0 0 0 0 0 0 0 0 0 0 0 0 0 0 0 0 0 0 0 0\n",
      "09/07/2020 21:58:53 - INFO - finbert.utils -   segment_ids: 0 0 0 0 0 0 0 0 0 0 0 0 0 0 0 0 0 0 0 0 0 0 0 0 0 0 0 0 0 0 0 0 0 0 0 0 0 0 0 0 0 0 0 0 0 0 0 0 0 0 0 0 0 0 0 0 0 0 0 0 0 0 0 0\n",
      "09/07/2020 21:58:53 - INFO - finbert.utils -   label: None (id = 9090)\n",
      "09/07/2020 21:58:54 - INFO - pytorch_pretrained_bert.tokenization -   loading vocabulary file https://s3.amazonaws.com/models.huggingface.co/bert/bert-base-uncased-vocab.txt from cache at /home/raymond/.pytorch_pretrained_bert/26bc1ad6c0ac742e9b52263248f6d0f00068293b33709fae12320c0e35ccfbbb.542ce4285a40d23a559526243235df47c5f75c197f04f37d1a0c124c32c9a084\n",
      "09/07/2020 21:58:54 - INFO - finbert.utils -   *** Example ***\n",
      "09/07/2020 21:58:54 - INFO - finbert.utils -   guid: 0\n",
      "09/07/2020 21:58:54 - INFO - finbert.utils -   tokens: [CLS] qatar ’ s index was down 0 . 3 percent with qatar gas transport losing 3 . 1 percent and qatar electricity and water shed ##ding 2 . 3 percent after its first - quarter net profit fell nearly 22 percent . [SEP]\n",
      "09/07/2020 21:58:54 - INFO - finbert.utils -   input_ids: 101 12577 1521 1055 5950 2001 2091 1014 1012 1017 3867 2007 12577 3806 3665 3974 1017 1012 1015 3867 1998 12577 6451 1998 2300 8328 4667 1016 1012 1017 3867 2044 2049 2034 1011 4284 5658 5618 3062 3053 2570 3867 1012 102 0 0 0 0 0 0 0 0 0 0 0 0 0 0 0 0 0 0 0 0\n",
      "09/07/2020 21:58:54 - INFO - finbert.utils -   input_mask: 1 1 1 1 1 1 1 1 1 1 1 1 1 1 1 1 1 1 1 1 1 1 1 1 1 1 1 1 1 1 1 1 1 1 1 1 1 1 1 1 1 1 1 1 0 0 0 0 0 0 0 0 0 0 0 0 0 0 0 0 0 0 0 0\n",
      "09/07/2020 21:58:54 - INFO - finbert.utils -   segment_ids: 0 0 0 0 0 0 0 0 0 0 0 0 0 0 0 0 0 0 0 0 0 0 0 0 0 0 0 0 0 0 0 0 0 0 0 0 0 0 0 0 0 0 0 0 0 0 0 0 0 0 0 0 0 0 0 0 0 0 0 0 0 0 0 0\n",
      "09/07/2020 21:58:54 - INFO - finbert.utils -   label: None (id = 9090)\n",
      "09/07/2020 21:58:54 - INFO - pytorch_pretrained_bert.tokenization -   loading vocabulary file https://s3.amazonaws.com/models.huggingface.co/bert/bert-base-uncased-vocab.txt from cache at /home/raymond/.pytorch_pretrained_bert/26bc1ad6c0ac742e9b52263248f6d0f00068293b33709fae12320c0e35ccfbbb.542ce4285a40d23a559526243235df47c5f75c197f04f37d1a0c124c32c9a084\n",
      "09/07/2020 21:58:54 - INFO - finbert.utils -   *** Example ***\n",
      "09/07/2020 21:58:54 - INFO - finbert.utils -   guid: 0\n",
      "09/07/2020 21:58:54 - INFO - finbert.utils -   tokens: [CLS] the company also said it aims to generate 40 percent of its profit from foreign investment arm ne ##bra ##s power in the next 10 years . [SEP]\n",
      "09/07/2020 21:58:54 - INFO - finbert.utils -   input_ids: 101 1996 2194 2036 2056 2009 8704 2000 9699 2871 3867 1997 2049 5618 2013 3097 5211 2849 11265 10024 2015 2373 1999 1996 2279 2184 2086 1012 102 0 0 0 0 0 0 0 0 0 0 0 0 0 0 0 0 0 0 0 0 0 0 0 0 0 0 0 0 0 0 0 0 0 0 0\n",
      "09/07/2020 21:58:54 - INFO - finbert.utils -   input_mask: 1 1 1 1 1 1 1 1 1 1 1 1 1 1 1 1 1 1 1 1 1 1 1 1 1 1 1 1 1 0 0 0 0 0 0 0 0 0 0 0 0 0 0 0 0 0 0 0 0 0 0 0 0 0 0 0 0 0 0 0 0 0 0 0\n",
      "09/07/2020 21:58:54 - INFO - finbert.utils -   segment_ids: 0 0 0 0 0 0 0 0 0 0 0 0 0 0 0 0 0 0 0 0 0 0 0 0 0 0 0 0 0 0 0 0 0 0 0 0 0 0 0 0 0 0 0 0 0 0 0 0 0 0 0 0 0 0 0 0 0 0 0 0 0 0 0 0\n",
      "09/07/2020 21:58:54 - INFO - finbert.utils -   label: None (id = 9090)\n",
      "09/07/2020 21:58:55 - INFO - pytorch_pretrained_bert.tokenization -   loading vocabulary file https://s3.amazonaws.com/models.huggingface.co/bert/bert-base-uncased-vocab.txt from cache at /home/raymond/.pytorch_pretrained_bert/26bc1ad6c0ac742e9b52263248f6d0f00068293b33709fae12320c0e35ccfbbb.542ce4285a40d23a559526243235df47c5f75c197f04f37d1a0c124c32c9a084\n",
      "09/07/2020 21:58:55 - INFO - finbert.utils -   *** Example ***\n",
      "09/07/2020 21:58:55 - INFO - finbert.utils -   guid: 0\n",
      "09/07/2020 21:58:55 - INFO - finbert.utils -   tokens: [CLS] in dubai , the index rose 0 . 5 percent , supported by a 2 percent gain in dubai islamic bank . [SEP]\n",
      "09/07/2020 21:58:55 - INFO - finbert.utils -   input_ids: 101 1999 11558 1010 1996 5950 3123 1014 1012 1019 3867 1010 3569 2011 1037 1016 3867 5114 1999 11558 5499 2924 1012 102 0 0 0 0 0 0 0 0 0 0 0 0 0 0 0 0 0 0 0 0 0 0 0 0 0 0 0 0 0 0 0 0 0 0 0 0 0 0 0 0\n",
      "09/07/2020 21:58:55 - INFO - finbert.utils -   input_mask: 1 1 1 1 1 1 1 1 1 1 1 1 1 1 1 1 1 1 1 1 1 1 1 1 0 0 0 0 0 0 0 0 0 0 0 0 0 0 0 0 0 0 0 0 0 0 0 0 0 0 0 0 0 0 0 0 0 0 0 0 0 0 0 0\n",
      "09/07/2020 21:58:55 - INFO - finbert.utils -   segment_ids: 0 0 0 0 0 0 0 0 0 0 0 0 0 0 0 0 0 0 0 0 0 0 0 0 0 0 0 0 0 0 0 0 0 0 0 0 0 0 0 0 0 0 0 0 0 0 0 0 0 0 0 0 0 0 0 0 0 0 0 0 0 0 0 0\n",
      "09/07/2020 21:58:55 - INFO - finbert.utils -   label: None (id = 9090)\n",
      "09/07/2020 21:58:55 - INFO - pytorch_pretrained_bert.tokenization -   loading vocabulary file https://s3.amazonaws.com/models.huggingface.co/bert/bert-base-uncased-vocab.txt from cache at /home/raymond/.pytorch_pretrained_bert/26bc1ad6c0ac742e9b52263248f6d0f00068293b33709fae12320c0e35ccfbbb.542ce4285a40d23a559526243235df47c5f75c197f04f37d1a0c124c32c9a084\n"
     ]
    },
    {
     "name": "stderr",
     "output_type": "stream",
     "text": [
      "09/07/2020 21:58:55 - INFO - finbert.utils -   *** Example ***\n",
      "09/07/2020 21:58:55 - INFO - finbert.utils -   guid: 0\n",
      "09/07/2020 21:58:55 - INFO - finbert.utils -   tokens: [CLS] the united arab emirates ’ largest sha ##ria - compliant bank is in talks with shareholders of un ##list ##ed dubai - based no ##or bank over a possible acquisition of the lend ##er , three sources familiar with the matter told reuters last week . [SEP]\n",
      "09/07/2020 21:58:55 - INFO - finbert.utils -   input_ids: 101 1996 2142 5424 14041 1521 2922 21146 4360 1011 24577 2924 2003 1999 7566 2007 15337 1997 4895 9863 2098 11558 1011 2241 2053 2953 2924 2058 1037 2825 7654 1997 1996 18496 2121 1010 2093 4216 5220 2007 1996 3043 2409 26665 2197 2733 1012 102 0 0 0 0 0 0 0 0 0 0 0 0 0 0 0 0\n",
      "09/07/2020 21:58:55 - INFO - finbert.utils -   input_mask: 1 1 1 1 1 1 1 1 1 1 1 1 1 1 1 1 1 1 1 1 1 1 1 1 1 1 1 1 1 1 1 1 1 1 1 1 1 1 1 1 1 1 1 1 1 1 1 1 0 0 0 0 0 0 0 0 0 0 0 0 0 0 0 0\n",
      "09/07/2020 21:58:55 - INFO - finbert.utils -   segment_ids: 0 0 0 0 0 0 0 0 0 0 0 0 0 0 0 0 0 0 0 0 0 0 0 0 0 0 0 0 0 0 0 0 0 0 0 0 0 0 0 0 0 0 0 0 0 0 0 0 0 0 0 0 0 0 0 0 0 0 0 0 0 0 0 0\n",
      "09/07/2020 21:58:55 - INFO - finbert.utils -   label: None (id = 9090)\n",
      "09/07/2020 21:58:56 - INFO - pytorch_pretrained_bert.tokenization -   loading vocabulary file https://s3.amazonaws.com/models.huggingface.co/bert/bert-base-uncased-vocab.txt from cache at /home/raymond/.pytorch_pretrained_bert/26bc1ad6c0ac742e9b52263248f6d0f00068293b33709fae12320c0e35ccfbbb.542ce4285a40d23a559526243235df47c5f75c197f04f37d1a0c124c32c9a084\n",
      "09/07/2020 21:58:56 - INFO - finbert.utils -   *** Example ***\n",
      "09/07/2020 21:58:56 - INFO - finbert.utils -   guid: 0\n",
      "09/07/2020 21:58:56 - INFO - finbert.utils -   tokens: [CLS] “ we see the likelihood of a deal going through as high , driving the consolidation theme in uae , ” ar ##qa ##am capital said , noting that no ##or was now the only un ##list ##ed bank in the uae , following the merger of abu dhabi counterparts al hi ##lal and abu dhabi commercial bank . [SEP]\n",
      "09/07/2020 21:58:56 - INFO - finbert.utils -   input_ids: 101 1523 2057 2156 1996 16593 1997 1037 3066 2183 2083 2004 2152 1010 4439 1996 17439 4323 1999 17641 1010 1524 12098 19062 3286 3007 2056 1010 9073 2008 2053 2953 2001 2085 1996 2069 4895 9863 2098 2924 1999 1996 17641 1010 2206 1996 7660 1997 8273 23153 14562 2632 7632 13837 1998 8273 23153 3293 2924 1012 102 0 0 0\n",
      "09/07/2020 21:58:56 - INFO - finbert.utils -   input_mask: 1 1 1 1 1 1 1 1 1 1 1 1 1 1 1 1 1 1 1 1 1 1 1 1 1 1 1 1 1 1 1 1 1 1 1 1 1 1 1 1 1 1 1 1 1 1 1 1 1 1 1 1 1 1 1 1 1 1 1 1 1 0 0 0\n",
      "09/07/2020 21:58:56 - INFO - finbert.utils -   segment_ids: 0 0 0 0 0 0 0 0 0 0 0 0 0 0 0 0 0 0 0 0 0 0 0 0 0 0 0 0 0 0 0 0 0 0 0 0 0 0 0 0 0 0 0 0 0 0 0 0 0 0 0 0 0 0 0 0 0 0 0 0 0 0 0 0\n",
      "09/07/2020 21:58:56 - INFO - finbert.utils -   label: None (id = 9090)\n",
      "09/07/2020 21:58:56 - INFO - pytorch_pretrained_bert.tokenization -   loading vocabulary file https://s3.amazonaws.com/models.huggingface.co/bert/bert-base-uncased-vocab.txt from cache at /home/raymond/.pytorch_pretrained_bert/26bc1ad6c0ac742e9b52263248f6d0f00068293b33709fae12320c0e35ccfbbb.542ce4285a40d23a559526243235df47c5f75c197f04f37d1a0c124c32c9a084\n",
      "09/07/2020 21:58:56 - INFO - finbert.utils -   *** Example ***\n",
      "09/07/2020 21:58:56 - INFO - finbert.utils -   guid: 0\n",
      "09/07/2020 21:58:56 - INFO - finbert.utils -   tokens: [CLS] saudi arabia ’ s index traded flat with bank al ##bil ##ad rising 1 . 7 percent after its first - quarter net profit grew more than 23 percent . [SEP]\n",
      "09/07/2020 21:58:56 - INFO - finbert.utils -   input_ids: 101 8174 9264 1521 1055 5950 7007 4257 2007 2924 2632 14454 4215 4803 1015 1012 1021 3867 2044 2049 2034 1011 4284 5658 5618 3473 2062 2084 2603 3867 1012 102 0 0 0 0 0 0 0 0 0 0 0 0 0 0 0 0 0 0 0 0 0 0 0 0 0 0 0 0 0 0 0 0\n",
      "09/07/2020 21:58:56 - INFO - finbert.utils -   input_mask: 1 1 1 1 1 1 1 1 1 1 1 1 1 1 1 1 1 1 1 1 1 1 1 1 1 1 1 1 1 1 1 1 0 0 0 0 0 0 0 0 0 0 0 0 0 0 0 0 0 0 0 0 0 0 0 0 0 0 0 0 0 0 0 0\n",
      "09/07/2020 21:58:56 - INFO - finbert.utils -   segment_ids: 0 0 0 0 0 0 0 0 0 0 0 0 0 0 0 0 0 0 0 0 0 0 0 0 0 0 0 0 0 0 0 0 0 0 0 0 0 0 0 0 0 0 0 0 0 0 0 0 0 0 0 0 0 0 0 0 0 0 0 0 0 0 0 0\n",
      "09/07/2020 21:58:56 - INFO - finbert.utils -   label: None (id = 9090)\n",
      "09/07/2020 21:58:57 - INFO - pytorch_pretrained_bert.tokenization -   loading vocabulary file https://s3.amazonaws.com/models.huggingface.co/bert/bert-base-uncased-vocab.txt from cache at /home/raymond/.pytorch_pretrained_bert/26bc1ad6c0ac742e9b52263248f6d0f00068293b33709fae12320c0e35ccfbbb.542ce4285a40d23a559526243235df47c5f75c197f04f37d1a0c124c32c9a084\n",
      "09/07/2020 21:58:57 - INFO - finbert.utils -   *** Example ***\n",
      "09/07/2020 21:58:57 - INFO - finbert.utils -   guid: 0\n",
      "09/07/2020 21:58:57 - INFO - finbert.utils -   tokens: [CLS] national shipping company of saudi arabia fell 4 . 1 percent as the stock traded ex - divide ##nd . [SEP]\n",
      "09/07/2020 21:58:57 - INFO - finbert.utils -   input_ids: 101 2120 7829 2194 1997 8174 9264 3062 1018 1012 1015 3867 2004 1996 4518 7007 4654 1011 11443 4859 1012 102 0 0 0 0 0 0 0 0 0 0 0 0 0 0 0 0 0 0 0 0 0 0 0 0 0 0 0 0 0 0 0 0 0 0 0 0 0 0 0 0 0 0\n",
      "09/07/2020 21:58:57 - INFO - finbert.utils -   input_mask: 1 1 1 1 1 1 1 1 1 1 1 1 1 1 1 1 1 1 1 1 1 1 0 0 0 0 0 0 0 0 0 0 0 0 0 0 0 0 0 0 0 0 0 0 0 0 0 0 0 0 0 0 0 0 0 0 0 0 0 0 0 0 0 0\n",
      "09/07/2020 21:58:57 - INFO - finbert.utils -   segment_ids: 0 0 0 0 0 0 0 0 0 0 0 0 0 0 0 0 0 0 0 0 0 0 0 0 0 0 0 0 0 0 0 0 0 0 0 0 0 0 0 0 0 0 0 0 0 0 0 0 0 0 0 0 0 0 0 0 0 0 0 0 0 0 0 0\n",
      "09/07/2020 21:58:57 - INFO - finbert.utils -   label: None (id = 9090)\n",
      "09/07/2020 21:58:58 - INFO - pytorch_pretrained_bert.tokenization -   loading vocabulary file https://s3.amazonaws.com/models.huggingface.co/bert/bert-base-uncased-vocab.txt from cache at /home/raymond/.pytorch_pretrained_bert/26bc1ad6c0ac742e9b52263248f6d0f00068293b33709fae12320c0e35ccfbbb.542ce4285a40d23a559526243235df47c5f75c197f04f37d1a0c124c32c9a084\n",
      "09/07/2020 21:58:58 - INFO - finbert.utils -   *** Example ***\n",
      "09/07/2020 21:58:58 - INFO - finbert.utils -   guid: 0\n",
      "09/07/2020 21:58:58 - INFO - finbert.utils -   tokens: [CLS] the index has gained about 16 percent so far this year as foreign buyers rushed in ahead of and after its entry into the ft ##se russell ’ s emerging market index on march 18 . [SEP]\n",
      "09/07/2020 21:58:58 - INFO - finbert.utils -   input_ids: 101 1996 5950 2038 4227 2055 2385 3867 2061 2521 2023 2095 2004 3097 17394 6760 1999 3805 1997 1998 2044 2049 4443 2046 1996 3027 3366 5735 1521 1055 8361 3006 5950 2006 2233 2324 1012 102 0 0 0 0 0 0 0 0 0 0 0 0 0 0 0 0 0 0 0 0 0 0 0 0 0 0\n",
      "09/07/2020 21:58:58 - INFO - finbert.utils -   input_mask: 1 1 1 1 1 1 1 1 1 1 1 1 1 1 1 1 1 1 1 1 1 1 1 1 1 1 1 1 1 1 1 1 1 1 1 1 1 1 0 0 0 0 0 0 0 0 0 0 0 0 0 0 0 0 0 0 0 0 0 0 0 0 0 0\n",
      "09/07/2020 21:58:58 - INFO - finbert.utils -   segment_ids: 0 0 0 0 0 0 0 0 0 0 0 0 0 0 0 0 0 0 0 0 0 0 0 0 0 0 0 0 0 0 0 0 0 0 0 0 0 0 0 0 0 0 0 0 0 0 0 0 0 0 0 0 0 0 0 0 0 0 0 0 0 0 0 0\n",
      "09/07/2020 21:58:58 - INFO - finbert.utils -   label: None (id = 9090)\n",
      "09/07/2020 21:58:58 - INFO - pytorch_pretrained_bert.tokenization -   loading vocabulary file https://s3.amazonaws.com/models.huggingface.co/bert/bert-base-uncased-vocab.txt from cache at /home/raymond/.pytorch_pretrained_bert/26bc1ad6c0ac742e9b52263248f6d0f00068293b33709fae12320c0e35ccfbbb.542ce4285a40d23a559526243235df47c5f75c197f04f37d1a0c124c32c9a084\n",
      "09/07/2020 21:58:58 - INFO - finbert.utils -   *** Example ***\n",
      "09/07/2020 21:58:58 - INFO - finbert.utils -   guid: 0\n",
      "09/07/2020 21:58:58 - INFO - finbert.utils -   tokens: [CLS] foreign investors have been net buyers of saudi stocks every week this year and bought 1 . 21 billion ri ##yal ##s ( $ 322 . 64 million ) of shares on a net basis in the last week , according to stock exchange data released late on sunday . [SEP]\n",
      "09/07/2020 21:58:58 - INFO - finbert.utils -   input_ids: 101 3097 9387 2031 2042 5658 17394 1997 8174 15768 2296 2733 2023 2095 1998 4149 1015 1012 2538 4551 15544 21095 2015 1006 1002 23768 1012 4185 2454 1007 1997 6661 2006 1037 5658 3978 1999 1996 2197 2733 1010 2429 2000 4518 3863 2951 2207 2397 2006 4465 1012 102 0 0 0 0 0 0 0 0 0 0 0 0\n"
     ]
    },
    {
     "name": "stderr",
     "output_type": "stream",
     "text": [
      "09/07/2020 21:58:58 - INFO - finbert.utils -   input_mask: 1 1 1 1 1 1 1 1 1 1 1 1 1 1 1 1 1 1 1 1 1 1 1 1 1 1 1 1 1 1 1 1 1 1 1 1 1 1 1 1 1 1 1 1 1 1 1 1 1 1 1 1 0 0 0 0 0 0 0 0 0 0 0 0\n",
      "09/07/2020 21:58:58 - INFO - finbert.utils -   segment_ids: 0 0 0 0 0 0 0 0 0 0 0 0 0 0 0 0 0 0 0 0 0 0 0 0 0 0 0 0 0 0 0 0 0 0 0 0 0 0 0 0 0 0 0 0 0 0 0 0 0 0 0 0 0 0 0 0 0 0 0 0 0 0 0 0\n",
      "09/07/2020 21:58:58 - INFO - finbert.utils -   label: None (id = 9090)\n",
      "09/07/2020 21:58:59 - INFO - pytorch_pretrained_bert.tokenization -   loading vocabulary file https://s3.amazonaws.com/models.huggingface.co/bert/bert-base-uncased-vocab.txt from cache at /home/raymond/.pytorch_pretrained_bert/26bc1ad6c0ac742e9b52263248f6d0f00068293b33709fae12320c0e35ccfbbb.542ce4285a40d23a559526243235df47c5f75c197f04f37d1a0c124c32c9a084\n",
      "09/07/2020 21:58:59 - INFO - finbert.utils -   *** Example ***\n",
      "09/07/2020 21:58:59 - INFO - finbert.utils -   guid: 0\n",
      "09/07/2020 21:58:59 - INFO - finbert.utils -   tokens: [CLS] source : reuters [SEP]\n",
      "09/07/2020 21:58:59 - INFO - finbert.utils -   input_ids: 101 3120 1024 26665 102 0 0 0 0 0 0 0 0 0 0 0 0 0 0 0 0 0 0 0 0 0 0 0 0 0 0 0 0 0 0 0 0 0 0 0 0 0 0 0 0 0 0 0 0 0 0 0 0 0 0 0 0 0 0 0 0 0 0 0\n",
      "09/07/2020 21:58:59 - INFO - finbert.utils -   input_mask: 1 1 1 1 1 0 0 0 0 0 0 0 0 0 0 0 0 0 0 0 0 0 0 0 0 0 0 0 0 0 0 0 0 0 0 0 0 0 0 0 0 0 0 0 0 0 0 0 0 0 0 0 0 0 0 0 0 0 0 0 0 0 0 0\n",
      "09/07/2020 21:58:59 - INFO - finbert.utils -   segment_ids: 0 0 0 0 0 0 0 0 0 0 0 0 0 0 0 0 0 0 0 0 0 0 0 0 0 0 0 0 0 0 0 0 0 0 0 0 0 0 0 0 0 0 0 0 0 0 0 0 0 0 0 0 0 0 0 0 0 0 0 0 0 0 0 0\n",
      "09/07/2020 21:58:59 - INFO - finbert.utils -   label: None (id = 9090)\n",
      "09/07/2020 21:58:59 - INFO - pytorch_pretrained_bert.tokenization -   loading vocabulary file https://s3.amazonaws.com/models.huggingface.co/bert/bert-base-uncased-vocab.txt from cache at /home/raymond/.pytorch_pretrained_bert/26bc1ad6c0ac742e9b52263248f6d0f00068293b33709fae12320c0e35ccfbbb.542ce4285a40d23a559526243235df47c5f75c197f04f37d1a0c124c32c9a084\n",
      "09/07/2020 21:58:59 - INFO - finbert.utils -   *** Example ***\n",
      "09/07/2020 21:58:59 - INFO - finbert.utils -   guid: 0\n",
      "09/07/2020 21:58:59 - INFO - finbert.utils -   tokens: [CLS] first abu dhabi bank ’ s ( fa ##b ) egyptian unit , one of the largest foreign banks in the country , and egyptian life tak ##af ##ul company – gig have signed thursday a ban ##cas ##sur ##ance partnership deal . [SEP]\n",
      "09/07/2020 21:58:59 - INFO - finbert.utils -   input_ids: 101 2034 8273 23153 2924 1521 1055 1006 6904 2497 1007 6811 3131 1010 2028 1997 1996 2922 3097 5085 1999 1996 2406 1010 1998 6811 2166 27006 10354 5313 2194 1516 15453 2031 2772 9432 1037 7221 15671 26210 6651 5386 3066 1012 102 0 0 0 0 0 0 0 0 0 0 0 0 0 0 0 0 0 0 0\n",
      "09/07/2020 21:58:59 - INFO - finbert.utils -   input_mask: 1 1 1 1 1 1 1 1 1 1 1 1 1 1 1 1 1 1 1 1 1 1 1 1 1 1 1 1 1 1 1 1 1 1 1 1 1 1 1 1 1 1 1 1 1 0 0 0 0 0 0 0 0 0 0 0 0 0 0 0 0 0 0 0\n",
      "09/07/2020 21:58:59 - INFO - finbert.utils -   segment_ids: 0 0 0 0 0 0 0 0 0 0 0 0 0 0 0 0 0 0 0 0 0 0 0 0 0 0 0 0 0 0 0 0 0 0 0 0 0 0 0 0 0 0 0 0 0 0 0 0 0 0 0 0 0 0 0 0 0 0 0 0 0 0 0 0\n",
      "09/07/2020 21:58:59 - INFO - finbert.utils -   label: None (id = 9090)\n",
      "09/07/2020 21:59:00 - INFO - pytorch_pretrained_bert.tokenization -   loading vocabulary file https://s3.amazonaws.com/models.huggingface.co/bert/bert-base-uncased-vocab.txt from cache at /home/raymond/.pytorch_pretrained_bert/26bc1ad6c0ac742e9b52263248f6d0f00068293b33709fae12320c0e35ccfbbb.542ce4285a40d23a559526243235df47c5f75c197f04f37d1a0c124c32c9a084\n",
      "09/07/2020 21:59:00 - INFO - finbert.utils -   *** Example ***\n",
      "09/07/2020 21:59:00 - INFO - finbert.utils -   guid: 0\n",
      "09/07/2020 21:59:00 - INFO - finbert.utils -   tokens: [CLS] the agreement lets fa ##b - egypt offer gig ’ s range of life insurance products to customers in egypt throughout its nationwide network covering cairo , alexandria , the delta , upper egypt , and the red sea . [SEP]\n",
      "09/07/2020 21:59:00 - INFO - finbert.utils -   input_ids: 101 1996 3820 11082 6904 2497 1011 5279 3749 15453 1521 1055 2846 1997 2166 5427 3688 2000 6304 1999 5279 2802 2049 9053 2897 5266 11096 1010 10297 1010 1996 7160 1010 3356 5279 1010 1998 1996 2417 2712 1012 102 0 0 0 0 0 0 0 0 0 0 0 0 0 0 0 0 0 0 0 0 0 0\n",
      "09/07/2020 21:59:00 - INFO - finbert.utils -   input_mask: 1 1 1 1 1 1 1 1 1 1 1 1 1 1 1 1 1 1 1 1 1 1 1 1 1 1 1 1 1 1 1 1 1 1 1 1 1 1 1 1 1 1 0 0 0 0 0 0 0 0 0 0 0 0 0 0 0 0 0 0 0 0 0 0\n",
      "09/07/2020 21:59:00 - INFO - finbert.utils -   segment_ids: 0 0 0 0 0 0 0 0 0 0 0 0 0 0 0 0 0 0 0 0 0 0 0 0 0 0 0 0 0 0 0 0 0 0 0 0 0 0 0 0 0 0 0 0 0 0 0 0 0 0 0 0 0 0 0 0 0 0 0 0 0 0 0 0\n",
      "09/07/2020 21:59:00 - INFO - finbert.utils -   label: None (id = 9090)\n",
      "09/07/2020 21:59:00 - INFO - pytorch_pretrained_bert.tokenization -   loading vocabulary file https://s3.amazonaws.com/models.huggingface.co/bert/bert-base-uncased-vocab.txt from cache at /home/raymond/.pytorch_pretrained_bert/26bc1ad6c0ac742e9b52263248f6d0f00068293b33709fae12320c0e35ccfbbb.542ce4285a40d23a559526243235df47c5f75c197f04f37d1a0c124c32c9a084\n",
      "09/07/2020 21:59:00 - INFO - finbert.utils -   *** Example ***\n",
      "09/07/2020 21:59:00 - INFO - finbert.utils -   guid: 0\n",
      "09/07/2020 21:59:00 - INFO - finbert.utils -   tokens: [CLS] fa ##b is the largest bank in the uae with total assets worth ae ##d 66 ##9 billion ( $ 182 billion ) . [SEP]\n",
      "09/07/2020 21:59:00 - INFO - finbert.utils -   input_ids: 101 6904 2497 2003 1996 2922 2924 1999 1996 17641 2007 2561 7045 4276 29347 2094 5764 2683 4551 1006 1002 17691 4551 1007 1012 102 0 0 0 0 0 0 0 0 0 0 0 0 0 0 0 0 0 0 0 0 0 0 0 0 0 0 0 0 0 0 0 0 0 0 0 0 0 0\n",
      "09/07/2020 21:59:00 - INFO - finbert.utils -   input_mask: 1 1 1 1 1 1 1 1 1 1 1 1 1 1 1 1 1 1 1 1 1 1 1 1 1 1 0 0 0 0 0 0 0 0 0 0 0 0 0 0 0 0 0 0 0 0 0 0 0 0 0 0 0 0 0 0 0 0 0 0 0 0 0 0\n",
      "09/07/2020 21:59:00 - INFO - finbert.utils -   segment_ids: 0 0 0 0 0 0 0 0 0 0 0 0 0 0 0 0 0 0 0 0 0 0 0 0 0 0 0 0 0 0 0 0 0 0 0 0 0 0 0 0 0 0 0 0 0 0 0 0 0 0 0 0 0 0 0 0 0 0 0 0 0 0 0 0\n",
      "09/07/2020 21:59:00 - INFO - finbert.utils -   label: None (id = 9090)\n",
      "09/07/2020 21:59:01 - INFO - pytorch_pretrained_bert.tokenization -   loading vocabulary file https://s3.amazonaws.com/models.huggingface.co/bert/bert-base-uncased-vocab.txt from cache at /home/raymond/.pytorch_pretrained_bert/26bc1ad6c0ac742e9b52263248f6d0f00068293b33709fae12320c0e35ccfbbb.542ce4285a40d23a559526243235df47c5f75c197f04f37d1a0c124c32c9a084\n",
      "09/07/2020 21:59:01 - INFO - finbert.utils -   *** Example ***\n",
      "09/07/2020 21:59:01 - INFO - finbert.utils -   guid: 0\n",
      "09/07/2020 21:59:01 - INFO - finbert.utils -   tokens: [CLS] gig has earlier reached ban ##cas ##sur ##ance partnership with four banks , bank audi - egypt , abu dhabi islamic bank ( adi ##b ) – egypt , ban ##que mis ##r ’ s islamic transactions branch , and national bank of kuwait ( n ##b ##k ) – egypt . [SEP]\n",
      "09/07/2020 21:59:01 - INFO - finbert.utils -   input_ids: 101 15453 2038 3041 2584 7221 15671 26210 6651 5386 2007 2176 5085 1010 2924 20075 1011 5279 1010 8273 23153 5499 2924 1006 27133 2497 1007 1516 5279 1010 7221 4226 28616 2099 1521 1055 5499 11817 3589 1010 1998 2120 2924 1997 13085 1006 1050 2497 2243 1007 1516 5279 1012 102 0 0 0 0 0 0 0 0 0 0\n",
      "09/07/2020 21:59:01 - INFO - finbert.utils -   input_mask: 1 1 1 1 1 1 1 1 1 1 1 1 1 1 1 1 1 1 1 1 1 1 1 1 1 1 1 1 1 1 1 1 1 1 1 1 1 1 1 1 1 1 1 1 1 1 1 1 1 1 1 1 1 1 0 0 0 0 0 0 0 0 0 0\n",
      "09/07/2020 21:59:01 - INFO - finbert.utils -   segment_ids: 0 0 0 0 0 0 0 0 0 0 0 0 0 0 0 0 0 0 0 0 0 0 0 0 0 0 0 0 0 0 0 0 0 0 0 0 0 0 0 0 0 0 0 0 0 0 0 0 0 0 0 0 0 0 0 0 0 0 0 0 0 0 0 0\n",
      "09/07/2020 21:59:01 - INFO - finbert.utils -   label: None (id = 9090)\n",
      "09/07/2020 21:59:01 - INFO - pytorch_pretrained_bert.tokenization -   loading vocabulary file https://s3.amazonaws.com/models.huggingface.co/bert/bert-base-uncased-vocab.txt from cache at /home/raymond/.pytorch_pretrained_bert/26bc1ad6c0ac742e9b52263248f6d0f00068293b33709fae12320c0e35ccfbbb.542ce4285a40d23a559526243235df47c5f75c197f04f37d1a0c124c32c9a084\n",
      "09/07/2020 21:59:01 - INFO - finbert.utils -   *** Example ***\n",
      "09/07/2020 21:59:01 - INFO - finbert.utils -   guid: 0\n",
      "09/07/2020 21:59:01 - INFO - finbert.utils -   tokens: [CLS] in february , the egyptian ins ##urer had reached a preliminary ban ##cas ##sur ##ance partnership with mis ##r iran development bank ( mid ##b ) , a jointly owned bank between egypt and iran . [SEP]\n"
     ]
    },
    {
     "name": "stderr",
     "output_type": "stream",
     "text": [
      "09/07/2020 21:59:01 - INFO - finbert.utils -   input_ids: 101 1999 2337 1010 1996 6811 16021 27595 2018 2584 1037 8824 7221 15671 26210 6651 5386 2007 28616 2099 4238 2458 2924 1006 3054 2497 1007 1010 1037 10776 3079 2924 2090 5279 1998 4238 1012 102 0 0 0 0 0 0 0 0 0 0 0 0 0 0 0 0 0 0 0 0 0 0 0 0 0 0\n",
      "09/07/2020 21:59:01 - INFO - finbert.utils -   input_mask: 1 1 1 1 1 1 1 1 1 1 1 1 1 1 1 1 1 1 1 1 1 1 1 1 1 1 1 1 1 1 1 1 1 1 1 1 1 1 0 0 0 0 0 0 0 0 0 0 0 0 0 0 0 0 0 0 0 0 0 0 0 0 0 0\n",
      "09/07/2020 21:59:01 - INFO - finbert.utils -   segment_ids: 0 0 0 0 0 0 0 0 0 0 0 0 0 0 0 0 0 0 0 0 0 0 0 0 0 0 0 0 0 0 0 0 0 0 0 0 0 0 0 0 0 0 0 0 0 0 0 0 0 0 0 0 0 0 0 0 0 0 0 0 0 0 0 0\n",
      "09/07/2020 21:59:01 - INFO - finbert.utils -   label: None (id = 9090)\n",
      "09/07/2020 21:59:02 - INFO - pytorch_pretrained_bert.tokenization -   loading vocabulary file https://s3.amazonaws.com/models.huggingface.co/bert/bert-base-uncased-vocab.txt from cache at /home/raymond/.pytorch_pretrained_bert/26bc1ad6c0ac742e9b52263248f6d0f00068293b33709fae12320c0e35ccfbbb.542ce4285a40d23a559526243235df47c5f75c197f04f37d1a0c124c32c9a084\n",
      "09/07/2020 21:59:02 - INFO - finbert.utils -   *** Example ***\n",
      "09/07/2020 21:59:02 - INFO - finbert.utils -   guid: 0\n",
      "09/07/2020 21:59:02 - INFO - finbert.utils -   tokens: [CLS] abu dhabi markets rose more than two percent early on sunday , out ##per ##form ##ing other gulf stocks , as first abu dhabi bank ( fa ##b ) increased to a two - month high after it obtained regulatory approval to raise its foreign ownership limit . [SEP]\n",
      "09/07/2020 21:59:02 - INFO - finbert.utils -   input_ids: 101 8273 23153 6089 3123 2062 2084 2048 3867 2220 2006 4465 1010 2041 4842 14192 2075 2060 6084 15768 1010 2004 2034 8273 23153 2924 1006 6904 2497 1007 3445 2000 1037 2048 1011 3204 2152 2044 2009 4663 10738 6226 2000 5333 2049 3097 6095 5787 1012 102 0 0 0 0 0 0 0 0 0 0 0 0 0 0\n",
      "09/07/2020 21:59:02 - INFO - finbert.utils -   input_mask: 1 1 1 1 1 1 1 1 1 1 1 1 1 1 1 1 1 1 1 1 1 1 1 1 1 1 1 1 1 1 1 1 1 1 1 1 1 1 1 1 1 1 1 1 1 1 1 1 1 1 0 0 0 0 0 0 0 0 0 0 0 0 0 0\n",
      "09/07/2020 21:59:02 - INFO - finbert.utils -   segment_ids: 0 0 0 0 0 0 0 0 0 0 0 0 0 0 0 0 0 0 0 0 0 0 0 0 0 0 0 0 0 0 0 0 0 0 0 0 0 0 0 0 0 0 0 0 0 0 0 0 0 0 0 0 0 0 0 0 0 0 0 0 0 0 0 0\n",
      "09/07/2020 21:59:02 - INFO - finbert.utils -   label: None (id = 9090)\n",
      "09/07/2020 21:59:02 - INFO - pytorch_pretrained_bert.tokenization -   loading vocabulary file https://s3.amazonaws.com/models.huggingface.co/bert/bert-base-uncased-vocab.txt from cache at /home/raymond/.pytorch_pretrained_bert/26bc1ad6c0ac742e9b52263248f6d0f00068293b33709fae12320c0e35ccfbbb.542ce4285a40d23a559526243235df47c5f75c197f04f37d1a0c124c32c9a084\n",
      "09/07/2020 21:59:03 - INFO - finbert.utils -   *** Example ***\n",
      "09/07/2020 21:59:03 - INFO - finbert.utils -   guid: 0\n",
      "09/07/2020 21:59:03 - INFO - finbert.utils -   tokens: [CLS] foreigners will be allowed to own as much as 40 percent of fa ##b stock from a previous limit of 25 percent , lifting fa ##b shares by as much as 4 . 6 percent . [SEP]\n",
      "09/07/2020 21:59:03 - INFO - finbert.utils -   input_ids: 101 15040 2097 2022 3039 2000 2219 2004 2172 2004 2871 3867 1997 6904 2497 4518 2013 1037 3025 5787 1997 2423 3867 1010 8783 6904 2497 6661 2011 2004 2172 2004 1018 1012 1020 3867 1012 102 0 0 0 0 0 0 0 0 0 0 0 0 0 0 0 0 0 0 0 0 0 0 0 0 0 0\n",
      "09/07/2020 21:59:03 - INFO - finbert.utils -   input_mask: 1 1 1 1 1 1 1 1 1 1 1 1 1 1 1 1 1 1 1 1 1 1 1 1 1 1 1 1 1 1 1 1 1 1 1 1 1 1 0 0 0 0 0 0 0 0 0 0 0 0 0 0 0 0 0 0 0 0 0 0 0 0 0 0\n",
      "09/07/2020 21:59:03 - INFO - finbert.utils -   segment_ids: 0 0 0 0 0 0 0 0 0 0 0 0 0 0 0 0 0 0 0 0 0 0 0 0 0 0 0 0 0 0 0 0 0 0 0 0 0 0 0 0 0 0 0 0 0 0 0 0 0 0 0 0 0 0 0 0 0 0 0 0 0 0 0 0\n",
      "09/07/2020 21:59:03 - INFO - finbert.utils -   label: None (id = 9090)\n",
      "09/07/2020 21:59:03 - INFO - pytorch_pretrained_bert.tokenization -   loading vocabulary file https://s3.amazonaws.com/models.huggingface.co/bert/bert-base-uncased-vocab.txt from cache at /home/raymond/.pytorch_pretrained_bert/26bc1ad6c0ac742e9b52263248f6d0f00068293b33709fae12320c0e35ccfbbb.542ce4285a40d23a559526243235df47c5f75c197f04f37d1a0c124c32c9a084\n",
      "09/07/2020 21:59:03 - INFO - finbert.utils -   *** Example ***\n",
      "09/07/2020 21:59:03 - INFO - finbert.utils -   guid: 0\n",
      "09/07/2020 21:59:03 - INFO - finbert.utils -   tokens: [CLS] at 07 ##12 gm ##t , fa ##b shares were trading at 15 . 52 dir ##ham ##s ( $ 4 . 23 ) , their highest level since early february . [SEP]\n",
      "09/07/2020 21:59:03 - INFO - finbert.utils -   input_ids: 101 2012 5718 12521 13938 2102 1010 6904 2497 6661 2020 6202 2012 2321 1012 4720 16101 3511 2015 1006 1002 1018 1012 2603 1007 1010 2037 3284 2504 2144 2220 2337 1012 102 0 0 0 0 0 0 0 0 0 0 0 0 0 0 0 0 0 0 0 0 0 0 0 0 0 0 0 0 0 0\n",
      "09/07/2020 21:59:03 - INFO - finbert.utils -   input_mask: 1 1 1 1 1 1 1 1 1 1 1 1 1 1 1 1 1 1 1 1 1 1 1 1 1 1 1 1 1 1 1 1 1 1 0 0 0 0 0 0 0 0 0 0 0 0 0 0 0 0 0 0 0 0 0 0 0 0 0 0 0 0 0 0\n",
      "09/07/2020 21:59:03 - INFO - finbert.utils -   segment_ids: 0 0 0 0 0 0 0 0 0 0 0 0 0 0 0 0 0 0 0 0 0 0 0 0 0 0 0 0 0 0 0 0 0 0 0 0 0 0 0 0 0 0 0 0 0 0 0 0 0 0 0 0 0 0 0 0 0 0 0 0 0 0 0 0\n",
      "09/07/2020 21:59:03 - INFO - finbert.utils -   label: None (id = 9090)\n",
      "09/07/2020 21:59:03 - INFO - pytorch_pretrained_bert.tokenization -   loading vocabulary file https://s3.amazonaws.com/models.huggingface.co/bert/bert-base-uncased-vocab.txt from cache at /home/raymond/.pytorch_pretrained_bert/26bc1ad6c0ac742e9b52263248f6d0f00068293b33709fae12320c0e35ccfbbb.542ce4285a40d23a559526243235df47c5f75c197f04f37d1a0c124c32c9a084\n",
      "09/07/2020 21:59:03 - INFO - finbert.utils -   *** Example ***\n",
      "09/07/2020 21:59:03 - INFO - finbert.utils -   guid: 0\n",
      "09/07/2020 21:59:03 - INFO - finbert.utils -   tokens: [CLS] dubai shares were flat on weakness in em ##aar properties , but shares of emirates n ##b ##d were up 1 . 3 percent after the bank said it had sold more shares in the london initial public offering of network international after exercising a greens ##hoe option . [SEP]\n",
      "09/07/2020 21:59:03 - INFO - finbert.utils -   input_ids: 101 11558 6661 2020 4257 2006 11251 1999 7861 26526 5144 1010 2021 6661 1997 14041 1050 2497 2094 2020 2039 1015 1012 1017 3867 2044 1996 2924 2056 2009 2018 2853 2062 6661 1999 1996 2414 3988 2270 5378 1997 2897 2248 2044 28428 1037 15505 14490 5724 1012 102 0 0 0 0 0 0 0 0 0 0 0 0 0\n",
      "09/07/2020 21:59:03 - INFO - finbert.utils -   input_mask: 1 1 1 1 1 1 1 1 1 1 1 1 1 1 1 1 1 1 1 1 1 1 1 1 1 1 1 1 1 1 1 1 1 1 1 1 1 1 1 1 1 1 1 1 1 1 1 1 1 1 1 0 0 0 0 0 0 0 0 0 0 0 0 0\n",
      "09/07/2020 21:59:03 - INFO - finbert.utils -   segment_ids: 0 0 0 0 0 0 0 0 0 0 0 0 0 0 0 0 0 0 0 0 0 0 0 0 0 0 0 0 0 0 0 0 0 0 0 0 0 0 0 0 0 0 0 0 0 0 0 0 0 0 0 0 0 0 0 0 0 0 0 0 0 0 0 0\n",
      "09/07/2020 21:59:03 - INFO - finbert.utils -   label: None (id = 9090)\n",
      "09/07/2020 21:59:04 - INFO - pytorch_pretrained_bert.tokenization -   loading vocabulary file https://s3.amazonaws.com/models.huggingface.co/bert/bert-base-uncased-vocab.txt from cache at /home/raymond/.pytorch_pretrained_bert/26bc1ad6c0ac742e9b52263248f6d0f00068293b33709fae12320c0e35ccfbbb.542ce4285a40d23a559526243235df47c5f75c197f04f37d1a0c124c32c9a084\n",
      "09/07/2020 21:59:04 - INFO - finbert.utils -   *** Example ***\n",
      "09/07/2020 21:59:04 - INFO - finbert.utils -   guid: 0\n",
      "09/07/2020 21:59:04 - INFO - finbert.utils -   tokens: [CLS] saudi stocks made a lack ##lus ##tre start to the week due to weakness in financial stocks amid profit taking after robust gains in the gulf region ’ s biggest stock market this year . [SEP]\n",
      "09/07/2020 21:59:04 - INFO - finbert.utils -   input_ids: 101 8174 15768 2081 1037 3768 7393 7913 2707 2000 1996 2733 2349 2000 11251 1999 3361 15768 13463 5618 2635 2044 15873 12154 1999 1996 6084 2555 1521 1055 5221 4518 3006 2023 2095 1012 102 0 0 0 0 0 0 0 0 0 0 0 0 0 0 0 0 0 0 0 0 0 0 0 0 0 0 0\n",
      "09/07/2020 21:59:04 - INFO - finbert.utils -   input_mask: 1 1 1 1 1 1 1 1 1 1 1 1 1 1 1 1 1 1 1 1 1 1 1 1 1 1 1 1 1 1 1 1 1 1 1 1 1 0 0 0 0 0 0 0 0 0 0 0 0 0 0 0 0 0 0 0 0 0 0 0 0 0 0 0\n",
      "09/07/2020 21:59:04 - INFO - finbert.utils -   segment_ids: 0 0 0 0 0 0 0 0 0 0 0 0 0 0 0 0 0 0 0 0 0 0 0 0 0 0 0 0 0 0 0 0 0 0 0 0 0 0 0 0 0 0 0 0 0 0 0 0 0 0 0 0 0 0 0 0 0 0 0 0 0 0 0 0\n",
      "09/07/2020 21:59:04 - INFO - finbert.utils -   label: None (id = 9090)\n"
     ]
    },
    {
     "name": "stderr",
     "output_type": "stream",
     "text": [
      "09/07/2020 21:59:04 - INFO - pytorch_pretrained_bert.tokenization -   loading vocabulary file https://s3.amazonaws.com/models.huggingface.co/bert/bert-base-uncased-vocab.txt from cache at /home/raymond/.pytorch_pretrained_bert/26bc1ad6c0ac742e9b52263248f6d0f00068293b33709fae12320c0e35ccfbbb.542ce4285a40d23a559526243235df47c5f75c197f04f37d1a0c124c32c9a084\n",
      "09/07/2020 21:59:05 - INFO - finbert.utils -   *** Example ***\n",
      "09/07/2020 21:59:05 - INFO - finbert.utils -   guid: 0\n",
      "09/07/2020 21:59:05 - INFO - finbert.utils -   tokens: [CLS] the index was trading 0 . 2 percent lower with national commercial bank down 0 . 9 percent and ri ##yad bank down almost 1 percent . [SEP]\n",
      "09/07/2020 21:59:05 - INFO - finbert.utils -   input_ids: 101 1996 5950 2001 6202 1014 1012 1016 3867 2896 2007 2120 3293 2924 2091 1014 1012 1023 3867 1998 15544 25152 2924 2091 2471 1015 3867 1012 102 0 0 0 0 0 0 0 0 0 0 0 0 0 0 0 0 0 0 0 0 0 0 0 0 0 0 0 0 0 0 0 0 0 0 0\n",
      "09/07/2020 21:59:05 - INFO - finbert.utils -   input_mask: 1 1 1 1 1 1 1 1 1 1 1 1 1 1 1 1 1 1 1 1 1 1 1 1 1 1 1 1 1 0 0 0 0 0 0 0 0 0 0 0 0 0 0 0 0 0 0 0 0 0 0 0 0 0 0 0 0 0 0 0 0 0 0 0\n",
      "09/07/2020 21:59:05 - INFO - finbert.utils -   segment_ids: 0 0 0 0 0 0 0 0 0 0 0 0 0 0 0 0 0 0 0 0 0 0 0 0 0 0 0 0 0 0 0 0 0 0 0 0 0 0 0 0 0 0 0 0 0 0 0 0 0 0 0 0 0 0 0 0 0 0 0 0 0 0 0 0\n",
      "09/07/2020 21:59:05 - INFO - finbert.utils -   label: None (id = 9090)\n",
      "09/07/2020 21:59:05 - INFO - pytorch_pretrained_bert.tokenization -   loading vocabulary file https://s3.amazonaws.com/models.huggingface.co/bert/bert-base-uncased-vocab.txt from cache at /home/raymond/.pytorch_pretrained_bert/26bc1ad6c0ac742e9b52263248f6d0f00068293b33709fae12320c0e35ccfbbb.542ce4285a40d23a559526243235df47c5f75c197f04f37d1a0c124c32c9a084\n",
      "09/07/2020 21:59:05 - INFO - finbert.utils -   *** Example ***\n",
      "09/07/2020 21:59:05 - INFO - finbert.utils -   guid: 0\n",
      "09/07/2020 21:59:05 - INFO - finbert.utils -   tokens: [CLS] the index is still up 16 percent so far this year , fuel ##led by an increase in foreign fund flows as it entered the ft ##se russell ’ s emerging - market index on march 18 . [SEP]\n",
      "09/07/2020 21:59:05 - INFO - finbert.utils -   input_ids: 101 1996 5950 2003 2145 2039 2385 3867 2061 2521 2023 2095 1010 4762 3709 2011 2019 3623 1999 3097 4636 6223 2004 2009 3133 1996 3027 3366 5735 1521 1055 8361 1011 3006 5950 2006 2233 2324 1012 102 0 0 0 0 0 0 0 0 0 0 0 0 0 0 0 0 0 0 0 0 0 0 0 0\n",
      "09/07/2020 21:59:05 - INFO - finbert.utils -   input_mask: 1 1 1 1 1 1 1 1 1 1 1 1 1 1 1 1 1 1 1 1 1 1 1 1 1 1 1 1 1 1 1 1 1 1 1 1 1 1 1 1 0 0 0 0 0 0 0 0 0 0 0 0 0 0 0 0 0 0 0 0 0 0 0 0\n",
      "09/07/2020 21:59:05 - INFO - finbert.utils -   segment_ids: 0 0 0 0 0 0 0 0 0 0 0 0 0 0 0 0 0 0 0 0 0 0 0 0 0 0 0 0 0 0 0 0 0 0 0 0 0 0 0 0 0 0 0 0 0 0 0 0 0 0 0 0 0 0 0 0 0 0 0 0 0 0 0 0\n",
      "09/07/2020 21:59:05 - INFO - finbert.utils -   label: None (id = 9090)\n",
      "09/07/2020 21:59:05 - INFO - pytorch_pretrained_bert.tokenization -   loading vocabulary file https://s3.amazonaws.com/models.huggingface.co/bert/bert-base-uncased-vocab.txt from cache at /home/raymond/.pytorch_pretrained_bert/26bc1ad6c0ac742e9b52263248f6d0f00068293b33709fae12320c0e35ccfbbb.542ce4285a40d23a559526243235df47c5f75c197f04f37d1a0c124c32c9a084\n",
      "09/07/2020 21:59:05 - INFO - finbert.utils -   *** Example ***\n",
      "09/07/2020 21:59:05 - INFO - finbert.utils -   guid: 0\n",
      "09/07/2020 21:59:05 - INFO - finbert.utils -   tokens: [CLS] qatar ##i stocks were down 0 . 5 percent , weighed down by a 0 . 7 percent drop in market heavyweight industries qatar and a 1 . 4 percent drop in qatar insurance company . [SEP]\n",
      "09/07/2020 21:59:05 - INFO - finbert.utils -   input_ids: 101 12577 2072 15768 2020 2091 1014 1012 1019 3867 1010 12781 2091 2011 1037 1014 1012 1021 3867 4530 1999 3006 8366 6088 12577 1998 1037 1015 1012 1018 3867 4530 1999 12577 5427 2194 1012 102 0 0 0 0 0 0 0 0 0 0 0 0 0 0 0 0 0 0 0 0 0 0 0 0 0 0\n",
      "09/07/2020 21:59:05 - INFO - finbert.utils -   input_mask: 1 1 1 1 1 1 1 1 1 1 1 1 1 1 1 1 1 1 1 1 1 1 1 1 1 1 1 1 1 1 1 1 1 1 1 1 1 1 0 0 0 0 0 0 0 0 0 0 0 0 0 0 0 0 0 0 0 0 0 0 0 0 0 0\n",
      "09/07/2020 21:59:05 - INFO - finbert.utils -   segment_ids: 0 0 0 0 0 0 0 0 0 0 0 0 0 0 0 0 0 0 0 0 0 0 0 0 0 0 0 0 0 0 0 0 0 0 0 0 0 0 0 0 0 0 0 0 0 0 0 0 0 0 0 0 0 0 0 0 0 0 0 0 0 0 0 0\n",
      "09/07/2020 21:59:05 - INFO - finbert.utils -   label: None (id = 9090)\n",
      "09/07/2020 21:59:06 - INFO - pytorch_pretrained_bert.tokenization -   loading vocabulary file https://s3.amazonaws.com/models.huggingface.co/bert/bert-base-uncased-vocab.txt from cache at /home/raymond/.pytorch_pretrained_bert/26bc1ad6c0ac742e9b52263248f6d0f00068293b33709fae12320c0e35ccfbbb.542ce4285a40d23a559526243235df47c5f75c197f04f37d1a0c124c32c9a084\n",
      "09/07/2020 21:59:06 - INFO - finbert.utils -   *** Example ***\n",
      "09/07/2020 21:59:06 - INFO - finbert.utils -   guid: 0\n",
      "09/07/2020 21:59:06 - INFO - finbert.utils -   tokens: [CLS] source : reuters [SEP]\n",
      "09/07/2020 21:59:06 - INFO - finbert.utils -   input_ids: 101 3120 1024 26665 102 0 0 0 0 0 0 0 0 0 0 0 0 0 0 0 0 0 0 0 0 0 0 0 0 0 0 0 0 0 0 0 0 0 0 0 0 0 0 0 0 0 0 0 0 0 0 0 0 0 0 0 0 0 0 0 0 0 0 0\n",
      "09/07/2020 21:59:06 - INFO - finbert.utils -   input_mask: 1 1 1 1 1 0 0 0 0 0 0 0 0 0 0 0 0 0 0 0 0 0 0 0 0 0 0 0 0 0 0 0 0 0 0 0 0 0 0 0 0 0 0 0 0 0 0 0 0 0 0 0 0 0 0 0 0 0 0 0 0 0 0 0\n",
      "09/07/2020 21:59:06 - INFO - finbert.utils -   segment_ids: 0 0 0 0 0 0 0 0 0 0 0 0 0 0 0 0 0 0 0 0 0 0 0 0 0 0 0 0 0 0 0 0 0 0 0 0 0 0 0 0 0 0 0 0 0 0 0 0 0 0 0 0 0 0 0 0 0 0 0 0 0 0 0 0\n",
      "09/07/2020 21:59:06 - INFO - finbert.utils -   label: None (id = 9090)\n",
      "09/07/2020 21:59:06 - INFO - pytorch_pretrained_bert.tokenization -   loading vocabulary file https://s3.amazonaws.com/models.huggingface.co/bert/bert-base-uncased-vocab.txt from cache at /home/raymond/.pytorch_pretrained_bert/26bc1ad6c0ac742e9b52263248f6d0f00068293b33709fae12320c0e35ccfbbb.542ce4285a40d23a559526243235df47c5f75c197f04f37d1a0c124c32c9a084\n",
      "09/07/2020 21:59:07 - INFO - finbert.utils -   *** Example ***\n",
      "09/07/2020 21:59:07 - INFO - finbert.utils -   guid: 0\n",
      "09/07/2020 21:59:07 - INFO - finbert.utils -   tokens: [CLS] key gulf stocks mostly down , fa ##b weighs on abu dhabi index [SEP]\n",
      "09/07/2020 21:59:07 - INFO - finbert.utils -   input_ids: 101 3145 6084 15768 3262 2091 1010 6904 2497 21094 2006 8273 23153 5950 102 0 0 0 0 0 0 0 0 0 0 0 0 0 0 0 0 0 0 0 0 0 0 0 0 0 0 0 0 0 0 0 0 0 0 0 0 0 0 0 0 0 0 0 0 0 0 0 0 0\n",
      "09/07/2020 21:59:07 - INFO - finbert.utils -   input_mask: 1 1 1 1 1 1 1 1 1 1 1 1 1 1 1 0 0 0 0 0 0 0 0 0 0 0 0 0 0 0 0 0 0 0 0 0 0 0 0 0 0 0 0 0 0 0 0 0 0 0 0 0 0 0 0 0 0 0 0 0 0 0 0 0\n",
      "09/07/2020 21:59:07 - INFO - finbert.utils -   segment_ids: 0 0 0 0 0 0 0 0 0 0 0 0 0 0 0 0 0 0 0 0 0 0 0 0 0 0 0 0 0 0 0 0 0 0 0 0 0 0 0 0 0 0 0 0 0 0 0 0 0 0 0 0 0 0 0 0 0 0 0 0 0 0 0 0\n",
      "09/07/2020 21:59:07 - INFO - finbert.utils -   label: None (id = 9090)\n",
      "09/07/2020 21:59:07 - INFO - pytorch_pretrained_bert.tokenization -   loading vocabulary file https://s3.amazonaws.com/models.huggingface.co/bert/bert-base-uncased-vocab.txt from cache at /home/raymond/.pytorch_pretrained_bert/26bc1ad6c0ac742e9b52263248f6d0f00068293b33709fae12320c0e35ccfbbb.542ce4285a40d23a559526243235df47c5f75c197f04f37d1a0c124c32c9a084\n",
      "09/07/2020 21:59:07 - INFO - finbert.utils -   *** Example ***\n",
      "09/07/2020 21:59:07 - INFO - finbert.utils -   guid: 0\n",
      "09/07/2020 21:59:07 - INFO - finbert.utils -   tokens: [CLS] abu dhabi ’ s stock index dropped on monday as its financial shares , particularly first abu dhabi bank weighed on . [SEP]\n",
      "09/07/2020 21:59:07 - INFO - finbert.utils -   input_ids: 101 8273 23153 1521 1055 4518 5950 3333 2006 6928 2004 2049 3361 6661 1010 3391 2034 8273 23153 2924 12781 2006 1012 102 0 0 0 0 0 0 0 0 0 0 0 0 0 0 0 0 0 0 0 0 0 0 0 0 0 0 0 0 0 0 0 0 0 0 0 0 0 0 0 0\n",
      "09/07/2020 21:59:07 - INFO - finbert.utils -   input_mask: 1 1 1 1 1 1 1 1 1 1 1 1 1 1 1 1 1 1 1 1 1 1 1 1 0 0 0 0 0 0 0 0 0 0 0 0 0 0 0 0 0 0 0 0 0 0 0 0 0 0 0 0 0 0 0 0 0 0 0 0 0 0 0 0\n",
      "09/07/2020 21:59:07 - INFO - finbert.utils -   segment_ids: 0 0 0 0 0 0 0 0 0 0 0 0 0 0 0 0 0 0 0 0 0 0 0 0 0 0 0 0 0 0 0 0 0 0 0 0 0 0 0 0 0 0 0 0 0 0 0 0 0 0 0 0 0 0 0 0 0 0 0 0 0 0 0 0\n",
      "09/07/2020 21:59:07 - INFO - finbert.utils -   label: None (id = 9090)\n",
      "09/07/2020 21:59:08 - INFO - pytorch_pretrained_bert.tokenization -   loading vocabulary file https://s3.amazonaws.com/models.huggingface.co/bert/bert-base-uncased-vocab.txt from cache at /home/raymond/.pytorch_pretrained_bert/26bc1ad6c0ac742e9b52263248f6d0f00068293b33709fae12320c0e35ccfbbb.542ce4285a40d23a559526243235df47c5f75c197f04f37d1a0c124c32c9a084\n"
     ]
    },
    {
     "name": "stderr",
     "output_type": "stream",
     "text": [
      "09/07/2020 21:59:08 - INFO - finbert.utils -   *** Example ***\n",
      "09/07/2020 21:59:08 - INFO - finbert.utils -   guid: 0\n",
      "09/07/2020 21:59:08 - INFO - finbert.utils -   tokens: [CLS] the abu dhabi index lost 1 percent , with first abu dhabi bank shed ##ding 1 . 5 percent before announcing its first - quarter results later in the day . [SEP]\n",
      "09/07/2020 21:59:08 - INFO - finbert.utils -   input_ids: 101 1996 8273 23153 5950 2439 1015 3867 1010 2007 2034 8273 23153 2924 8328 4667 1015 1012 1019 3867 2077 13856 2049 2034 1011 4284 3463 2101 1999 1996 2154 1012 102 0 0 0 0 0 0 0 0 0 0 0 0 0 0 0 0 0 0 0 0 0 0 0 0 0 0 0 0 0 0 0\n",
      "09/07/2020 21:59:08 - INFO - finbert.utils -   input_mask: 1 1 1 1 1 1 1 1 1 1 1 1 1 1 1 1 1 1 1 1 1 1 1 1 1 1 1 1 1 1 1 1 1 0 0 0 0 0 0 0 0 0 0 0 0 0 0 0 0 0 0 0 0 0 0 0 0 0 0 0 0 0 0 0\n",
      "09/07/2020 21:59:08 - INFO - finbert.utils -   segment_ids: 0 0 0 0 0 0 0 0 0 0 0 0 0 0 0 0 0 0 0 0 0 0 0 0 0 0 0 0 0 0 0 0 0 0 0 0 0 0 0 0 0 0 0 0 0 0 0 0 0 0 0 0 0 0 0 0 0 0 0 0 0 0 0 0\n",
      "09/07/2020 21:59:08 - INFO - finbert.utils -   label: None (id = 9090)\n",
      "09/07/2020 21:59:08 - INFO - pytorch_pretrained_bert.tokenization -   loading vocabulary file https://s3.amazonaws.com/models.huggingface.co/bert/bert-base-uncased-vocab.txt from cache at /home/raymond/.pytorch_pretrained_bert/26bc1ad6c0ac742e9b52263248f6d0f00068293b33709fae12320c0e35ccfbbb.542ce4285a40d23a559526243235df47c5f75c197f04f37d1a0c124c32c9a084\n",
      "09/07/2020 21:59:08 - INFO - finbert.utils -   *** Example ***\n",
      "09/07/2020 21:59:08 - INFO - finbert.utils -   guid: 0\n",
      "09/07/2020 21:59:08 - INFO - finbert.utils -   tokens: [CLS] dana gas slid 2 . 1 percent to drop for the third straight session . [SEP]\n",
      "09/07/2020 21:59:08 - INFO - finbert.utils -   input_ids: 101 11271 3806 4934 1016 1012 1015 3867 2000 4530 2005 1996 2353 3442 5219 1012 102 0 0 0 0 0 0 0 0 0 0 0 0 0 0 0 0 0 0 0 0 0 0 0 0 0 0 0 0 0 0 0 0 0 0 0 0 0 0 0 0 0 0 0 0 0 0 0\n",
      "09/07/2020 21:59:08 - INFO - finbert.utils -   input_mask: 1 1 1 1 1 1 1 1 1 1 1 1 1 1 1 1 1 0 0 0 0 0 0 0 0 0 0 0 0 0 0 0 0 0 0 0 0 0 0 0 0 0 0 0 0 0 0 0 0 0 0 0 0 0 0 0 0 0 0 0 0 0 0 0\n",
      "09/07/2020 21:59:08 - INFO - finbert.utils -   segment_ids: 0 0 0 0 0 0 0 0 0 0 0 0 0 0 0 0 0 0 0 0 0 0 0 0 0 0 0 0 0 0 0 0 0 0 0 0 0 0 0 0 0 0 0 0 0 0 0 0 0 0 0 0 0 0 0 0 0 0 0 0 0 0 0 0\n",
      "09/07/2020 21:59:08 - INFO - finbert.utils -   label: None (id = 9090)\n",
      "09/07/2020 21:59:09 - INFO - pytorch_pretrained_bert.tokenization -   loading vocabulary file https://s3.amazonaws.com/models.huggingface.co/bert/bert-base-uncased-vocab.txt from cache at /home/raymond/.pytorch_pretrained_bert/26bc1ad6c0ac742e9b52263248f6d0f00068293b33709fae12320c0e35ccfbbb.542ce4285a40d23a559526243235df47c5f75c197f04f37d1a0c124c32c9a084\n",
      "09/07/2020 21:59:09 - INFO - finbert.utils -   *** Example ***\n",
      "09/07/2020 21:59:09 - INFO - finbert.utils -   guid: 0\n",
      "09/07/2020 21:59:09 - INFO - finbert.utils -   tokens: [CLS] saudi arabia ’ s main index was the only market to gain in early trading , going up 0 . 1 percent . [SEP]\n",
      "09/07/2020 21:59:09 - INFO - finbert.utils -   input_ids: 101 8174 9264 1521 1055 2364 5950 2001 1996 2069 3006 2000 5114 1999 2220 6202 1010 2183 2039 1014 1012 1015 3867 1012 102 0 0 0 0 0 0 0 0 0 0 0 0 0 0 0 0 0 0 0 0 0 0 0 0 0 0 0 0 0 0 0 0 0 0 0 0 0 0 0\n",
      "09/07/2020 21:59:09 - INFO - finbert.utils -   input_mask: 1 1 1 1 1 1 1 1 1 1 1 1 1 1 1 1 1 1 1 1 1 1 1 1 1 0 0 0 0 0 0 0 0 0 0 0 0 0 0 0 0 0 0 0 0 0 0 0 0 0 0 0 0 0 0 0 0 0 0 0 0 0 0 0\n",
      "09/07/2020 21:59:09 - INFO - finbert.utils -   segment_ids: 0 0 0 0 0 0 0 0 0 0 0 0 0 0 0 0 0 0 0 0 0 0 0 0 0 0 0 0 0 0 0 0 0 0 0 0 0 0 0 0 0 0 0 0 0 0 0 0 0 0 0 0 0 0 0 0 0 0 0 0 0 0 0 0\n",
      "09/07/2020 21:59:09 - INFO - finbert.utils -   label: None (id = 9090)\n",
      "09/07/2020 21:59:09 - INFO - pytorch_pretrained_bert.tokenization -   loading vocabulary file https://s3.amazonaws.com/models.huggingface.co/bert/bert-base-uncased-vocab.txt from cache at /home/raymond/.pytorch_pretrained_bert/26bc1ad6c0ac742e9b52263248f6d0f00068293b33709fae12320c0e35ccfbbb.542ce4285a40d23a559526243235df47c5f75c197f04f37d1a0c124c32c9a084\n",
      "09/07/2020 21:59:10 - INFO - finbert.utils -   *** Example ***\n",
      "09/07/2020 21:59:10 - INFO - finbert.utils -   guid: 0\n",
      "09/07/2020 21:59:10 - INFO - finbert.utils -   tokens: [CLS] za ##hra ##t al wah ##a gained 1 . 5 percent after posting a two - fold rise in its first - quarter net profit . [SEP]\n",
      "09/07/2020 21:59:10 - INFO - finbert.utils -   input_ids: 101 23564 13492 2102 2632 22894 2050 4227 1015 1012 1019 3867 2044 14739 1037 2048 1011 10671 4125 1999 2049 2034 1011 4284 5658 5618 1012 102 0 0 0 0 0 0 0 0 0 0 0 0 0 0 0 0 0 0 0 0 0 0 0 0 0 0 0 0 0 0 0 0 0 0 0 0\n",
      "09/07/2020 21:59:10 - INFO - finbert.utils -   input_mask: 1 1 1 1 1 1 1 1 1 1 1 1 1 1 1 1 1 1 1 1 1 1 1 1 1 1 1 1 0 0 0 0 0 0 0 0 0 0 0 0 0 0 0 0 0 0 0 0 0 0 0 0 0 0 0 0 0 0 0 0 0 0 0 0\n",
      "09/07/2020 21:59:10 - INFO - finbert.utils -   segment_ids: 0 0 0 0 0 0 0 0 0 0 0 0 0 0 0 0 0 0 0 0 0 0 0 0 0 0 0 0 0 0 0 0 0 0 0 0 0 0 0 0 0 0 0 0 0 0 0 0 0 0 0 0 0 0 0 0 0 0 0 0 0 0 0 0\n",
      "09/07/2020 21:59:10 - INFO - finbert.utils -   label: None (id = 9090)\n",
      "09/07/2020 21:59:10 - INFO - pytorch_pretrained_bert.tokenization -   loading vocabulary file https://s3.amazonaws.com/models.huggingface.co/bert/bert-base-uncased-vocab.txt from cache at /home/raymond/.pytorch_pretrained_bert/26bc1ad6c0ac742e9b52263248f6d0f00068293b33709fae12320c0e35ccfbbb.542ce4285a40d23a559526243235df47c5f75c197f04f37d1a0c124c32c9a084\n",
      "09/07/2020 21:59:10 - INFO - finbert.utils -   *** Example ***\n",
      "09/07/2020 21:59:10 - INFO - finbert.utils -   guid: 0\n",
      "09/07/2020 21:59:10 - INFO - finbert.utils -   tokens: [CLS] dubai ’ s index slipped 0 . 2 percent for its fifth straight day of loss , partly due to a 4 . 3 percent decline by dubai islamic insurance and reins ##urance after its shareholders elected against a divide ##nd distribution for 2018 . [SEP]\n",
      "09/07/2020 21:59:10 - INFO - finbert.utils -   input_ids: 101 11558 1521 1055 5950 5707 1014 1012 1016 3867 2005 2049 3587 3442 2154 1997 3279 1010 6576 2349 2000 1037 1018 1012 1017 3867 6689 2011 11558 5499 5427 1998 19222 25863 2044 2049 15337 2700 2114 1037 11443 4859 4353 2005 2760 1012 102 0 0 0 0 0 0 0 0 0 0 0 0 0 0 0 0 0\n",
      "09/07/2020 21:59:10 - INFO - finbert.utils -   input_mask: 1 1 1 1 1 1 1 1 1 1 1 1 1 1 1 1 1 1 1 1 1 1 1 1 1 1 1 1 1 1 1 1 1 1 1 1 1 1 1 1 1 1 1 1 1 1 1 0 0 0 0 0 0 0 0 0 0 0 0 0 0 0 0 0\n",
      "09/07/2020 21:59:10 - INFO - finbert.utils -   segment_ids: 0 0 0 0 0 0 0 0 0 0 0 0 0 0 0 0 0 0 0 0 0 0 0 0 0 0 0 0 0 0 0 0 0 0 0 0 0 0 0 0 0 0 0 0 0 0 0 0 0 0 0 0 0 0 0 0 0 0 0 0 0 0 0 0\n",
      "09/07/2020 21:59:10 - INFO - finbert.utils -   label: None (id = 9090)\n",
      "09/07/2020 21:59:11 - INFO - pytorch_pretrained_bert.tokenization -   loading vocabulary file https://s3.amazonaws.com/models.huggingface.co/bert/bert-base-uncased-vocab.txt from cache at /home/raymond/.pytorch_pretrained_bert/26bc1ad6c0ac742e9b52263248f6d0f00068293b33709fae12320c0e35ccfbbb.542ce4285a40d23a559526243235df47c5f75c197f04f37d1a0c124c32c9a084\n",
      "09/07/2020 21:59:11 - INFO - finbert.utils -   *** Example ***\n",
      "09/07/2020 21:59:11 - INFO - finbert.utils -   guid: 0\n",
      "09/07/2020 21:59:11 - INFO - finbert.utils -   tokens: [CLS] islamic arab insurance co also fell 1 . 6 percent after its shareholders decided against a divide ##nd distribution for the year . [SEP]\n",
      "09/07/2020 21:59:11 - INFO - finbert.utils -   input_ids: 101 5499 5424 5427 2522 2036 3062 1015 1012 1020 3867 2044 2049 15337 2787 2114 1037 11443 4859 4353 2005 1996 2095 1012 102 0 0 0 0 0 0 0 0 0 0 0 0 0 0 0 0 0 0 0 0 0 0 0 0 0 0 0 0 0 0 0 0 0 0 0 0 0 0 0\n",
      "09/07/2020 21:59:11 - INFO - finbert.utils -   input_mask: 1 1 1 1 1 1 1 1 1 1 1 1 1 1 1 1 1 1 1 1 1 1 1 1 1 0 0 0 0 0 0 0 0 0 0 0 0 0 0 0 0 0 0 0 0 0 0 0 0 0 0 0 0 0 0 0 0 0 0 0 0 0 0 0\n",
      "09/07/2020 21:59:11 - INFO - finbert.utils -   segment_ids: 0 0 0 0 0 0 0 0 0 0 0 0 0 0 0 0 0 0 0 0 0 0 0 0 0 0 0 0 0 0 0 0 0 0 0 0 0 0 0 0 0 0 0 0 0 0 0 0 0 0 0 0 0 0 0 0 0 0 0 0 0 0 0 0\n",
      "09/07/2020 21:59:11 - INFO - finbert.utils -   label: None (id = 9090)\n",
      "09/07/2020 21:59:12 - INFO - pytorch_pretrained_bert.tokenization -   loading vocabulary file https://s3.amazonaws.com/models.huggingface.co/bert/bert-base-uncased-vocab.txt from cache at /home/raymond/.pytorch_pretrained_bert/26bc1ad6c0ac742e9b52263248f6d0f00068293b33709fae12320c0e35ccfbbb.542ce4285a40d23a559526243235df47c5f75c197f04f37d1a0c124c32c9a084\n"
     ]
    },
    {
     "name": "stderr",
     "output_type": "stream",
     "text": [
      "09/07/2020 21:59:12 - INFO - finbert.utils -   *** Example ***\n",
      "09/07/2020 21:59:12 - INFO - finbert.utils -   guid: 0\n",
      "09/07/2020 21:59:12 - INFO - finbert.utils -   tokens: [CLS] qatar ’ s blue - chip index was down 0 . 1 percent . [SEP]\n",
      "09/07/2020 21:59:12 - INFO - finbert.utils -   input_ids: 101 12577 1521 1055 2630 1011 9090 5950 2001 2091 1014 1012 1015 3867 1012 102 0 0 0 0 0 0 0 0 0 0 0 0 0 0 0 0 0 0 0 0 0 0 0 0 0 0 0 0 0 0 0 0 0 0 0 0 0 0 0 0 0 0 0 0 0 0 0 0\n",
      "09/07/2020 21:59:12 - INFO - finbert.utils -   input_mask: 1 1 1 1 1 1 1 1 1 1 1 1 1 1 1 1 0 0 0 0 0 0 0 0 0 0 0 0 0 0 0 0 0 0 0 0 0 0 0 0 0 0 0 0 0 0 0 0 0 0 0 0 0 0 0 0 0 0 0 0 0 0 0 0\n",
      "09/07/2020 21:59:12 - INFO - finbert.utils -   segment_ids: 0 0 0 0 0 0 0 0 0 0 0 0 0 0 0 0 0 0 0 0 0 0 0 0 0 0 0 0 0 0 0 0 0 0 0 0 0 0 0 0 0 0 0 0 0 0 0 0 0 0 0 0 0 0 0 0 0 0 0 0 0 0 0 0\n",
      "09/07/2020 21:59:12 - INFO - finbert.utils -   label: None (id = 9090)\n",
      "09/07/2020 21:59:12 - INFO - pytorch_pretrained_bert.tokenization -   loading vocabulary file https://s3.amazonaws.com/models.huggingface.co/bert/bert-base-uncased-vocab.txt from cache at /home/raymond/.pytorch_pretrained_bert/26bc1ad6c0ac742e9b52263248f6d0f00068293b33709fae12320c0e35ccfbbb.542ce4285a40d23a559526243235df47c5f75c197f04f37d1a0c124c32c9a084\n",
      "09/07/2020 21:59:13 - INFO - finbert.utils -   *** Example ***\n",
      "09/07/2020 21:59:13 - INFO - finbert.utils -   guid: 0\n",
      "09/07/2020 21:59:13 - INFO - finbert.utils -   tokens: [CLS] source : reuters [SEP]\n",
      "09/07/2020 21:59:13 - INFO - finbert.utils -   input_ids: 101 3120 1024 26665 102 0 0 0 0 0 0 0 0 0 0 0 0 0 0 0 0 0 0 0 0 0 0 0 0 0 0 0 0 0 0 0 0 0 0 0 0 0 0 0 0 0 0 0 0 0 0 0 0 0 0 0 0 0 0 0 0 0 0 0\n",
      "09/07/2020 21:59:13 - INFO - finbert.utils -   input_mask: 1 1 1 1 1 0 0 0 0 0 0 0 0 0 0 0 0 0 0 0 0 0 0 0 0 0 0 0 0 0 0 0 0 0 0 0 0 0 0 0 0 0 0 0 0 0 0 0 0 0 0 0 0 0 0 0 0 0 0 0 0 0 0 0\n",
      "09/07/2020 21:59:13 - INFO - finbert.utils -   segment_ids: 0 0 0 0 0 0 0 0 0 0 0 0 0 0 0 0 0 0 0 0 0 0 0 0 0 0 0 0 0 0 0 0 0 0 0 0 0 0 0 0 0 0 0 0 0 0 0 0 0 0 0 0 0 0 0 0 0 0 0 0 0 0 0 0\n",
      "09/07/2020 21:59:13 - INFO - finbert.utils -   label: None (id = 9090)\n",
      "09/07/2020 21:59:13 - INFO - pytorch_pretrained_bert.tokenization -   loading vocabulary file https://s3.amazonaws.com/models.huggingface.co/bert/bert-base-uncased-vocab.txt from cache at /home/raymond/.pytorch_pretrained_bert/26bc1ad6c0ac742e9b52263248f6d0f00068293b33709fae12320c0e35ccfbbb.542ce4285a40d23a559526243235df47c5f75c197f04f37d1a0c124c32c9a084\n",
      "09/07/2020 21:59:13 - INFO - finbert.utils -   *** Example ***\n",
      "09/07/2020 21:59:13 - INFO - finbert.utils -   guid: 0\n",
      "09/07/2020 21:59:13 - INFO - finbert.utils -   tokens: [CLS] uae ’ s biggest lend ##er , first abu dhabi bank ( fa ##b ) plans to restart negotiations to buy the egyptian unit of lebanon ’ s bank audi , two sources familiar with the matter told reuters on sunday . [SEP]\n",
      "09/07/2020 21:59:13 - INFO - finbert.utils -   input_ids: 101 17641 1521 1055 5221 18496 2121 1010 2034 8273 23153 2924 1006 6904 2497 1007 3488 2000 23818 7776 2000 4965 1996 6811 3131 1997 8341 1521 1055 2924 20075 1010 2048 4216 5220 2007 1996 3043 2409 26665 2006 4465 1012 102 0 0 0 0 0 0 0 0 0 0 0 0 0 0 0 0 0 0 0 0\n",
      "09/07/2020 21:59:13 - INFO - finbert.utils -   input_mask: 1 1 1 1 1 1 1 1 1 1 1 1 1 1 1 1 1 1 1 1 1 1 1 1 1 1 1 1 1 1 1 1 1 1 1 1 1 1 1 1 1 1 1 1 0 0 0 0 0 0 0 0 0 0 0 0 0 0 0 0 0 0 0 0\n",
      "09/07/2020 21:59:13 - INFO - finbert.utils -   segment_ids: 0 0 0 0 0 0 0 0 0 0 0 0 0 0 0 0 0 0 0 0 0 0 0 0 0 0 0 0 0 0 0 0 0 0 0 0 0 0 0 0 0 0 0 0 0 0 0 0 0 0 0 0 0 0 0 0 0 0 0 0 0 0 0 0\n",
      "09/07/2020 21:59:13 - INFO - finbert.utils -   label: None (id = 9090)\n",
      "09/07/2020 21:59:13 - INFO - pytorch_pretrained_bert.tokenization -   loading vocabulary file https://s3.amazonaws.com/models.huggingface.co/bert/bert-base-uncased-vocab.txt from cache at /home/raymond/.pytorch_pretrained_bert/26bc1ad6c0ac742e9b52263248f6d0f00068293b33709fae12320c0e35ccfbbb.542ce4285a40d23a559526243235df47c5f75c197f04f37d1a0c124c32c9a084\n",
      "09/07/2020 21:59:14 - INFO - finbert.utils -   *** Example ***\n",
      "09/07/2020 21:59:14 - INFO - finbert.utils -   guid: 0\n",
      "09/07/2020 21:59:14 - INFO - finbert.utils -   tokens: [CLS] fa ##b will have an internal meeting this week to decide on a way to resume talks and put in a final bid , one of the sources told reuters , declining to be named as the matter is not public yet . [SEP]\n",
      "09/07/2020 21:59:14 - INFO - finbert.utils -   input_ids: 101 6904 2497 2097 2031 2019 4722 3116 2023 2733 2000 5630 2006 1037 2126 2000 13746 7566 1998 2404 1999 1037 2345 7226 1010 2028 1997 1996 4216 2409 26665 1010 13993 2000 2022 2315 2004 1996 3043 2003 2025 2270 2664 1012 102 0 0 0 0 0 0 0 0 0 0 0 0 0 0 0 0 0 0 0\n",
      "09/07/2020 21:59:14 - INFO - finbert.utils -   input_mask: 1 1 1 1 1 1 1 1 1 1 1 1 1 1 1 1 1 1 1 1 1 1 1 1 1 1 1 1 1 1 1 1 1 1 1 1 1 1 1 1 1 1 1 1 1 0 0 0 0 0 0 0 0 0 0 0 0 0 0 0 0 0 0 0\n",
      "09/07/2020 21:59:14 - INFO - finbert.utils -   segment_ids: 0 0 0 0 0 0 0 0 0 0 0 0 0 0 0 0 0 0 0 0 0 0 0 0 0 0 0 0 0 0 0 0 0 0 0 0 0 0 0 0 0 0 0 0 0 0 0 0 0 0 0 0 0 0 0 0 0 0 0 0 0 0 0 0\n",
      "09/07/2020 21:59:14 - INFO - finbert.utils -   label: None (id = 9090)\n",
      "09/07/2020 21:59:14 - INFO - pytorch_pretrained_bert.tokenization -   loading vocabulary file https://s3.amazonaws.com/models.huggingface.co/bert/bert-base-uncased-vocab.txt from cache at /home/raymond/.pytorch_pretrained_bert/26bc1ad6c0ac742e9b52263248f6d0f00068293b33709fae12320c0e35ccfbbb.542ce4285a40d23a559526243235df47c5f75c197f04f37d1a0c124c32c9a084\n",
      "09/07/2020 21:59:14 - INFO - finbert.utils -   *** Example ***\n",
      "09/07/2020 21:59:14 - INFO - finbert.utils -   guid: 0\n",
      "09/07/2020 21:59:14 - INFO - finbert.utils -   tokens: [CLS] meanwhile , a second source told reuters that fa ##b planned to restart talks within two weeks . [SEP]\n",
      "09/07/2020 21:59:14 - INFO - finbert.utils -   input_ids: 101 5564 1010 1037 2117 3120 2409 26665 2008 6904 2497 3740 2000 23818 7566 2306 2048 3134 1012 102 0 0 0 0 0 0 0 0 0 0 0 0 0 0 0 0 0 0 0 0 0 0 0 0 0 0 0 0 0 0 0 0 0 0 0 0 0 0 0 0 0 0 0 0\n",
      "09/07/2020 21:59:14 - INFO - finbert.utils -   input_mask: 1 1 1 1 1 1 1 1 1 1 1 1 1 1 1 1 1 1 1 1 0 0 0 0 0 0 0 0 0 0 0 0 0 0 0 0 0 0 0 0 0 0 0 0 0 0 0 0 0 0 0 0 0 0 0 0 0 0 0 0 0 0 0 0\n",
      "09/07/2020 21:59:14 - INFO - finbert.utils -   segment_ids: 0 0 0 0 0 0 0 0 0 0 0 0 0 0 0 0 0 0 0 0 0 0 0 0 0 0 0 0 0 0 0 0 0 0 0 0 0 0 0 0 0 0 0 0 0 0 0 0 0 0 0 0 0 0 0 0 0 0 0 0 0 0 0 0\n",
      "09/07/2020 21:59:14 - INFO - finbert.utils -   label: None (id = 9090)\n",
      "09/07/2020 21:59:14 - INFO - pytorch_pretrained_bert.tokenization -   loading vocabulary file https://s3.amazonaws.com/models.huggingface.co/bert/bert-base-uncased-vocab.txt from cache at /home/raymond/.pytorch_pretrained_bert/26bc1ad6c0ac742e9b52263248f6d0f00068293b33709fae12320c0e35ccfbbb.542ce4285a40d23a559526243235df47c5f75c197f04f37d1a0c124c32c9a084\n",
      "09/07/2020 21:59:15 - INFO - finbert.utils -   *** Example ***\n",
      "09/07/2020 21:59:15 - INFO - finbert.utils -   guid: 0\n",
      "09/07/2020 21:59:15 - INFO - finbert.utils -   tokens: [CLS] fa ##b declined to make any comments . [SEP]\n",
      "09/07/2020 21:59:15 - INFO - finbert.utils -   input_ids: 101 6904 2497 6430 2000 2191 2151 7928 1012 102 0 0 0 0 0 0 0 0 0 0 0 0 0 0 0 0 0 0 0 0 0 0 0 0 0 0 0 0 0 0 0 0 0 0 0 0 0 0 0 0 0 0 0 0 0 0 0 0 0 0 0 0 0 0\n",
      "09/07/2020 21:59:15 - INFO - finbert.utils -   input_mask: 1 1 1 1 1 1 1 1 1 1 0 0 0 0 0 0 0 0 0 0 0 0 0 0 0 0 0 0 0 0 0 0 0 0 0 0 0 0 0 0 0 0 0 0 0 0 0 0 0 0 0 0 0 0 0 0 0 0 0 0 0 0 0 0\n",
      "09/07/2020 21:59:15 - INFO - finbert.utils -   segment_ids: 0 0 0 0 0 0 0 0 0 0 0 0 0 0 0 0 0 0 0 0 0 0 0 0 0 0 0 0 0 0 0 0 0 0 0 0 0 0 0 0 0 0 0 0 0 0 0 0 0 0 0 0 0 0 0 0 0 0 0 0 0 0 0 0\n",
      "09/07/2020 21:59:15 - INFO - finbert.utils -   label: None (id = 9090)\n",
      "09/07/2020 21:59:15 - INFO - pytorch_pretrained_bert.tokenization -   loading vocabulary file https://s3.amazonaws.com/models.huggingface.co/bert/bert-base-uncased-vocab.txt from cache at /home/raymond/.pytorch_pretrained_bert/26bc1ad6c0ac742e9b52263248f6d0f00068293b33709fae12320c0e35ccfbbb.542ce4285a40d23a559526243235df47c5f75c197f04f37d1a0c124c32c9a084\n",
      "09/07/2020 21:59:15 - INFO - finbert.utils -   *** Example ***\n",
      "09/07/2020 21:59:15 - INFO - finbert.utils -   guid: 0\n",
      "09/07/2020 21:59:15 - INFO - finbert.utils -   tokens: [CLS] in may , fa ##b put talks on hold due to difficult market conditions driven by the corona ##virus pan ##de ##mic . [SEP]\n"
     ]
    },
    {
     "name": "stderr",
     "output_type": "stream",
     "text": [
      "09/07/2020 21:59:15 - INFO - finbert.utils -   input_ids: 101 1999 2089 1010 6904 2497 2404 7566 2006 2907 2349 2000 3697 3006 3785 5533 2011 1996 21887 23350 6090 3207 7712 1012 102 0 0 0 0 0 0 0 0 0 0 0 0 0 0 0 0 0 0 0 0 0 0 0 0 0 0 0 0 0 0 0 0 0 0 0 0 0 0 0\n",
      "09/07/2020 21:59:15 - INFO - finbert.utils -   input_mask: 1 1 1 1 1 1 1 1 1 1 1 1 1 1 1 1 1 1 1 1 1 1 1 1 1 0 0 0 0 0 0 0 0 0 0 0 0 0 0 0 0 0 0 0 0 0 0 0 0 0 0 0 0 0 0 0 0 0 0 0 0 0 0 0\n",
      "09/07/2020 21:59:15 - INFO - finbert.utils -   segment_ids: 0 0 0 0 0 0 0 0 0 0 0 0 0 0 0 0 0 0 0 0 0 0 0 0 0 0 0 0 0 0 0 0 0 0 0 0 0 0 0 0 0 0 0 0 0 0 0 0 0 0 0 0 0 0 0 0 0 0 0 0 0 0 0 0\n",
      "09/07/2020 21:59:15 - INFO - finbert.utils -   label: None (id = 9090)\n",
      "09/07/2020 21:59:15 - INFO - pytorch_pretrained_bert.tokenization -   loading vocabulary file https://s3.amazonaws.com/models.huggingface.co/bert/bert-base-uncased-vocab.txt from cache at /home/raymond/.pytorch_pretrained_bert/26bc1ad6c0ac742e9b52263248f6d0f00068293b33709fae12320c0e35ccfbbb.542ce4285a40d23a559526243235df47c5f75c197f04f37d1a0c124c32c9a084\n",
      "09/07/2020 21:59:16 - INFO - finbert.utils -   *** Example ***\n",
      "09/07/2020 21:59:16 - INFO - finbert.utils -   guid: 0\n",
      "09/07/2020 21:59:16 - INFO - finbert.utils -   tokens: [CLS] a source familiar with the matter said then that the acquisition offer was worth around $ 700 million . [SEP]\n",
      "09/07/2020 21:59:16 - INFO - finbert.utils -   input_ids: 101 1037 3120 5220 2007 1996 3043 2056 2059 2008 1996 7654 3749 2001 4276 2105 1002 6352 2454 1012 102 0 0 0 0 0 0 0 0 0 0 0 0 0 0 0 0 0 0 0 0 0 0 0 0 0 0 0 0 0 0 0 0 0 0 0 0 0 0 0 0 0 0 0\n",
      "09/07/2020 21:59:16 - INFO - finbert.utils -   input_mask: 1 1 1 1 1 1 1 1 1 1 1 1 1 1 1 1 1 1 1 1 1 0 0 0 0 0 0 0 0 0 0 0 0 0 0 0 0 0 0 0 0 0 0 0 0 0 0 0 0 0 0 0 0 0 0 0 0 0 0 0 0 0 0 0\n",
      "09/07/2020 21:59:16 - INFO - finbert.utils -   segment_ids: 0 0 0 0 0 0 0 0 0 0 0 0 0 0 0 0 0 0 0 0 0 0 0 0 0 0 0 0 0 0 0 0 0 0 0 0 0 0 0 0 0 0 0 0 0 0 0 0 0 0 0 0 0 0 0 0 0 0 0 0 0 0 0 0\n",
      "09/07/2020 21:59:16 - INFO - finbert.utils -   label: None (id = 9090)\n",
      "09/07/2020 21:59:16 - INFO - pytorch_pretrained_bert.tokenization -   loading vocabulary file https://s3.amazonaws.com/models.huggingface.co/bert/bert-base-uncased-vocab.txt from cache at /home/raymond/.pytorch_pretrained_bert/26bc1ad6c0ac742e9b52263248f6d0f00068293b33709fae12320c0e35ccfbbb.542ce4285a40d23a559526243235df47c5f75c197f04f37d1a0c124c32c9a084\n",
      "09/07/2020 21:59:16 - INFO - finbert.utils -   *** Example ***\n",
      "09/07/2020 21:59:16 - INFO - finbert.utils -   guid: 0\n",
      "09/07/2020 21:59:16 - INFO - finbert.utils -   tokens: [CLS] bank audi egypt has grown from a three - branch operation taken over by bank audi in 2005 to 50 branches with total assets of $ 4 . 4 billion as of the end of september 2019 . [SEP]\n",
      "09/07/2020 21:59:16 - INFO - finbert.utils -   input_ids: 101 2924 20075 5279 2038 4961 2013 1037 2093 1011 3589 3169 2579 2058 2011 2924 20075 1999 2384 2000 2753 5628 2007 2561 7045 1997 1002 1018 1012 1018 4551 2004 1997 1996 2203 1997 2244 10476 1012 102 0 0 0 0 0 0 0 0 0 0 0 0 0 0 0 0 0 0 0 0 0 0 0 0\n",
      "09/07/2020 21:59:16 - INFO - finbert.utils -   input_mask: 1 1 1 1 1 1 1 1 1 1 1 1 1 1 1 1 1 1 1 1 1 1 1 1 1 1 1 1 1 1 1 1 1 1 1 1 1 1 1 1 0 0 0 0 0 0 0 0 0 0 0 0 0 0 0 0 0 0 0 0 0 0 0 0\n",
      "09/07/2020 21:59:16 - INFO - finbert.utils -   segment_ids: 0 0 0 0 0 0 0 0 0 0 0 0 0 0 0 0 0 0 0 0 0 0 0 0 0 0 0 0 0 0 0 0 0 0 0 0 0 0 0 0 0 0 0 0 0 0 0 0 0 0 0 0 0 0 0 0 0 0 0 0 0 0 0 0\n",
      "09/07/2020 21:59:16 - INFO - finbert.utils -   label: None (id = 9090)\n",
      "09/07/2020 21:59:16 - INFO - pytorch_pretrained_bert.tokenization -   loading vocabulary file https://s3.amazonaws.com/models.huggingface.co/bert/bert-base-uncased-vocab.txt from cache at /home/raymond/.pytorch_pretrained_bert/26bc1ad6c0ac742e9b52263248f6d0f00068293b33709fae12320c0e35ccfbbb.542ce4285a40d23a559526243235df47c5f75c197f04f37d1a0c124c32c9a084\n",
      "09/07/2020 21:59:17 - INFO - finbert.utils -   *** Example ***\n",
      "09/07/2020 21:59:17 - INFO - finbert.utils -   guid: 0\n",
      "09/07/2020 21:59:17 - INFO - finbert.utils -   tokens: [CLS] gulf lend ##ers are seeking to expand their market share in egypt , the arab world ’ s most populous country . [SEP]\n",
      "09/07/2020 21:59:17 - INFO - finbert.utils -   input_ids: 101 6084 18496 2545 2024 6224 2000 7818 2037 3006 3745 1999 5279 1010 1996 5424 2088 1521 1055 2087 20151 2406 1012 102 0 0 0 0 0 0 0 0 0 0 0 0 0 0 0 0 0 0 0 0 0 0 0 0 0 0 0 0 0 0 0 0 0 0 0 0 0 0 0 0\n",
      "09/07/2020 21:59:17 - INFO - finbert.utils -   input_mask: 1 1 1 1 1 1 1 1 1 1 1 1 1 1 1 1 1 1 1 1 1 1 1 1 0 0 0 0 0 0 0 0 0 0 0 0 0 0 0 0 0 0 0 0 0 0 0 0 0 0 0 0 0 0 0 0 0 0 0 0 0 0 0 0\n",
      "09/07/2020 21:59:17 - INFO - finbert.utils -   segment_ids: 0 0 0 0 0 0 0 0 0 0 0 0 0 0 0 0 0 0 0 0 0 0 0 0 0 0 0 0 0 0 0 0 0 0 0 0 0 0 0 0 0 0 0 0 0 0 0 0 0 0 0 0 0 0 0 0 0 0 0 0 0 0 0 0\n",
      "09/07/2020 21:59:17 - INFO - finbert.utils -   label: None (id = 9090)\n",
      "09/07/2020 21:59:17 - INFO - pytorch_pretrained_bert.tokenization -   loading vocabulary file https://s3.amazonaws.com/models.huggingface.co/bert/bert-base-uncased-vocab.txt from cache at /home/raymond/.pytorch_pretrained_bert/26bc1ad6c0ac742e9b52263248f6d0f00068293b33709fae12320c0e35ccfbbb.542ce4285a40d23a559526243235df47c5f75c197f04f37d1a0c124c32c9a084\n",
      "09/07/2020 21:59:17 - INFO - finbert.utils -   *** Example ***\n",
      "09/07/2020 21:59:17 - INFO - finbert.utils -   guid: 0\n",
      "09/07/2020 21:59:17 - INFO - finbert.utils -   tokens: [CLS] emirates n ##b ##d , dubai ’ s largest lend ##er , is currently negotiating to take over the egyptian unit of lebanon ’ s b ##lom bank . [SEP]\n",
      "09/07/2020 21:59:17 - INFO - finbert.utils -   input_ids: 101 14041 1050 2497 2094 1010 11558 1521 1055 2922 18496 2121 1010 2003 2747 18875 2000 2202 2058 1996 6811 3131 1997 8341 1521 1055 1038 21297 2924 1012 102 0 0 0 0 0 0 0 0 0 0 0 0 0 0 0 0 0 0 0 0 0 0 0 0 0 0 0 0 0 0 0 0 0\n",
      "09/07/2020 21:59:17 - INFO - finbert.utils -   input_mask: 1 1 1 1 1 1 1 1 1 1 1 1 1 1 1 1 1 1 1 1 1 1 1 1 1 1 1 1 1 1 1 0 0 0 0 0 0 0 0 0 0 0 0 0 0 0 0 0 0 0 0 0 0 0 0 0 0 0 0 0 0 0 0 0\n",
      "09/07/2020 21:59:17 - INFO - finbert.utils -   segment_ids: 0 0 0 0 0 0 0 0 0 0 0 0 0 0 0 0 0 0 0 0 0 0 0 0 0 0 0 0 0 0 0 0 0 0 0 0 0 0 0 0 0 0 0 0 0 0 0 0 0 0 0 0 0 0 0 0 0 0 0 0 0 0 0 0\n",
      "09/07/2020 21:59:17 - INFO - finbert.utils -   label: None (id = 9090)\n",
      "09/07/2020 21:59:17 - INFO - pytorch_pretrained_bert.tokenization -   loading vocabulary file https://s3.amazonaws.com/models.huggingface.co/bert/bert-base-uncased-vocab.txt from cache at /home/raymond/.pytorch_pretrained_bert/26bc1ad6c0ac742e9b52263248f6d0f00068293b33709fae12320c0e35ccfbbb.542ce4285a40d23a559526243235df47c5f75c197f04f37d1a0c124c32c9a084\n",
      "09/07/2020 21:59:18 - INFO - finbert.utils -   *** Example ***\n",
      "09/07/2020 21:59:18 - INFO - finbert.utils -   guid: 0\n",
      "09/07/2020 21:59:18 - INFO - finbert.utils -   tokens: [CLS] given the exceptional circumstances caused by the corona ##virus crisis , first abu dhabi bank ( fa ##b ) has suspended all talks to buy the egyptian assets of lebanon ’ s bank audi , the two lend ##ers said in a joint statement monday . [SEP]\n",
      "09/07/2020 21:59:18 - INFO - finbert.utils -   input_ids: 101 2445 1996 11813 6214 3303 2011 1996 21887 23350 5325 1010 2034 8273 23153 2924 1006 6904 2497 1007 2038 6731 2035 7566 2000 4965 1996 6811 7045 1997 8341 1521 1055 2924 20075 1010 1996 2048 18496 2545 2056 1999 1037 4101 4861 6928 1012 102 0 0 0 0 0 0 0 0 0 0 0 0 0 0 0 0\n",
      "09/07/2020 21:59:18 - INFO - finbert.utils -   input_mask: 1 1 1 1 1 1 1 1 1 1 1 1 1 1 1 1 1 1 1 1 1 1 1 1 1 1 1 1 1 1 1 1 1 1 1 1 1 1 1 1 1 1 1 1 1 1 1 1 0 0 0 0 0 0 0 0 0 0 0 0 0 0 0 0\n",
      "09/07/2020 21:59:18 - INFO - finbert.utils -   segment_ids: 0 0 0 0 0 0 0 0 0 0 0 0 0 0 0 0 0 0 0 0 0 0 0 0 0 0 0 0 0 0 0 0 0 0 0 0 0 0 0 0 0 0 0 0 0 0 0 0 0 0 0 0 0 0 0 0 0 0 0 0 0 0 0 0\n",
      "09/07/2020 21:59:18 - INFO - finbert.utils -   label: None (id = 9090)\n",
      "09/07/2020 21:59:18 - INFO - pytorch_pretrained_bert.tokenization -   loading vocabulary file https://s3.amazonaws.com/models.huggingface.co/bert/bert-base-uncased-vocab.txt from cache at /home/raymond/.pytorch_pretrained_bert/26bc1ad6c0ac742e9b52263248f6d0f00068293b33709fae12320c0e35ccfbbb.542ce4285a40d23a559526243235df47c5f75c197f04f37d1a0c124c32c9a084\n"
     ]
    },
    {
     "name": "stderr",
     "output_type": "stream",
     "text": [
      "09/07/2020 21:59:18 - INFO - finbert.utils -   *** Example ***\n",
      "09/07/2020 21:59:18 - INFO - finbert.utils -   guid: 0\n",
      "09/07/2020 21:59:18 - INFO - finbert.utils -   tokens: [CLS] “ despite the inc ##omp ##let ##ion of the sale deal due to the exceptional by the corona ##virus crisis which has led to the suspension of all talks , we would like to thank first abu dhabi bank for its efforts and creative discussions . ” said bank audi ’ s chief financial officer tame ##r g ##ha ##zal ##eh . [SEP]\n",
      "09/07/2020 21:59:18 - INFO - finbert.utils -   input_ids: 101 1523 2750 1996 4297 25377 7485 3258 1997 1996 5096 3066 2349 2000 1996 11813 2011 1996 21887 23350 5325 2029 2038 2419 2000 1996 8636 1997 2035 7566 1010 2057 2052 2066 2000 4067 2034 8273 23153 2924 2005 2049 4073 1998 5541 10287 1012 1524 2056 2924 20075 1521 1055 2708 3361 2961 24763 2099 1043 3270 16739 11106 1012 102\n",
      "09/07/2020 21:59:18 - INFO - finbert.utils -   input_mask: 1 1 1 1 1 1 1 1 1 1 1 1 1 1 1 1 1 1 1 1 1 1 1 1 1 1 1 1 1 1 1 1 1 1 1 1 1 1 1 1 1 1 1 1 1 1 1 1 1 1 1 1 1 1 1 1 1 1 1 1 1 1 1 1\n",
      "09/07/2020 21:59:18 - INFO - finbert.utils -   segment_ids: 0 0 0 0 0 0 0 0 0 0 0 0 0 0 0 0 0 0 0 0 0 0 0 0 0 0 0 0 0 0 0 0 0 0 0 0 0 0 0 0 0 0 0 0 0 0 0 0 0 0 0 0 0 0 0 0 0 0 0 0 0 0 0 0\n",
      "09/07/2020 21:59:18 - INFO - finbert.utils -   label: None (id = 9090)\n",
      "09/07/2020 21:59:18 - INFO - pytorch_pretrained_bert.tokenization -   loading vocabulary file https://s3.amazonaws.com/models.huggingface.co/bert/bert-base-uncased-vocab.txt from cache at /home/raymond/.pytorch_pretrained_bert/26bc1ad6c0ac742e9b52263248f6d0f00068293b33709fae12320c0e35ccfbbb.542ce4285a40d23a559526243235df47c5f75c197f04f37d1a0c124c32c9a084\n",
      "09/07/2020 21:59:19 - INFO - finbert.utils -   *** Example ***\n",
      "09/07/2020 21:59:19 - INFO - finbert.utils -   guid: 0\n",
      "09/07/2020 21:59:19 - INFO - finbert.utils -   tokens: [CLS] mohamed bed ##ir , the ceo of bank audi egypt , said in a media egypt is proud to take the lead in the bank audi group in terms of its exceptional profit ##ability and growth rates since its inception besides its position among private banks in egypt and being in a country that enjoys a political and economic stability … ” [SEP]\n",
      "09/07/2020 21:59:19 - INFO - finbert.utils -   input_ids: 101 14467 2793 4313 1010 1996 5766 1997 2924 20075 5279 1010 2056 1999 1037 2865 5279 2003 7098 2000 2202 1996 2599 1999 1996 2924 20075 2177 1999 3408 1997 2049 11813 5618 8010 1998 3930 6165 2144 2049 12149 4661 2049 2597 2426 2797 5085 1999 5279 1998 2108 1999 1037 2406 2008 15646 1037 2576 1998 3171 9211 1529 1524 102\n",
      "09/07/2020 21:59:19 - INFO - finbert.utils -   input_mask: 1 1 1 1 1 1 1 1 1 1 1 1 1 1 1 1 1 1 1 1 1 1 1 1 1 1 1 1 1 1 1 1 1 1 1 1 1 1 1 1 1 1 1 1 1 1 1 1 1 1 1 1 1 1 1 1 1 1 1 1 1 1 1 1\n",
      "09/07/2020 21:59:19 - INFO - finbert.utils -   segment_ids: 0 0 0 0 0 0 0 0 0 0 0 0 0 0 0 0 0 0 0 0 0 0 0 0 0 0 0 0 0 0 0 0 0 0 0 0 0 0 0 0 0 0 0 0 0 0 0 0 0 0 0 0 0 0 0 0 0 0 0 0 0 0 0 0\n",
      "09/07/2020 21:59:19 - INFO - finbert.utils -   label: None (id = 9090)\n",
      "09/07/2020 21:59:19 - INFO - pytorch_pretrained_bert.tokenization -   loading vocabulary file https://s3.amazonaws.com/models.huggingface.co/bert/bert-base-uncased-vocab.txt from cache at /home/raymond/.pytorch_pretrained_bert/26bc1ad6c0ac742e9b52263248f6d0f00068293b33709fae12320c0e35ccfbbb.542ce4285a40d23a559526243235df47c5f75c197f04f37d1a0c124c32c9a084\n",
      "09/07/2020 21:59:19 - INFO - finbert.utils -   *** Example ***\n",
      "09/07/2020 21:59:19 - INFO - finbert.utils -   guid: 0\n",
      "09/07/2020 21:59:19 - INFO - finbert.utils -   tokens: [CLS] the deal by fa ##b , the uae ’ s biggest lend ##er , to buy bank audi egypt for was worth $ 700 million but the timing was now not right due to the need to support the uae economy in light of the pan ##de ##mic , an informed source told reuters earlier the day . [SEP]\n",
      "09/07/2020 21:59:19 - INFO - finbert.utils -   input_ids: 101 1996 3066 2011 6904 2497 1010 1996 17641 1521 1055 5221 18496 2121 1010 2000 4965 2924 20075 5279 2005 2001 4276 1002 6352 2454 2021 1996 10984 2001 2085 2025 2157 2349 2000 1996 2342 2000 2490 1996 17641 4610 1999 2422 1997 1996 6090 3207 7712 1010 2019 6727 3120 2409 26665 3041 1996 2154 1012 102 0 0 0 0\n",
      "09/07/2020 21:59:19 - INFO - finbert.utils -   input_mask: 1 1 1 1 1 1 1 1 1 1 1 1 1 1 1 1 1 1 1 1 1 1 1 1 1 1 1 1 1 1 1 1 1 1 1 1 1 1 1 1 1 1 1 1 1 1 1 1 1 1 1 1 1 1 1 1 1 1 1 1 0 0 0 0\n",
      "09/07/2020 21:59:19 - INFO - finbert.utils -   segment_ids: 0 0 0 0 0 0 0 0 0 0 0 0 0 0 0 0 0 0 0 0 0 0 0 0 0 0 0 0 0 0 0 0 0 0 0 0 0 0 0 0 0 0 0 0 0 0 0 0 0 0 0 0 0 0 0 0 0 0 0 0 0 0 0 0\n",
      "09/07/2020 21:59:19 - INFO - finbert.utils -   label: None (id = 9090)\n",
      "09/07/2020 21:59:19 - INFO - pytorch_pretrained_bert.tokenization -   loading vocabulary file https://s3.amazonaws.com/models.huggingface.co/bert/bert-base-uncased-vocab.txt from cache at /home/raymond/.pytorch_pretrained_bert/26bc1ad6c0ac742e9b52263248f6d0f00068293b33709fae12320c0e35ccfbbb.542ce4285a40d23a559526243235df47c5f75c197f04f37d1a0c124c32c9a084\n",
      "09/07/2020 21:59:19 - INFO - finbert.utils -   *** Example ***\n",
      "09/07/2020 21:59:19 - INFO - finbert.utils -   guid: 0\n",
      "09/07/2020 21:59:19 - INFO - finbert.utils -   tokens: [CLS] lebanese banks are trying to boost their finances as the country endure ##s its worst financial crisis since the civil war . [SEP]\n",
      "09/07/2020 21:59:19 - INFO - finbert.utils -   input_ids: 101 12592 5085 2024 2667 2000 12992 2037 16156 2004 1996 2406 18094 2015 2049 5409 3361 5325 2144 1996 2942 2162 1012 102 0 0 0 0 0 0 0 0 0 0 0 0 0 0 0 0 0 0 0 0 0 0 0 0 0 0 0 0 0 0 0 0 0 0 0 0 0 0 0 0\n",
      "09/07/2020 21:59:19 - INFO - finbert.utils -   input_mask: 1 1 1 1 1 1 1 1 1 1 1 1 1 1 1 1 1 1 1 1 1 1 1 1 0 0 0 0 0 0 0 0 0 0 0 0 0 0 0 0 0 0 0 0 0 0 0 0 0 0 0 0 0 0 0 0 0 0 0 0 0 0 0 0\n",
      "09/07/2020 21:59:19 - INFO - finbert.utils -   segment_ids: 0 0 0 0 0 0 0 0 0 0 0 0 0 0 0 0 0 0 0 0 0 0 0 0 0 0 0 0 0 0 0 0 0 0 0 0 0 0 0 0 0 0 0 0 0 0 0 0 0 0 0 0 0 0 0 0 0 0 0 0 0 0 0 0\n",
      "09/07/2020 21:59:19 - INFO - finbert.utils -   label: None (id = 9090)\n",
      "09/07/2020 21:59:20 - INFO - pytorch_pretrained_bert.tokenization -   loading vocabulary file https://s3.amazonaws.com/models.huggingface.co/bert/bert-base-uncased-vocab.txt from cache at /home/raymond/.pytorch_pretrained_bert/26bc1ad6c0ac742e9b52263248f6d0f00068293b33709fae12320c0e35ccfbbb.542ce4285a40d23a559526243235df47c5f75c197f04f37d1a0c124c32c9a084\n",
      "09/07/2020 21:59:20 - INFO - finbert.utils -   *** Example ***\n",
      "09/07/2020 21:59:20 - INFO - finbert.utils -   guid: 0\n",
      "09/07/2020 21:59:20 - INFO - finbert.utils -   tokens: [CLS] bank audi egypt has grown from a three - branch operation acquired by bank audi in 2005 to 50 branches with total assets of $ 4 . 4 billion as of the end of september 2019 . [SEP]\n",
      "09/07/2020 21:59:20 - INFO - finbert.utils -   input_ids: 101 2924 20075 5279 2038 4961 2013 1037 2093 1011 3589 3169 3734 2011 2924 20075 1999 2384 2000 2753 5628 2007 2561 7045 1997 1002 1018 1012 1018 4551 2004 1997 1996 2203 1997 2244 10476 1012 102 0 0 0 0 0 0 0 0 0 0 0 0 0 0 0 0 0 0 0 0 0 0 0 0 0\n",
      "09/07/2020 21:59:20 - INFO - finbert.utils -   input_mask: 1 1 1 1 1 1 1 1 1 1 1 1 1 1 1 1 1 1 1 1 1 1 1 1 1 1 1 1 1 1 1 1 1 1 1 1 1 1 1 0 0 0 0 0 0 0 0 0 0 0 0 0 0 0 0 0 0 0 0 0 0 0 0 0\n",
      "09/07/2020 21:59:20 - INFO - finbert.utils -   segment_ids: 0 0 0 0 0 0 0 0 0 0 0 0 0 0 0 0 0 0 0 0 0 0 0 0 0 0 0 0 0 0 0 0 0 0 0 0 0 0 0 0 0 0 0 0 0 0 0 0 0 0 0 0 0 0 0 0 0 0 0 0 0 0 0 0\n",
      "09/07/2020 21:59:20 - INFO - finbert.utils -   label: None (id = 9090)\n"
     ]
    }
   ],
   "source": [
    "# take a list of sentiment analysis of all the sentences that have the stock name\n",
    "sentiments = []\n",
    "for article in results[2]:\n",
    "    per_article = []\n",
    "    for paragraph in article:\n",
    "        if paragraph:\n",
    "            per_article.append(predict(paragraph,model))\n",
    "    sentiments.append(per_article)"
   ]
  },
  {
   "cell_type": "code",
   "execution_count": 87,
   "metadata": {},
   "outputs": [
    {
     "data": {
      "text/html": [
       "<div>\n",
       "<style scoped>\n",
       "    .dataframe tbody tr th:only-of-type {\n",
       "        vertical-align: middle;\n",
       "    }\n",
       "\n",
       "    .dataframe tbody tr th {\n",
       "        vertical-align: top;\n",
       "    }\n",
       "\n",
       "    .dataframe thead th {\n",
       "        text-align: right;\n",
       "    }\n",
       "</style>\n",
       "<table border=\"1\" class=\"dataframe\">\n",
       "  <thead>\n",
       "    <tr style=\"text-align: right;\">\n",
       "      <th></th>\n",
       "      <th>sentence</th>\n",
       "      <th>logit</th>\n",
       "      <th>prediction</th>\n",
       "      <th>sentiment_score</th>\n",
       "    </tr>\n",
       "  </thead>\n",
       "  <tbody>\n",
       "    <tr>\n",
       "      <th>0</th>\n",
       "      <td>Egypt has tapped Emirates NBD and First Abu Dh...</td>\n",
       "      <td>[0.29286325, 0.2198136, 0.48732308]</td>\n",
       "      <td>neutral</td>\n",
       "      <td>0.07305</td>\n",
       "    </tr>\n",
       "  </tbody>\n",
       "</table>\n",
       "</div>"
      ],
      "text/plain": [
       "                                            sentence  \\\n",
       "0  Egypt has tapped Emirates NBD and First Abu Dh...   \n",
       "\n",
       "                                 logit prediction  sentiment_score  \n",
       "0  [0.29286325, 0.2198136, 0.48732308]    neutral          0.07305  "
      ]
     },
     "execution_count": 87,
     "metadata": {},
     "output_type": "execute_result"
    }
   ],
   "source": [
    "sentiments[0][0]"
   ]
  },
  {
   "cell_type": "code",
   "execution_count": 86,
   "metadata": {},
   "outputs": [
    {
     "data": {
      "text/plain": [
       "'06/17/2020'"
      ]
     },
     "execution_count": 86,
     "metadata": {},
     "output_type": "execute_result"
    }
   ],
   "source": [
    "results[0][0].date"
   ]
  }
 ],
 "metadata": {
  "kernelspec": {
   "display_name": "Python 3",
   "language": "python",
   "name": "python3"
  },
  "language_info": {
   "codemirror_mode": {
    "name": "ipython",
    "version": 3
   },
   "file_extension": ".py",
   "mimetype": "text/x-python",
   "name": "python",
   "nbconvert_exporter": "python",
   "pygments_lexer": "ipython3",
   "version": "3.6.9"
  }
 },
 "nbformat": 4,
 "nbformat_minor": 4
}
