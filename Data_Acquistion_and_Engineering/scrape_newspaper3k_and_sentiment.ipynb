{
 "cells": [
  {
   "cell_type": "code",
   "execution_count": 3,
   "metadata": {},
   "outputs": [],
   "source": [
    "import requests\n",
    "# from pyden.connect.gsearch_api.google import google\n",
    "# from pyden.newspaper.newspaper import Article\n",
    "from newspaper import Article\n",
    "# from pyden.google_api.search import gsearch\n",
    "\n",
    "import time\n",
    "import unidecode\n"
   ]
  },
  {
   "cell_type": "code",
   "execution_count": 4,
   "metadata": {},
   "outputs": [],
   "source": [
    "toscrape = [\"https://amwalalghad.com\", \"https://www.mubasher.info/markets/ADX/stocks/NBAD/news\", \"https://amwalalghad.com\", \"https://www.alarabiya.net/ar/tools\"]\n"
   ]
  },
  {
   "cell_type": "code",
   "execution_count": 5,
   "metadata": {},
   "outputs": [],
   "source": [
    "# define using se scraper and parsing with newspaper 3k\n",
    "class Object(object):\n",
    "    pass\n",
    "def gsearch(term, pages = 1):\n",
    "    term = term.replace(\"\\\"\",\"\").replace(\"\\'\",\"\").replace(\"-\", \"\")\n",
    "    term += \" -filetype:pdf\"  #TODO: be able to read pdfs\n",
    "    data = '{ \"browser_config\": { \"random_user_agent\": true },\"scrape_config\": { \"search_engine\": \"google\",\"keywords\": [\"'+term+'\"],\"num_pages\": '+str(pages)+'}}'\n",
    "    header = {'Content-Type': 'application/json'}\n",
    "    results = requests.post(\"http://0.0.0.0:3000\", data = data, headers = header).json()\n",
    "    output = []\n",
    "\n",
    "    for num in range(int(pages)):\n",
    "        if str(num+1) in results['results'][term]:\n",
    "            output.extend([i for i in results['results'][term][str(num+1)]['results']])\n",
    "    return output\n",
    "\n",
    "def search(query, link = \"\"):\n",
    "    unaccented_string = unidecode.unidecode(query)\n",
    "    query_outs = gsearch(unaccented_string)\n",
    "    titles = []\n",
    "    labels = []\n",
    "    para = []\n",
    "    rm = []\n",
    "    outputs = [Object() for _ in query_outs]\n",
    "\n",
    "    for i, qo in enumerate(query_outs):\n",
    "        query = outputs[i]; query.link = qo['link']\n",
    "        # if not query.link or query.link.replace('/', u'\\u2215') == link[0]:  # the links have '/' replaced\n",
    "        #     rm.append(i)\n",
    "        #     continue\n",
    "        art = Article(query.link)  # if you are an article, parse and\n",
    "        try:\n",
    "            start = time.time()\n",
    "            art.download()\n",
    "            if not art.html:\n",
    "                rm.append(i)\n",
    "                continue\n",
    "            print(query.link)\n",
    "            print(\"took \" + str(time.time() - start))\n",
    "            art.parse()  # some articles cannot be parsed\n",
    "            para.append(art.text.split(\"\\n\\n\"))  # this makes paras a list of lists\n",
    "            toadd = query.link.replace('/', u'\\u2215')\n",
    "            if len(query.link) > 255:\n",
    "                toadd = toadd[:255]\n",
    "            labels.append(toadd)  # titles are the labels that things are saved by\n",
    "            query.title = art.title\n",
    "            if art.title == \"\":\n",
    "                query.title = qo[i]['title']  # this is just going to be what the title was on google\n",
    "            query.sources = art.source_url\n",
    "            query.authors = art.authors\n",
    "            if art.publish_date:\n",
    "                query.date = art.publish_date.strftime('%m/%d/%Y')\n",
    "        except Exception as e:\n",
    "            print(e)  # if u cant load it uhhhh just dont do anything\n",
    "    for index in sorted(rm, reverse=True):\n",
    "        del outputs[index]\n",
    "    return outputs, labels, para, titles\n",
    "\n"
   ]
  },
  {
   "cell_type": "code",
   "execution_count": 9,
   "metadata": {
    "scrolled": true
   },
   "outputs": [
    {
     "name": "stdout",
     "output_type": "stream",
     "text": [
      "text/html; charset=UTF-8\n"
     ]
    },
    {
     "data": {
      "text/html": [
       "<pre style=\"white-space:pre;overflow-x:auto;line-height:normal;font-family:Menlo,'DejaVu Sans Mono',consolas,'Courier New',monospace\"><span style=\"color: #0000ff; text-decoration: underline\">https://en.amwalalghad.com/egypt-taps-nbd-fab-to-arrange-1-bn-loan/</span>\n",
       "</pre>\n"
      ],
      "text/plain": [
       "<rich.jupyter.JupyterRenderable at 0x7f17ff440eb8>"
      ]
     },
     "metadata": {},
     "output_type": "display_data"
    },
    {
     "data": {
      "text/html": [
       "<pre style=\"white-space:pre;overflow-x:auto;line-height:normal;font-family:Menlo,'DejaVu Sans Mono',consolas,'Courier New',monospace\">took <span style=\"color: #000080; font-weight: bold\">1.9111130237579346</span>\n",
       "</pre>\n"
      ],
      "text/plain": [
       "<rich.jupyter.JupyterRenderable at 0x7f18050caba8>"
      ]
     },
     "metadata": {},
     "output_type": "display_data"
    },
    {
     "name": "stdout",
     "output_type": "stream",
     "text": [
      "text/html; charset=UTF-8\n",
      "text/html; charset=UTF-8\n"
     ]
    },
    {
     "data": {
      "text/html": [
       "<pre style=\"white-space:pre;overflow-x:auto;line-height:normal;font-family:Menlo,'DejaVu Sans Mono',consolas,'Courier New',monospace\"><span style=\"color: #0000ff; text-decoration: underline\">https://en.amwalalghad.com/saudi-drops-on-weak-gains-fab-leads-abu-dhabi-higher/</span>\n",
       "</pre>\n"
      ],
      "text/plain": [
       "<rich.jupyter.JupyterRenderable at 0x7f17ff412d68>"
      ]
     },
     "metadata": {},
     "output_type": "display_data"
    },
    {
     "data": {
      "text/html": [
       "<pre style=\"white-space:pre;overflow-x:auto;line-height:normal;font-family:Menlo,'DejaVu Sans Mono',consolas,'Courier New',monospace\">took <span style=\"color: #000080; font-weight: bold\">1.8913333415985107</span>\n",
       "</pre>\n"
      ],
      "text/plain": [
       "<rich.jupyter.JupyterRenderable at 0x7f17ff423d30>"
      ]
     },
     "metadata": {},
     "output_type": "display_data"
    },
    {
     "name": "stdout",
     "output_type": "stream",
     "text": [
      "text/html; charset=UTF-8\n"
     ]
    },
    {
     "data": {
      "text/html": [
       "<pre style=\"white-space:pre;overflow-x:auto;line-height:normal;font-family:Menlo,'DejaVu Sans Mono',consolas,'Courier New',monospace\"><span style=\"color: #0000ff; text-decoration: underline\">https://en.amwalalghad.com/abu-dhabis-markets-rise-lifted-by-fab/</span>\n",
       "</pre>\n"
      ],
      "text/plain": [
       "<rich.jupyter.JupyterRenderable at 0x7f17ff423cf8>"
      ]
     },
     "metadata": {},
     "output_type": "display_data"
    },
    {
     "data": {
      "text/html": [
       "<pre style=\"white-space:pre;overflow-x:auto;line-height:normal;font-family:Menlo,'DejaVu Sans Mono',consolas,'Courier New',monospace\">took <span style=\"color: #000080; font-weight: bold\">1.9365301132202148</span>\n",
       "</pre>\n"
      ],
      "text/plain": [
       "<rich.jupyter.JupyterRenderable at 0x7f17ff423da0>"
      ]
     },
     "metadata": {},
     "output_type": "display_data"
    },
    {
     "name": "stdout",
     "output_type": "stream",
     "text": [
      "text/html; charset=UTF-8\n"
     ]
    },
    {
     "data": {
      "text/html": [
       "<pre style=\"white-space:pre;overflow-x:auto;line-height:normal;font-family:Menlo,'DejaVu Sans Mono',consolas,'Courier New',monospace\"><span style=\"color: #0000ff; text-decoration: underline\">https://en.amwalalghad.com/egyptian-life-takaful-gig-uaes-fab-reach-bancassurance-deal/</span>\n",
       "</pre>\n"
      ],
      "text/plain": [
       "<rich.jupyter.JupyterRenderable at 0x7f17ff423d30>"
      ]
     },
     "metadata": {},
     "output_type": "display_data"
    },
    {
     "data": {
      "text/html": [
       "<pre style=\"white-space:pre;overflow-x:auto;line-height:normal;font-family:Menlo,'DejaVu Sans Mono',consolas,'Courier New',monospace\">took <span style=\"color: #000080; font-weight: bold\">1.8574931621551514</span>\n",
       "</pre>\n"
      ],
      "text/plain": [
       "<rich.jupyter.JupyterRenderable at 0x7f17ff423d30>"
      ]
     },
     "metadata": {},
     "output_type": "display_data"
    },
    {
     "name": "stdout",
     "output_type": "stream",
     "text": [
      "text/html; charset=UTF-8\n"
     ]
    },
    {
     "data": {
      "text/html": [
       "<pre style=\"white-space:pre;overflow-x:auto;line-height:normal;font-family:Menlo,'DejaVu Sans Mono',consolas,'Courier New',monospace\"><span style=\"color: #0000ff; text-decoration: underline\">https://en.amwalalghad.com/abu-dhabi-markets-rise-over-2-outperforming-on-fabs-foreign-owners</span>\n",
       "<span style=\"color: #0000ff; text-decoration: underline\">hip-limit-surge/</span>\n",
       "</pre>\n"
      ],
      "text/plain": [
       "<rich.jupyter.JupyterRenderable at 0x7f17ff412cf8>"
      ]
     },
     "metadata": {},
     "output_type": "display_data"
    },
    {
     "data": {
      "text/html": [
       "<pre style=\"white-space:pre;overflow-x:auto;line-height:normal;font-family:Menlo,'DejaVu Sans Mono',consolas,'Courier New',monospace\">took <span style=\"color: #000080; font-weight: bold\">2.118877649307251</span>\n",
       "</pre>\n"
      ],
      "text/plain": [
       "<rich.jupyter.JupyterRenderable at 0x7f17ff412cf8>"
      ]
     },
     "metadata": {},
     "output_type": "display_data"
    },
    {
     "name": "stdout",
     "output_type": "stream",
     "text": [
      "text/html; charset=UTF-8\n"
     ]
    },
    {
     "data": {
      "text/html": [
       "<pre style=\"white-space:pre;overflow-x:auto;line-height:normal;font-family:Menlo,'DejaVu Sans Mono',consolas,'Courier New',monospace\"><span style=\"color: #0000ff; text-decoration: underline\">https://en.amwalalghad.com/key-gulf-stocks-mostly-down-fab-weighs-on-abu-dhabi-index/</span>\n",
       "</pre>\n"
      ],
      "text/plain": [
       "<rich.jupyter.JupyterRenderable at 0x7f17ff4129e8>"
      ]
     },
     "metadata": {},
     "output_type": "display_data"
    },
    {
     "data": {
      "text/html": [
       "<pre style=\"white-space:pre;overflow-x:auto;line-height:normal;font-family:Menlo,'DejaVu Sans Mono',consolas,'Courier New',monospace\">took <span style=\"color: #000080; font-weight: bold\">2.1275100708007812</span>\n",
       "</pre>\n"
      ],
      "text/plain": [
       "<rich.jupyter.JupyterRenderable at 0x7f17ff412c88>"
      ]
     },
     "metadata": {},
     "output_type": "display_data"
    },
    {
     "name": "stdout",
     "output_type": "stream",
     "text": [
      "text/html; charset=UTF-8\n"
     ]
    },
    {
     "data": {
      "text/html": [
       "<pre style=\"white-space:pre;overflow-x:auto;line-height:normal;font-family:Menlo,'DejaVu Sans Mono',consolas,'Courier New',monospace\"><span style=\"color: #0000ff; text-decoration: underline\">https://en.amwalalghad.com/first-abu-dhabi-bank-reportedly-to-restart-negotiations-to-buy-ban</span>\n",
       "<span style=\"color: #0000ff; text-decoration: underline\">k-audis-egypt-unit/</span>\n",
       "</pre>\n"
      ],
      "text/plain": [
       "<rich.jupyter.JupyterRenderable at 0x7f17ff423d30>"
      ]
     },
     "metadata": {},
     "output_type": "display_data"
    },
    {
     "data": {
      "text/html": [
       "<pre style=\"white-space:pre;overflow-x:auto;line-height:normal;font-family:Menlo,'DejaVu Sans Mono',consolas,'Courier New',monospace\">took <span style=\"color: #000080; font-weight: bold\">1.9681282043457031</span>\n",
       "</pre>\n"
      ],
      "text/plain": [
       "<rich.jupyter.JupyterRenderable at 0x7f17ff423d30>"
      ]
     },
     "metadata": {},
     "output_type": "display_data"
    },
    {
     "name": "stdout",
     "output_type": "stream",
     "text": [
      "text/html; charset=UTF-8\n"
     ]
    },
    {
     "data": {
      "text/html": [
       "<pre style=\"white-space:pre;overflow-x:auto;line-height:normal;font-family:Menlo,'DejaVu Sans Mono',consolas,'Courier New',monospace\"><span style=\"color: #0000ff; text-decoration: underline\">https://en.amwalalghad.com/first-abu-dhabi-bank-suspends-talks-to-acquire-bank-audis-egyptian</span>\n",
       "<span style=\"color: #0000ff; text-decoration: underline\">-business-amid-coronavirus-crisis/</span>\n",
       "</pre>\n"
      ],
      "text/plain": [
       "<rich.jupyter.JupyterRenderable at 0x7f17ff423cf8>"
      ]
     },
     "metadata": {},
     "output_type": "display_data"
    },
    {
     "data": {
      "text/html": [
       "<pre style=\"white-space:pre;overflow-x:auto;line-height:normal;font-family:Menlo,'DejaVu Sans Mono',consolas,'Courier New',monospace\">took <span style=\"color: #000080; font-weight: bold\">1.965095043182373</span>\n",
       "</pre>\n"
      ],
      "text/plain": [
       "<rich.jupyter.JupyterRenderable at 0x7f17ff423cf8>"
      ]
     },
     "metadata": {},
     "output_type": "display_data"
    }
   ],
   "source": [
    "results = search(\"site:\" + toscrape[0] + \" fab\")"
   ]
  },
  {
   "cell_type": "code",
   "execution_count": 10,
   "metadata": {},
   "outputs": [
    {
     "data": {
      "text/html": [
       "<pre style=\"white-space:pre;overflow-x:auto;line-height:normal;font-family:Menlo,'DejaVu Sans Mono',consolas,'Courier New',monospace\"><span style=\"font-weight: bold\">[</span>\n",
       "    <span style=\"font-weight: bold\">[</span>\n",
       "        <span style=\"color: #008000\">'Egypt has tapped Emirates NBD and First Abu Dhabi Bank (FAB) to arrange a loan worth</span>\n",
       "<span style=\"color: #008000\">more than $1 billion as it tries to plug its financing gap caused by the covid-19 pandemic, </span>\n",
       "<span style=\"color: #008000\">Reuters reports, citing two sources familiar with the matter.'</span>,\n",
       "        <span style=\"color: #008000\">'The two banks are in talks with other lenders to assist with the loan, the sources </span>\n",
       "<span style=\"color: #008000\">said.'</span>,\n",
       "        <span style=\"color: #008000\">'The Egyptian government, Emirates NBD and FAB did not immediately respond to </span>\n",
       "<span style=\"color: #008000\">requests for comment. The sources declined to be named because the information is not </span>\n",
       "<span style=\"color: #008000\">public.'</span>,\n",
       "        <span style=\"color: #008000\">'The financing plan comes as Egypt’s economy suffers from the impact of the </span>\n",
       "<span style=\"color: #008000\">coronavirus outbreak, which has badly hit its tourism and construction sectors.'</span>,\n",
       "        <span style=\"color: #008000\">'Egypt’s foreign reserves declined by $1 billion in May as the COVID-19 crisis has </span>\n",
       "<span style=\"color: #008000\">squeezed some of the country’s main sources of foreign currency, especially tourism and </span>\n",
       "<span style=\"color: #008000\">remittances from workers abroad. (Reporting by Saeed Azhar, Davide Barbuscia;'</span>,\n",
       "    <span style=\"font-weight: bold\">]</span>,\n",
       "    <span style=\"font-weight: bold\">[</span>\n",
       "        <span style=\"color: #008000\">'Saudi Arabian shares fell for a fourth day on Wednesday as weak earnings continued </span>\n",
       "<span style=\"color: #008000\">to weigh on the index, while United Arab Emirates’ largest lender FAB boosted the Abu Dhabi </span>\n",
       "<span style=\"color: #008000\">index.'</span>,\n",
       "        <span style=\"color: #008000\">'In Saudi Arabia the benchmark index was down 0.2 percent, with Saudi Basic </span>\n",
       "<span style=\"color: #008000\">Industries falling 0.5 percent, while Saudi Telecom Co was down 1.1 percent as the stock </span>\n",
       "<span style=\"color: #008000\">traded ex-dividend.'</span>,\n",
       "        <span style=\"color: #008000\">'Methanol Chemicals Co fell 1 percent after it posted a net loss of 32.3 million </span>\n",
       "<span style=\"color: #008000\">riyals ($8.6 million), compared with a profit of 22.5 million a year earlier.'</span>,\n",
       "        <span style=\"color: #008000\">'The firm blamed the loss on lower selling prices of most petrochemical products.'</span>,\n",
       "        <span style=\"color: #008000\">'Advanced Petrochemical dropped 0.5 percent after reporting a more than 5 percent </span>\n",
       "<span style=\"color: #008000\">rise in third-quarter net profit, but revenue was down over 13 percent.'</span>,\n",
       "        <span style=\"color: #008000\">'Abdulmohsen Al Hokair Group For Tourism And Development fell 4 percent after posting</span>\n",
       "<span style=\"color: #008000\">a third-quarter net loss of 15.5 million riyals, compared with a net profit of 1.9 million a </span>\n",
       "<span style=\"color: #008000\">year earlier.'</span>,\n",
       "        <span style=\"color: #008000\">'In Abu Dhabi the index rose 1.1 percent, snapping a three-day losing streak with </span>\n",
       "<span style=\"color: #008000\">market heavyweight First Abu Dhabi Bank (FAB) advancing 2 percent and Abu Dhabi commercial </span>\n",
       "<span style=\"color: #008000\">Bank gaining 0.3 percent.'</span>,\n",
       "        <span style=\"color: #008000\">'FAB on Oct. 24 reported a single-digit rise in third-quarter net profit, broadly in </span>\n",
       "<span style=\"color: #008000\">line with analysts’ forecasts.'</span>,\n",
       "        <span style=\"color: #008000\">'Buoyed by real estates shares, Dubai’s main share index edged up 0.3 percent. </span>\n",
       "<span style=\"color: #008000\">Blue-chip developer Emaar Properties rebounded 1.7 percent and its Emaar Malls unit added 0.5</span>\n",
       "<span style=\"color: #008000\">percent.'</span>,\n",
       "        <span style=\"color: #008000\">'In contrast, DAMAC Properties slipped 1.7 percent following its announcement of no </span>\n",
       "<span style=\"color: #008000\">dividend, citing low profitability and a weak market.'</span>,\n",
       "        <span style=\"color: #008000\">'The Qatari index edged up 0.1 percent, with lender Masraf Al Rayan adding 0.8 </span>\n",
       "<span style=\"color: #008000\">percent and Qatar Islamic Bank gaining 0.5 percent.'</span>,\n",
       "        <span style=\"color: #008000\">'On Monday Masraf Al Rayan had reported marginal growth in nine-month net profit to </span>\n",
       "<span style=\"color: #008000\">1.65 billion riyals, compared with 1.63 billion a year earlier.'</span>,\n",
       "        <span style=\"color: #008000\">'Source: Reuters'</span>,\n",
       "    <span style=\"font-weight: bold\">]</span>,\n",
       "    <span style=\"font-weight: bold\">[</span>\n",
       "        <span style=\"color: #008000\">'Abu Dhabi’s stock market rose from the previous session’s 4-1/2-year high on Monday,</span>\n",
       "<span style=\"color: #008000\">lifted by First Abu Dhabi Bank, while Qatar Electricity and Water weighed on the Qatar </span>\n",
       "<span style=\"color: #008000\">index.'</span>,\n",
       "        <span style=\"color: #008000\">'The Abu Dhabi index was up 0.5 percent with First Abu Dhabi Bank adding 1 percent. </span>\n",
       "<span style=\"color: #008000\">Last week, it obtained regulatory approval to increase its foreign ownership limit to 40 </span>\n",
       "<span style=\"color: #008000\">percent from a previous limit of 25 percent.'</span>,\n",
       "        <span style=\"color: #008000\">'Qatar’s index was down 0.3 percent with Qatar Gas Transport losing 3.1 percent and </span>\n",
       "<span style=\"color: #008000\">Qatar Electricity And Water shedding 2.3 percent after its first-quarter net profit fell </span>\n",
       "<span style=\"color: #008000\">nearly 22 percent.'</span>,\n",
       "        <span style=\"color: #008000\">'The company also said it aims to generate 40 percent of its profit from foreign </span>\n",
       "<span style=\"color: #008000\">investment arm Nebras Power in the next 10 years.'</span>,\n",
       "        <span style=\"color: #008000\">'In Dubai, the index rose 0.5 percent, supported by a 2 percent gain in Dubai Islamic</span>\n",
       "<span style=\"color: #008000\">Bank. The lender said that it regularly looks at expansion opportunities, including buying </span>\n",
       "<span style=\"color: #008000\">other financial institutions.'</span>,\n",
       "        <span style=\"color: #008000\">'The United Arab Emirates’ largest sharia-compliant bank is in talks with </span>\n",
       "<span style=\"color: #008000\">shareholders of unlisted Dubai-based Noor Bank over a possible acquisition of the lender, </span>\n",
       "<span style=\"color: #008000\">three sources familiar with the matter told Reuters last week.'</span>,\n",
       "        <span style=\"color: #008000\">'“We see the likelihood of a deal going through as high, driving the consolidation </span>\n",
       "<span style=\"color: #008000\">theme in UAE,” Arqaam Capital said, noting that Noor was now the only unlisted bank in the </span>\n",
       "<span style=\"color: #008000\">UAE, following the merger of Abu Dhabi counterparts Al Hilal and Abu Dhabi Commercial Bank.'</span>,\n",
       "        <span style=\"color: #008000\">'Saudi Arabia’s index traded flat with Bank Albilad rising 1.7 percent after its </span>\n",
       "<span style=\"color: #008000\">first-quarter net profit grew more than 23 percent.'</span>,\n",
       "        <span style=\"color: #008000\">'National Shipping Company Of Saudi Arabia fell 4.1 percent as the stock traded </span>\n",
       "<span style=\"color: #008000\">ex-dividend.'</span>,\n",
       "        <span style=\"color: #008000\">'The index has gained about 16 percent so far this year as foreign buyers rushed in </span>\n",
       "<span style=\"color: #008000\">ahead of and after its entry into the FTSE Russell’s emerging market index on March 18.'</span>,\n",
       "        <span style=\"color: #008000\">'Foreign investors have been net buyers of Saudi stocks every week this year and </span>\n",
       "<span style=\"color: #008000\">bought 1.21 billion riyals ($322.64 million) of shares on a net basis in the last week, </span>\n",
       "<span style=\"color: #008000\">according to stock exchange data released late on Sunday.'</span>,\n",
       "        <span style=\"color: #008000\">'Source: Reuters'</span>,\n",
       "    <span style=\"font-weight: bold\">]</span>,\n",
       "    <span style=\"font-weight: bold\">[</span>\n",
       "        <span style=\"color: #008000\">'First Abu Dhabi Bank’s (FAB) Egyptian unit, one of the largest foreign banks in the </span>\n",
       "<span style=\"color: #008000\">country, and Egyptian Life Takaful Company – GIG have signed Thursday a bancassurance </span>\n",
       "<span style=\"color: #008000\">partnership deal.'</span>,\n",
       "        <span style=\"color: #008000\">'The agreement lets FAB-Egypt offer GIG’s range of life insurance products to </span>\n",
       "<span style=\"color: #008000\">customers in Egypt throughout its nationwide network covering Cairo, Alexandria, the Delta, </span>\n",
       "<span style=\"color: #008000\">Upper Egypt, and the Red Sea.'</span>,\n",
       "        <span style=\"color: #008000\">'FAB is the largest bank in the UAE with total assets worth AED 669 billion ($182 </span>\n",
       "<span style=\"color: #008000\">billion).'</span>,\n",
       "        <span style=\"color: #008000\">'GIG has earlier reached bancassurance partnership with four banks, Bank Audi-Egypt, </span>\n",
       "<span style=\"color: #008000\">Abu Dhabi Islamic Bank (ADIB) – Egypt, Banque Misr’s Islamic Transactions branch, and </span>\n",
       "<span style=\"color: #008000\">National Bank of Kuwait (NBK) – Egypt.'</span>,\n",
       "        <span style=\"color: #008000\">'In February, the Egyptian insurer had reached a preliminary bancassurance </span>\n",
       "<span style=\"color: #008000\">partnership with Misr Iran Development Bank (MIDB), a jointly owned bank between Egypt and </span>\n",
       "<span style=\"color: #008000\">Iran.'</span>,\n",
       "    <span style=\"font-weight: bold\">]</span>,\n",
       "    <span style=\"font-weight: bold\">[</span>\n",
       "        <span style=\"color: #008000\">'Abu Dhabi markets rose more than two percent early on Sunday, outperforming other </span>\n",
       "<span style=\"color: #008000\">Gulf stocks, as First Abu Dhabi Bank (FAB) increased to a two-month high after it obtained </span>\n",
       "<span style=\"color: #008000\">regulatory approval to raise its foreign ownership limit.'</span>,\n",
       "        <span style=\"color: #008000\">'Foreigners will be allowed to own as much as 40 percent of FAB stock from a previous</span>\n",
       "<span style=\"color: #008000\">limit of 25 percent, lifting FAB shares by as much as 4.6 percent.'</span>,\n",
       "        <span style=\"color: #008000\">'At 0712 GMT, FAB shares were trading at 15.52 dirhams ($4.23), their highest level </span>\n",
       "<span style=\"color: #008000\">since early February.'</span>,\n",
       "        <span style=\"color: #008000\">'Dubai shares were flat on weakness in Emaar Properties, but shares of Emirates NBD </span>\n",
       "<span style=\"color: #008000\">were up 1.3 percent after the bank said it had sold more shares in the London initial public </span>\n",
       "<span style=\"color: #008000\">offering of Network International after exercising a greenshoe option.'</span>,\n",
       "        <span style=\"color: #008000\">'Saudi stocks made a lacklustre start to the week due to weakness in financial stocks</span>\n",
       "<span style=\"color: #008000\">amid profit taking after robust gains in the Gulf region’s biggest stock market this year.'</span>,\n",
       "        <span style=\"color: #008000\">'The index was trading 0.2 percent lower with National Commercial Bank down 0.9 </span>\n",
       "<span style=\"color: #008000\">percent and Riyad Bank down almost 1 percent.'</span>,\n",
       "        <span style=\"color: #008000\">'The index is still up 16 percent so far this year, fuelled by an increase in foreign</span>\n",
       "<span style=\"color: #008000\">fund flows as it entered the FTSE Russell’s emerging-market index on March 18.'</span>,\n",
       "        <span style=\"color: #008000\">'Qatari stocks were down 0.5 percent, weighed down by a 0.7 percent drop in market </span>\n",
       "<span style=\"color: #008000\">heavyweight Industries Qatar and a 1.4 percent drop in Qatar Insurance Company .'</span>,\n",
       "        <span style=\"color: #008000\">'Source: Reuters'</span>,\n",
       "    <span style=\"font-weight: bold\">]</span>,\n",
       "    <span style=\"font-weight: bold\">[</span>\n",
       "        <span style=\"color: #008000\">'Key Gulf stocks mostly down, FAB weighs on Abu Dhabi index'</span>,\n",
       "        <span style=\"color: #008000\">'Abu Dhabi’s stock index dropped on Monday as its financial shares, particularly </span>\n",
       "<span style=\"color: #008000\">First Abu Dhabi Bank weighed on. Most major Gulf markets also went down.'</span>,\n",
       "        <span style=\"color: #008000\">'The Abu Dhabi index lost 1 percent, with First Abu Dhabi Bank shedding 1.5 percent </span>\n",
       "<span style=\"color: #008000\">before announcing its first-quarter results later in the day.'</span>,\n",
       "        <span style=\"color: #008000\">'Dana Gas slid 2.1 percent to drop for the third straight session. The company’s </span>\n",
       "<span style=\"color: #008000\">stock went ex-dividend on Thursday and has been sliding since.'</span>,\n",
       "        <span style=\"color: #008000\">'Saudi Arabia’s main index was the only market to gain in early trading, going up 0.1</span>\n",
       "<span style=\"color: #008000\">percent. Saudi British Bank rose 2.6 percent to its highest in four years after reporting a </span>\n",
       "<span style=\"color: #008000\">24 percent increase in first-quarter net profit.'</span>,\n",
       "        <span style=\"color: #008000\">'Zahrat Al Waha gained 1.5 percent after posting a two-fold rise in its first-quarter</span>\n",
       "<span style=\"color: #008000\">net profit.'</span>,\n",
       "        <span style=\"color: #008000\">'Dubai’s index slipped 0.2 percent for its fifth straight day of loss, partly due to </span>\n",
       "<span style=\"color: #008000\">a 4.3 percent decline by Dubai Islamic Insurance And Reinsurance after its shareholders </span>\n",
       "<span style=\"color: #008000\">elected against a dividend distribution for 2018.'</span>,\n",
       "        <span style=\"color: #008000\">'Islamic Arab Insurance Co also fell 1.6 percent after its shareholders decided </span>\n",
       "<span style=\"color: #008000\">against a dividend distribution for the year.'</span>,\n",
       "        <span style=\"color: #008000\">'Qatar’s blue-chip index was down 0.1 percent. Real estate companies United </span>\n",
       "<span style=\"color: #008000\">Development and Barwa Real Estate lost 1.5 percent and 0.7 percent, respectively.'</span>,\n",
       "        <span style=\"color: #008000\">'Source: Reuters'</span>,\n",
       "    <span style=\"font-weight: bold\">]</span>,\n",
       "    <span style=\"font-weight: bold\">[</span>\n",
       "        <span style=\"color: #008000\">'UAE’s biggest lender, First Abu Dhabi Bank (FAB) plans to restart negotiations to </span>\n",
       "<span style=\"color: #008000\">buy the Egyptian unit of Lebanon’s Bank Audi, two sources familiar with the matter told </span>\n",
       "<span style=\"color: #008000\">Reuters on Sunday.'</span>,\n",
       "        <span style=\"color: #008000\">'FAB will have an internal meeting this week to decide on a way to resume talks and </span>\n",
       "<span style=\"color: #008000\">put in a final bid, one of the sources told Reuters, declining to be named as the matter is </span>\n",
       "<span style=\"color: #008000\">not public yet.'</span>,\n",
       "        <span style=\"color: #008000\">'Meanwhile, a second source told Reuters that FAB planned to restart talks within two</span>\n",
       "<span style=\"color: #008000\">weeks.'</span>,\n",
       "        <span style=\"color: #008000\">'FAB declined to make any comments. A spokesperson for Bank Audi said it had not been</span>\n",
       "<span style=\"color: #008000\">contacted by FAB regarding restarting any talks.'</span>,\n",
       "        <span style=\"color: #008000\">'In May, FAB put talks on hold due to difficult market conditions driven by the </span>\n",
       "<span style=\"color: #008000\">coronavirus pandemic.'</span>,\n",
       "        <span style=\"color: #008000\">'A source familiar with the matter said then that the acquisition offer was worth </span>\n",
       "<span style=\"color: #008000\">around $700 million.'</span>,\n",
       "        <span style=\"color: #008000\">'Bank Audi Egypt has grown from a three-branch operation taken over by Bank Audi in </span>\n",
       "<span style=\"color: #008000\">2005 to 50 branches with total assets of $4.4 billion as of the end of September 2019.'</span>,\n",
       "        <span style=\"color: #008000\">'Gulf lenders are seeking to expand their market share in Egypt, the Arab world’s </span>\n",
       "<span style=\"color: #008000\">most populous country. On the other hand, some Lebanese lenders are attempting to sell assets</span>\n",
       "<span style=\"color: #008000\">to fulfil a requirement from Lebanon’s central bank to boost their equity.'</span>,\n",
       "        <span style=\"color: #008000\">'Emirates NBD, Dubai’s largest lender, is currently negotiating to take over the </span>\n",
       "<span style=\"color: #008000\">Egyptian unit of Lebanon’s Blom Bank.'</span>,\n",
       "    <span style=\"font-weight: bold\">]</span>,\n",
       "    <span style=\"font-weight: bold\">[</span>\n",
       "        <span style=\"color: #008000\">'Given the exceptional circumstances caused by the coronavirus crisis, First Abu </span>\n",
       "<span style=\"color: #008000\">Dhabi Bank (FAB) has suspended all talks to buy the Egyptian assets of Lebanon’s Bank Audi, </span>\n",
       "<span style=\"color: #008000\">the two lenders said in a joint statement Monday.'</span>,\n",
       "        <span style=\"color: #008000\">'“Despite the incompletion of the sale deal due to the exceptional circumstances </span>\n",
       "<span style=\"color: #008000\">caused by the coronavirus crisis which has led to the suspension of all talks, we would like </span>\n",
       "<span style=\"color: #008000\">to thank First Abu Dhabi Bank for its efforts and creative discussions.” said Bank Audi’s </span>\n",
       "<span style=\"color: #008000\">chief financial officer Tamer Ghazaleh.'</span>,\n",
       "        <span style=\"color: #008000\">'Mohamed Bedir, the CEO of Bank Audi Egypt, said in a media statement” Bank Audi </span>\n",
       "<span style=\"color: #008000\">Egypt is proud to take the lead in the Bank Audi Group in terms of its exceptional </span>\n",
       "<span style=\"color: #008000\">profitability and growth rates since its inception besides its position among private banks </span>\n",
       "<span style=\"color: #008000\">in Egypt and being in a country that enjoys a political and economic stability …”'</span>,\n",
       "        <span style=\"color: #008000\">'The deal by FAB, the UAE’s biggest lender, to buy Bank Audi Egypt for was worth $700</span>\n",
       "<span style=\"color: #008000\">million but the timing was now not right due to the need to support the UAE economy in light </span>\n",
       "<span style=\"color: #008000\">of the pandemic, an informed source told Reuters earlier the day.'</span>,\n",
       "        <span style=\"color: #008000\">'Lebanese banks are trying to boost their finances as the country endures its worst </span>\n",
       "<span style=\"color: #008000\">financial crisis since the civil war.'</span>,\n",
       "        <span style=\"color: #008000\">'Bank Audi Egypt has grown from a three-branch operation acquired by Bank Audi in </span>\n",
       "<span style=\"color: #008000\">2005 to 50 branches with total assets of $4.4 billion as of the end of September 2019.'</span>,\n",
       "    <span style=\"font-weight: bold\">]</span>,\n",
       "<span style=\"font-weight: bold\">]</span>\n",
       "</pre>\n"
      ],
      "text/plain": [
       "<rich.jupyter.JupyterRenderable at 0x7f17feb70a20>"
      ]
     },
     "metadata": {},
     "output_type": "display_data"
    }
   ],
   "source": [
    "print(results[2]) "
   ]
  },
  {
   "cell_type": "code",
   "execution_count": 75,
   "metadata": {},
   "outputs": [],
   "source": [
    "model_path = \"finBERT/models/trc2/\""
   ]
  },
  {
   "cell_type": "code",
   "execution_count": 68,
   "metadata": {},
   "outputs": [
    {
     "data": {
      "text/html": [
       "<pre style=\"white-space:pre;overflow-x:auto;line-height:normal;font-family:Menlo,'DejaVu Sans Mono',consolas,'Courier New',monospace\"><span style=\"font-weight: bold\">&lt;</span><span style=\"color: #ff00ff; font-weight: bold\">class</span><span style=\"color: #000000\"> </span><span style=\"color: #008000\">'NoneType'</span><span style=\"font-weight: bold\">&gt;</span>\n",
       "</pre>\n"
      ],
      "text/plain": [
       "<rich.jupyter.JupyterRenderable at 0x7f17fea7f390>"
      ]
     },
     "metadata": {},
     "output_type": "display_data"
    }
   ],
   "source": [
    "# path to trc2 pytorch model # for some reason flask app doesn't work\n",
    "paragraph = results[2][1][1]\n",
    "# sample = '{\"text\": ' + paragraph + '}'\n",
    "sample = {\"text\": paragraph}\n",
    "header = {'Content-Type': 'application/json'}\n",
    "def get_sentiment(text):\n",
    "    results = requests.post(\"http://0.0.0.0:8080\", json = sample, headers = header)\n",
    "print(type(get_sentiment(sample)))"
   ]
  },
  {
   "cell_type": "code",
   "execution_count": 1,
   "metadata": {},
   "outputs": [
    {
     "ename": "ModuleNotFoundError",
     "evalue": "No module named 'finbert'",
     "output_type": "error",
     "traceback": [
      "\u001b[0;31m---------------------------------------------------------------------------\u001b[0m",
      "\u001b[0;31mModuleNotFoundError\u001b[0m                       Traceback (most recent call last)",
      "\u001b[0;32m<ipython-input-1-edc7382e41d3>\u001b[0m in \u001b[0;36m<module>\u001b[0;34m\u001b[0m\n\u001b[1;32m      2\u001b[0m \u001b[0;32mimport\u001b[0m \u001b[0msys\u001b[0m\u001b[0;34m\u001b[0m\u001b[0;34m\u001b[0m\u001b[0m\n\u001b[1;32m      3\u001b[0m \u001b[0msys\u001b[0m\u001b[0;34m.\u001b[0m\u001b[0mpath\u001b[0m\u001b[0;34m.\u001b[0m\u001b[0minsert\u001b[0m\u001b[0;34m(\u001b[0m\u001b[0;36m0\u001b[0m\u001b[0;34m,\u001b[0m \u001b[0;34m\"/finBERT\"\u001b[0m\u001b[0;34m)\u001b[0m\u001b[0;34m\u001b[0m\u001b[0;34m\u001b[0m\u001b[0m\n\u001b[0;32m----> 4\u001b[0;31m \u001b[0;32mfrom\u001b[0m \u001b[0mfinbert\u001b[0m\u001b[0;34m.\u001b[0m\u001b[0mfinbert\u001b[0m \u001b[0;32mimport\u001b[0m \u001b[0mpredict\u001b[0m\u001b[0;34m\u001b[0m\u001b[0;34m\u001b[0m\u001b[0m\n\u001b[0m\u001b[1;32m      5\u001b[0m \u001b[0;32mfrom\u001b[0m \u001b[0mpytorch_pretrained_bert\u001b[0m\u001b[0;34m.\u001b[0m\u001b[0mmodeling\u001b[0m \u001b[0;32mimport\u001b[0m \u001b[0mBertForSequenceClassification\u001b[0m\u001b[0;34m\u001b[0m\u001b[0;34m\u001b[0m\u001b[0m\n\u001b[1;32m      6\u001b[0m \u001b[0mmodel\u001b[0m \u001b[0;34m=\u001b[0m \u001b[0mBertForSequenceClassification\u001b[0m\u001b[0;34m.\u001b[0m\u001b[0mfrom_pretrained\u001b[0m\u001b[0;34m(\u001b[0m\u001b[0mmodel_path\u001b[0m\u001b[0;34m,\u001b[0m\u001b[0mnum_labels\u001b[0m\u001b[0;34m=\u001b[0m\u001b[0;36m3\u001b[0m\u001b[0;34m,\u001b[0m\u001b[0mcache_dir\u001b[0m\u001b[0;34m=\u001b[0m\u001b[0;32mNone\u001b[0m\u001b[0;34m)\u001b[0m\u001b[0;34m\u001b[0m\u001b[0;34m\u001b[0m\u001b[0m\n",
      "\u001b[0;31mModuleNotFoundError\u001b[0m: No module named 'finbert'"
     ]
    }
   ],
   "source": [
    "# paste in flask app prediction code here, but remove the flask\n",
    "import sys\n",
    "sys.path.insert(0, \"/finBERT\")\n",
    "from finbert.finbert import predict\n",
    "from pytorch_pretrained_bert.modeling import BertForSequenceClassification\n",
    "model = BertForSequenceClassification.from_pretrained(model_path,num_labels=3,cache_dir=None)\n"
   ]
  },
  {
   "cell_type": "code",
   "execution_count": 2,
   "metadata": {
    "scrolled": true
   },
   "outputs": [
    {
     "ename": "NameError",
     "evalue": "name 'results' is not defined",
     "output_type": "error",
     "traceback": [
      "\u001b[0;31m---------------------------------------------------------------------------\u001b[0m",
      "\u001b[0;31mNameError\u001b[0m                                 Traceback (most recent call last)",
      "\u001b[0;32m<ipython-input-2-3677c23ffcba>\u001b[0m in \u001b[0;36m<module>\u001b[0;34m\u001b[0m\n\u001b[1;32m      1\u001b[0m \u001b[0;31m# take a list of sentiment analysis of all the sentences that have the stock name\u001b[0m\u001b[0;34m\u001b[0m\u001b[0;34m\u001b[0m\u001b[0;34m\u001b[0m\u001b[0m\n\u001b[1;32m      2\u001b[0m \u001b[0msentiments\u001b[0m \u001b[0;34m=\u001b[0m \u001b[0;34m[\u001b[0m\u001b[0;34m]\u001b[0m\u001b[0;34m\u001b[0m\u001b[0;34m\u001b[0m\u001b[0m\n\u001b[0;32m----> 3\u001b[0;31m \u001b[0;32mfor\u001b[0m \u001b[0marticle\u001b[0m \u001b[0;32min\u001b[0m \u001b[0mresults\u001b[0m\u001b[0;34m[\u001b[0m\u001b[0;36m2\u001b[0m\u001b[0;34m]\u001b[0m\u001b[0;34m:\u001b[0m\u001b[0;34m\u001b[0m\u001b[0;34m\u001b[0m\u001b[0m\n\u001b[0m\u001b[1;32m      4\u001b[0m     \u001b[0mper_article\u001b[0m \u001b[0;34m=\u001b[0m \u001b[0;34m[\u001b[0m\u001b[0;34m]\u001b[0m\u001b[0;34m\u001b[0m\u001b[0;34m\u001b[0m\u001b[0m\n\u001b[1;32m      5\u001b[0m     \u001b[0;32mfor\u001b[0m \u001b[0mparagraph\u001b[0m \u001b[0;32min\u001b[0m \u001b[0marticle\u001b[0m\u001b[0;34m:\u001b[0m\u001b[0;34m\u001b[0m\u001b[0;34m\u001b[0m\u001b[0m\n",
      "\u001b[0;31mNameError\u001b[0m: name 'results' is not defined"
     ]
    }
   ],
   "source": [
    "# take a list of sentiment analysis of all the sentences that have the stock name\n",
    "sentiments = []\n",
    "for article in results[2]:\n",
    "    per_article = []\n",
    "    for paragraph in article:\n",
    "        if paragraph:\n",
    "            per_article.append(predict(paragraph,model))\n",
    "    sentiments.append(per_article)"
   ]
  },
  {
   "cell_type": "code",
   "execution_count": 87,
   "metadata": {},
   "outputs": [
    {
     "data": {
      "text/html": [
       "<div>\n",
       "<style scoped>\n",
       "    .dataframe tbody tr th:only-of-type {\n",
       "        vertical-align: middle;\n",
       "    }\n",
       "\n",
       "    .dataframe tbody tr th {\n",
       "        vertical-align: top;\n",
       "    }\n",
       "\n",
       "    .dataframe thead th {\n",
       "        text-align: right;\n",
       "    }\n",
       "</style>\n",
       "<table border=\"1\" class=\"dataframe\">\n",
       "  <thead>\n",
       "    <tr style=\"text-align: right;\">\n",
       "      <th></th>\n",
       "      <th>sentence</th>\n",
       "      <th>logit</th>\n",
       "      <th>prediction</th>\n",
       "      <th>sentiment_score</th>\n",
       "    </tr>\n",
       "  </thead>\n",
       "  <tbody>\n",
       "    <tr>\n",
       "      <th>0</th>\n",
       "      <td>Egypt has tapped Emirates NBD and First Abu Dh...</td>\n",
       "      <td>[0.29286325, 0.2198136, 0.48732308]</td>\n",
       "      <td>neutral</td>\n",
       "      <td>0.07305</td>\n",
       "    </tr>\n",
       "  </tbody>\n",
       "</table>\n",
       "</div>"
      ],
      "text/plain": [
       "                                            sentence  \\\n",
       "0  Egypt has tapped Emirates NBD and First Abu Dh...   \n",
       "\n",
       "                                 logit prediction  sentiment_score  \n",
       "0  [0.29286325, 0.2198136, 0.48732308]    neutral          0.07305  "
      ]
     },
     "execution_count": 87,
     "metadata": {},
     "output_type": "execute_result"
    }
   ],
   "source": [
    "sentiments[0][0]"
   ]
  },
  {
   "cell_type": "code",
   "execution_count": 86,
   "metadata": {},
   "outputs": [
    {
     "data": {
      "text/plain": [
       "'06/17/2020'"
      ]
     },
     "execution_count": 86,
     "metadata": {},
     "output_type": "execute_result"
    }
   ],
   "source": [
    "results[0][0].date"
   ]
  }
 ],
 "metadata": {
  "kernelspec": {
   "display_name": "Python 3",
   "language": "python",
   "name": "python3"
  },
  "language_info": {
   "codemirror_mode": {
    "name": "ipython",
    "version": 3
   },
   "file_extension": ".py",
   "mimetype": "text/x-python",
   "name": "python",
   "nbconvert_exporter": "python",
   "pygments_lexer": "ipython3",
   "version": "3.8.5"
  }
 },
 "nbformat": 4,
 "nbformat_minor": 4
}
