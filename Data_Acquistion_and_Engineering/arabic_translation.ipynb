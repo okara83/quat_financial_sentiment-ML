{
 "cells": [
  {
   "cell_type": "code",
   "execution_count": 2,
   "metadata": {},
   "outputs": [],
   "source": [
    "from googletrans import Translator\n",
    "translator = Translator()"
   ]
  },
  {
   "cell_type": "markdown",
   "metadata": {},
   "source": [
    "The following 2 article contain the entity of interest (First Abu Dhabi Bank) however the text is in arabic...<br>\n",
    "Compant of interest is:<br>  $$\\text{ بنك أبوظبي الأول  }=   \\text{First Abu Dhabi Bank}$$"
   ]
  },
  {
   "cell_type": "code",
   "execution_count": 9,
   "metadata": {},
   "outputs": [
    {
     "name": "stdout",
     "output_type": "stream",
     "text": [
      "Translated(src=ar, dest=en, text=The Dubai Stock Exchange fell by 2% to 2,500 points, towards its lowest level in more than five years, with the violent decline of real estate and banking stocks, and the Abu Dhabi Stock Exchange followed in losses. The market shares fell collectively and sharply, out of the 37 companies whose shares were traded on Monday, the shares of 28 companies declined. Union Properties' shares plunged by a maximum of 10%, to be traded at their lowest levels in more than five years, while Emaar Properties fell 4.6%, recording its lowest close in more than five years as well. The Abu Dhabi Stock Exchange fell 1% to 4,789 points, under pressure from bank shares' losses. Shares of First Abu Dhabi Bank - the heavyweight in the stock market - declined 0.9%, after the departure of the head of shares in the bank’s asset management group, Reuters reported, citing two informed sources. Abu Dhabi Islamic Bank fell 3.8%. The bank’s Egyptian unit (Abu Dhabi Islamic Bank in Egypt) said on Sunday that it expects its profits for 2019 to drop by up to 85 due to tax changes in Egypt. Dana Gas fell by 7.5%, and Aldar Properties fell by 3%. The Saudi Stock Exchange - the largest in the Arab world - also fell, with its main index \"constituent\" declining by 0.3% to 7819 points, under pressure from a decline in leading shares in the banking and petrochemical sector. Announcement, the share of Riyad Bank fell 2.3%, while the share of the Saudi Basic Industries Corporation (SABIC) fell 0.7., pronunciation=[[]], extra_data=\"{'translat...\")\n"
     ]
    }
   ],
   "source": [
    "sentence ='انخفضت بورصة دبي بنحو 2% إلى 2500 نقطة صوب أدنى مستوياتها في أكثر من خمس سنوات مع هبوط عنيف لأسهم العقارات والبنوك، وتبعتها في الخسائر بورصة أبوظبي. وتراجعت أسهم السوق بشكل جماعي وحاد، فمن أصل 37 شركة تم تداول أسهمها الاثنين انحفضت أسهم 28 شركة. وهوى سهم الاتحاد العقارية بنسبة قصوى 10%، ليتم تداوله عند أدنى مستوياته في أكثر من خمس سنوات، بينما تراجع سهم إعمار العقارية 4.6%، مسجلا أدنى إغلاق له فيما يزيد عن خمسة أعوام أيضا. ونزلت بورصة أبوظبي 1% إلى 4789 نقطة تحت ضغط خسائر أسهم البنوك. وتراجع سهم بنك أبوظبي الأول -ذو الثقل في البورصة– 0.9%، بعد رحيل رئيس الأسهم بمجموعة إدارة أصول البنك، حسب ما أوردته رويترز نقلا عن مصدرين مطلعين. وانخفض سهم مصرف أبوظبي الإسلامي 3.8%. وقالت الوحدة المصرية للبنك (مصرف أبوظبي الإسلامي بمصر) أمس الأحد إنها تتوقع هبوط أرباحها لعام 2019 بما يصل إلى 85 نظرا لتغييرات ضريبية في مصر. وتراجع سهم دانة غاز بنسبة 7.5%، كما انخفض سهم الدار العقارية بنحو 3%. كما تراجعت بورصة السعودية -الكبرى في العالم العربي- مع انخفاض مؤشرها الرئيس \"تأسي\" بنسبة 0.3% إلى 7819 نقطة، بضغط هبوط أسهم قيادية في قطاع المصارف والبتروكيماويات. اعلان وانخفض سهم بنك الرياض 2.3%، في حين هبط سهم الشركة السعودية للصناعات الأساسية (سابك) 0.7.'\n",
    "translation=translator.translate(sentence, dest='en')\n",
    "print(translation)"
   ]
  },
  {
   "cell_type": "code",
   "execution_count": 8,
   "metadata": {},
   "outputs": [
    {
     "name": "stdout",
     "output_type": "stream",
     "text": [
      "The Dubai Stock Exchange fell by 2% to 2,500 points, towards its lowest level in more than five years, with the violent decline of real estate and banking stocks, and the Abu Dhabi Stock Exchange followed in losses. The market shares fell collectively and sharply, out of the 37 companies whose shares were traded on Monday, the shares of 28 companies declined. Union Properties' shares plunged by a maximum of 10%, to be traded at their lowest levels in more than five years, while Emaar Properties fell 4.6%, recording its lowest close in more than five years as well. The Abu Dhabi Stock Exchange fell 1% to 4,789 points, under pressure from bank shares' losses. Shares of First Abu Dhabi Bank - the heavyweight in the stock market - declined 0.9%, after the departure of the head of shares in the bank’s asset management group, Reuters reported, citing two informed sources. Abu Dhabi Islamic Bank fell 3.8%. The bank’s Egyptian unit (Abu Dhabi Islamic Bank in Egypt) said on Sunday that it expects its profits for 2019 to drop by up to 85 due to tax changes in Egypt. Dana Gas fell by 7.5%, and Aldar Properties fell by 3%. The Saudi Stock Exchange - the largest in the Arab world - also fell, with its main index \"constituent\" declining by 0.3% to 7819 points, under pressure from a decline in leading shares in the banking and petrochemical sector. Announcement, the share of Riyad Bank fell 2.3%, while the share of the Saudi Basic Industries Corporation (SABIC) fell 0.7.\n"
     ]
    }
   ],
   "source": [
    "translation= translation.text\n",
    "print(translation)"
   ]
  },
  {
   "cell_type": "markdown",
   "metadata": {},
   "source": [
    "We see we've translated the text such that we preserved the company name, but is this translated text usable remains to be seen and may not work"
   ]
  },
  {
   "cell_type": "code",
   "execution_count": 12,
   "metadata": {},
   "outputs": [],
   "source": [
    "sentence2='هبط مؤشر سوق دبي 1.5% الثلاثاء بسبب القلق من توترات تجارية بين الولايات المتحدة والصين امتدت تداعياتها إلى الأسواق الناشئة. وهبط المؤشر العام لسوق أبوظبي 0.6% مع تراجع سهم بنك أبوظبي الأول أكبر مصرف في الإمارات 8%، وألحق ضعف أسعار النفط ضررا بأسهم شركات الطاقة، منها أبوظبي الوطنية للطاقة التي انخفض سهمها 4.1%. وضغطت أسهم العقارات والبنوك على مؤشر دبي، مع انخفاض سهم \"إعمار العقارية\"، أكبر شركة تطوير عقاري مدرجة في الإمارة، 5.2%. وضغط القطاع العقاري في دبي على بورصة الإمارة هذا العام، مع توقع محللين بأن تشهد أسعار العقارات الضعيفة مزيدا من الهبوط بسبب زيادة المعروض. وتراجع سهما بنك دبي الإسلامي وبنك الإمارات دبي الوطني 0.8% و1% بالترتيب. وتراجعت الأسهم الآسيوية لأدنى مستوياتها في أربعة أشهر مع هبوط الأسهم الصينية بنحو 4%، في ظل إعلان وزارة التجارة الصينية أنها ستتخذ إجراءات قوية إذا فرضت واشنطن رسوما إضافية على الصادرات الصينية إلى الولايات المتحدة، وذلك عقب تهديد أميركي بفرض رسوم جديدة على منتجات صينية بقيمة 200 مليار دولار.'"
   ]
  },
  {
   "cell_type": "code",
   "execution_count": 13,
   "metadata": {},
   "outputs": [
    {
     "name": "stdout",
     "output_type": "stream",
     "text": [
      "The Dubai Stock Exchange fell by 2% to 2,500 points, towards its lowest level in more than five years, with the violent decline of real estate and banking stocks, and the Abu Dhabi Stock Exchange followed in losses. The market shares fell collectively and sharply, out of the 37 companies whose shares were traded on Monday, the shares of 28 companies declined. Union Properties' shares plunged by a maximum of 10%, to be traded at their lowest levels in more than five years, while Emaar Properties fell 4.6%, recording its lowest close in more than five years as well. The Abu Dhabi Stock Exchange fell 1% to 4,789 points, under pressure from bank shares' losses. Shares of First Abu Dhabi Bank - the heavyweight in the stock market - declined 0.9%, after the departure of the head of shares in the bank’s asset management group, Reuters reported, citing two informed sources. Abu Dhabi Islamic Bank fell 3.8%. The bank’s Egyptian unit (Abu Dhabi Islamic Bank in Egypt) said on Sunday that it expects its profits for 2019 to drop by up to 85 due to tax changes in Egypt. Dana Gas fell by 7.5%, and Aldar Properties fell by 3%. The Saudi Stock Exchange - the largest in the Arab world - also fell, with its main index \"constituent\" declining by 0.3% to 7819 points, under pressure from a decline in leading shares in the banking and petrochemical sector. Announcement, the share of Riyad Bank fell 2.3%, while the share of the Saudi Basic Industries Corporation (SABIC) fell 0.7.\n"
     ]
    }
   ],
   "source": [
    "sentence ='انخفضت بورصة دبي بنحو 2% إلى 2500 نقطة صوب أدنى مستوياتها في أكثر من خمس سنوات مع هبوط عنيف لأسهم العقارات والبنوك، وتبعتها في الخسائر بورصة أبوظبي. وتراجعت أسهم السوق بشكل جماعي وحاد، فمن أصل 37 شركة تم تداول أسهمها الاثنين انحفضت أسهم 28 شركة. وهوى سهم الاتحاد العقارية بنسبة قصوى 10%، ليتم تداوله عند أدنى مستوياته في أكثر من خمس سنوات، بينما تراجع سهم إعمار العقارية 4.6%، مسجلا أدنى إغلاق له فيما يزيد عن خمسة أعوام أيضا. ونزلت بورصة أبوظبي 1% إلى 4789 نقطة تحت ضغط خسائر أسهم البنوك. وتراجع سهم بنك أبوظبي الأول -ذو الثقل في البورصة– 0.9%، بعد رحيل رئيس الأسهم بمجموعة إدارة أصول البنك، حسب ما أوردته رويترز نقلا عن مصدرين مطلعين. وانخفض سهم مصرف أبوظبي الإسلامي 3.8%. وقالت الوحدة المصرية للبنك (مصرف أبوظبي الإسلامي بمصر) أمس الأحد إنها تتوقع هبوط أرباحها لعام 2019 بما يصل إلى 85 نظرا لتغييرات ضريبية في مصر. وتراجع سهم دانة غاز بنسبة 7.5%، كما انخفض سهم الدار العقارية بنحو 3%. كما تراجعت بورصة السعودية -الكبرى في العالم العربي- مع انخفاض مؤشرها الرئيس \"تأسي\" بنسبة 0.3% إلى 7819 نقطة، بضغط هبوط أسهم قيادية في قطاع المصارف والبتروكيماويات. اعلان وانخفض سهم بنك الرياض 2.3%، في حين هبط سهم الشركة السعودية للصناعات الأساسية (سابك) 0.7.'\n",
    "translation=translator.translate(sentence, dest='en').text\n",
    "print(translation)"
   ]
  },
  {
   "cell_type": "markdown",
   "metadata": {},
   "source": [
    "We again see the text containing the company name is preserved. Whether or not the english translation can be fed into a model trained on english data is yet to be determined"
   ]
  },
  {
   "cell_type": "code",
   "execution_count": 14,
   "metadata": {},
   "outputs": [],
   "source": [
    "sent='بنك أبوظبي الأول'"
   ]
  },
  {
   "cell_type": "code",
   "execution_count": 16,
   "metadata": {},
   "outputs": [
    {
     "name": "stdout",
     "output_type": "stream",
     "text": [
      "First Abu Dhabi Bank\n"
     ]
    }
   ],
   "source": [
    "translation=translator.translate(sent, dest='en').text\n",
    "print(translation)"
   ]
  },
  {
   "cell_type": "code",
   "execution_count": null,
   "metadata": {},
   "outputs": [],
   "source": []
  }
 ],
 "metadata": {
  "kernelspec": {
   "display_name": "Python 3",
   "language": "python",
   "name": "python3"
  },
  "language_info": {
   "codemirror_mode": {
    "name": "ipython",
    "version": 3
   },
   "file_extension": ".py",
   "mimetype": "text/x-python",
   "name": "python",
   "nbconvert_exporter": "python",
   "pygments_lexer": "ipython3",
   "version": "3.8.5"
  }
 },
 "nbformat": 4,
 "nbformat_minor": 4
}
