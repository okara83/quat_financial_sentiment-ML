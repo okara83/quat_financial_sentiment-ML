{
 "cells": [
  {
   "cell_type": "code",
   "execution_count": 1,
   "metadata": {},
   "outputs": [],
   "source": [
    "import os\n",
    "import time\n",
    "from datetime import datetime\n",
    "from selenium import webdriver\n",
    "from bs4 import BeautifulSoup\n",
    "import re"
   ]
  },
  {
   "cell_type": "code",
   "execution_count": 15,
   "metadata": {},
   "outputs": [],
   "source": [
    "alias = [\"First Abu Dhabi Bank\", \"NBAD\", \"FAB\", \"Bank of Abu Dhabi First\", \"بنك أبوظبي الأول\", \"Abu Dhabi First\", \"و أ ب\"]"
   ]
  },
  {
   "cell_type": "markdown",
   "metadata": {},
   "source": [
    "### alarabiya"
   ]
  },
  {
   "cell_type": "code",
   "execution_count": 157,
   "metadata": {},
   "outputs": [],
   "source": [
    "import time\n",
    "#scroll down the page\n",
    "driver=webdriver.Chrome()\n",
    "driver.get('https://www.alarabiya.net/ar/tools/search?query=%D8%A8%D9%86%D9%83+%D8%A3%D8%A8%D9%88%D8%B8%D8%A8%D9%8A+%D8%A7%D9%84%D8%A3%D9%88%D9%84#')\n",
    "# Get scroll height\n",
    "last_height = driver.execute_script(\"return document.body.scrollHeight\")\n",
    "\n",
    "while True:\n",
    "     # Scroll down to bottom\n",
    "    driver.execute_script(\"window.scrollTo(0, document.body.scrollHeight);\")\n",
    "\n",
    "    # Wait to load page\n",
    "    time.sleep(4)\n",
    "\n",
    "    # Calculate new scroll height and compare with last scroll height\n",
    "    new_height = driver.execute_script(\"return document.body.scrollHeight\")\n",
    "    if new_height == last_height:\n",
    "        # If heights are the same it will exit the function\n",
    "        break\n",
    "    last_height = new_height"
   ]
  },
  {
   "cell_type": "code",
   "execution_count": 158,
   "metadata": {},
   "outputs": [],
   "source": [
    "html = driver.page_source\n",
    "soup = BeautifulSoup(html)\n",
    "ala_link=[]\n",
    "re_ala_link=[]\n",
    "link=soup.find_all('a',{'class':'article-card'})\n",
    "for i in link:\n",
    "    ala_link.append(i.attrs['href'])\n",
    "\n",
    "re_link=[]\n",
    "for i in ala_link:\n",
    "    m=re.sub('https.*?/archive.html','',i,re.DOTALL)\n",
    "    if len(m)>25:\n",
    "        re_link.append(m) \n",
    "    "
   ]
  },
  {
   "cell_type": "code",
   "execution_count": 159,
   "metadata": {},
   "outputs": [
    {
     "data": {
      "text/plain": [
       "100"
      ]
     },
     "execution_count": 159,
     "metadata": {},
     "output_type": "execute_result"
    }
   ],
   "source": [
    "len(ala_link)"
   ]
  },
  {
   "cell_type": "code",
   "execution_count": 160,
   "metadata": {},
   "outputs": [
    {
     "data": {
      "text/plain": [
       "92"
      ]
     },
     "execution_count": 160,
     "metadata": {},
     "output_type": "execute_result"
    }
   ],
   "source": [
    "len(re_link)"
   ]
  },
  {
   "cell_type": "code",
   "execution_count": 164,
   "metadata": {},
   "outputs": [],
   "source": [
    "for i in re_link:\n",
    "    if i=='https://www.alarabiya.net/pdfServlet/pdf/1d32047e-af0c-47c8-8f84-540410e6a49d':\n",
    "        re_link.remove(i)"
   ]
  },
  {
   "cell_type": "code",
   "execution_count": 165,
   "metadata": {},
   "outputs": [
    {
     "data": {
      "text/plain": [
       "91"
      ]
     },
     "execution_count": 165,
     "metadata": {},
     "output_type": "execute_result"
    }
   ],
   "source": [
    "len(re_link)"
   ]
  },
  {
   "cell_type": "code",
   "execution_count": 166,
   "metadata": {},
   "outputs": [],
   "source": [
    "ala=[]\n",
    "for i in re_link:\n",
    "    url=i\n",
    "    driver.get(url)\n",
    "    html = driver.page_source\n",
    "    soup = BeautifulSoup(html)\n",
    "###find the article publicaiton date and restrain it within one year### (09/06/2020)    \n",
    "    time=soup.find('meta', property=\"article:published_time\")['content'].split('T')[0]\n",
    "    pub_time=datetime.strptime(time,'%Y-%m-%d')\n",
    "    publication_time=datetime.date(pub_time)\n",
    "    today_date=datetime.today()\n",
    "    if (today_date-pub_time).days <365:\n",
    "        content=soup.find('div',{'id':'body-text'})\n",
    "        article_content=''.join([i.text for i in content.find_all('p')])\n",
    "    ###Extract the text and verify the text contains alias###\n",
    "        for i in alias:\n",
    "            if i.lower() in article_content.lower():\n",
    "                title=soup.find('meta',property=\"og:title\")['content']\n",
    "                page_content={\"Title\": title,\n",
    "                          \"Date\": publication_time.strftime('%d-%b-%Y'),\n",
    "                          \"URL\": url,\n",
    "                       \"Article_content\": article_content}\n",
    "                if page_content in ala:\n",
    "                    continue\n",
    "                else:\n",
    "                    ala.append(page_content)           \n",
    "            "
   ]
  },
  {
   "cell_type": "code",
   "execution_count": 167,
   "metadata": {},
   "outputs": [
    {
     "data": {
      "text/plain": [
       "43"
      ]
     },
     "execution_count": 167,
     "metadata": {},
     "output_type": "execute_result"
    }
   ],
   "source": [
    "len(ala)"
   ]
  },
  {
   "cell_type": "code",
   "execution_count": 168,
   "metadata": {},
   "outputs": [
    {
     "data": {
      "text/plain": [
       "[{'Title': ' تراجع أرباح بنك أبوظبي الأول الفصلية 25%',\n",
       "  'Date': '28-Jul-2020',\n",
       "  'URL': 'https://www.alarabiya.net/ar/aswaq/banks/2020/07/28/%D8%A3%D8%B1%D8%A8%D8%A7%D8%AD-%D8%A8%D9%86%D9%83-%D8%A3%D8%A8%D9%88%D8%B8%D8%A8%D9%8A-%D8%A7%D9%84%D8%A3%D9%88%D9%84-%D8%A7%D9%84%D9%81%D8%B5%D9%84%D9%8A%D8%A9-%D8%AA%D9%86%D8%AE%D9%81%D8%B6-25-',\n",
       "  'Article_content': 'أعلن بنك أبوظبي الأول، أكبر بنك في الإمارات العربية المتحدة، اليوم الثلاثاء انخفاضا بنسبة 25% في الربع الثاني من العام متأثرا بارتفاع فصلي آخر لمخصصات انخفاض القيمة.وتتضرر البنوك في المنطقة بفعل صدمة مزدوجة تتمثل في جائحة فيروس كورونا ونزول أسعار النفط، وشهدت أرباح معظمها هبوطا في الربع الثاني مع قيامها بتجنيب مخصصات أكبر لخسائر ائتمان متوقعة.وبلغ صافي ربح البنك في الربع الثاني 2.41 مليار درهم (656 مليون دولار) مقابل 3.22 مليار درهم في الفترة نفسها من العام الماضي. واستقر صافي الربح مقارنة بالربع الأول.وقفز صافي مخصصات انخفاض القيمة 127% في الربع الثاني إلى 1.06 مليار درهم من 467 مليون درهم قبل عام. وكان صافي مخصصات انخفاض القيمة في الربع الأول 738 مليون درهم، مرتفعا 81% على أساس سنوي.وقال جيمس بورديت المدير المالي لمجموعة بنك أبوظبي الأول في بيان \"في ظل مناخ صعب وضبابي، نواصل بناء مصداتنا الاحتياطية، وهو ما يؤدي إلى زيادة كبيرة في مخصصات انخفاض القيمة.\"وارتفعت تكلفة المخاطر للبنك إلى 108 نقاط أساس من 70 نقطة أساس في الربع الأول ومن 49 نقطة أساس قبل عام.وتراجع معدل كفاية رأس المال بشكل طفيف إلى 16.4% من 16.9% قبل عام. وارتفع معدل القروض المتعثرة إلى 3.9% من 3.5% في الربع الأول ومن 3.1% قبل عام.وقال البنك في البيان إنه قدم للعملاء في الربع الثاني تدابير تيسيرية في صورة تأجيل مدفوعات فوائد وسيولة بأكثر من ثمانية مليارات درهم.'},\n",
       " {'Title': '\"أبوظبي الأول\" يعرض \"شانغريلا\" الجابر في مزاد',\n",
       "  'Date': '11-Jan-2020',\n",
       "  'URL': 'https://www.alarabiya.net/ar/aswaq/banks/2020/01/11/-%D8%A3%D8%A8%D9%88%D8%B8%D8%A8%D9%8A-%D8%A7%D9%84%D8%A3%D9%88%D9%84-%D9%8A%D8%B9%D8%B1%D8%B6-%D8%B4%D8%A7%D9%86%D8%BA%D8%B1%D9%8A%D9%84%D8%A7-%D8%A7%D9%84%D8%AC%D8%A7%D8%A8%D8%B1-%D9%81%D9%8A-%D9%85%D8%B2%D8%A7%D8%AF',\n",
       "  'Article_content': 'نقلت وكالة \"رويترز\" للأنباء عن مصادر مطلعة قولها، إن بنك أبوظبي الأول بدأ عملية عرض فندق بدبي في مزاد علني يوم 15 يناير تديره شركة \"شانغريلا\" وتعود ملكيته لمجموعة الجابر للإنشاءات.وذكرت الوكالة أن السعر المعروض سيبدأ من 700 مليون درهم (190.59 مليون دولار).وأوضحت المصادر أن المزاد الذي أطلقه بنك أبوظبي الأول، وهو المقرض الرئيسي لفندق شانغريلا، يمثل خطوة أولى من جانب الدائنين لاسترداد أموالهم من مجموعة الجابر.تأتي هذه الخطوة بعد تأجيل اتفاق إعادة هيكلة ديون بقيمة 5.9 مليار دولار العام الماضي.'},\n",
       " {'Title': 'ما هي خصائص صفقة بنك أبوظبي الأول؟',\n",
       "  'Date': '18-Dec-2019',\n",
       "  'URL': 'https://www.alarabiya.net/ar/aswaq/videos/2019/12/18/%D9%85%D8%A7%D9%87%D9%8A-',\n",
       "  'Article_content': 'قال وليد الخطيب مدير شريك في جلوبال لتداول الأسهم والسندات \"الصفقة الخاصة على أسهم FAB بقيمة 4.8 مليار درهم تأتي عن طريق عمليات نقل ملكيات بين المؤسسات وكونها تمت خلال الجلسة هو على الأغلب غير مرتبط بمؤشرات أو إعادة أوزان لمؤشر الأسواق الناشئة لأنه عادة ما تتم هذه الصفقات بنهاية الجلسة. لذلك هي عملية نقل ملكيات قد يكون مرتبط برهونات معينة وليس بالضرورة متعلق بالعمليات التشغيلية للبنك\".  '}]"
      ]
     },
     "execution_count": 168,
     "metadata": {},
     "output_type": "execute_result"
    }
   ],
   "source": [
    "ala[:3]"
   ]
  },
  {
   "cell_type": "markdown",
   "metadata": {},
   "source": [
    "### albayan"
   ]
  },
  {
   "cell_type": "code",
   "execution_count": 172,
   "metadata": {},
   "outputs": [],
   "source": [
    "alba=[]\n",
    "for i in range(19):\n",
    "    url='https://www.albayan.ae/search-7.3262750?t=b&q=%D8%A8%D9%86%D9%83+%D8%A3%D8%A8%D9%88%D8%B8%D8%A8%D9%8A+%D8%A7%D9%84%D8%A3%D9%88%D9%84&s=d&p='+str(i)\n",
    "    driver.get(url)\n",
    "    html = driver.page_source\n",
    "    soup = BeautifulSoup(html)\n",
    "    part=soup.find_all('h3')\n",
    "    for i in part:\n",
    "        link='https://www.albayan.ae/'+i.find('a')['href']\n",
    "        alba.append(link)"
   ]
  },
  {
   "cell_type": "code",
   "execution_count": 173,
   "metadata": {},
   "outputs": [
    {
     "data": {
      "text/plain": [
       "589"
      ]
     },
     "execution_count": 173,
     "metadata": {},
     "output_type": "execute_result"
    }
   ],
   "source": [
    "len(alba)"
   ]
  },
  {
   "cell_type": "code",
   "execution_count": 180,
   "metadata": {},
   "outputs": [
    {
     "data": {
      "text/plain": [
       "['https://www.albayan.ae//one-world/overseas/2020-09-07-1.3954302',\n",
       " 'https://www.albayan.ae//one-world/overseas/2020-09-07-1.3954320',\n",
       " 'https://www.albayan.ae//one-world/overseas/2020-09-07-1.3954318']"
      ]
     },
     "execution_count": 180,
     "metadata": {},
     "output_type": "execute_result"
    }
   ],
   "source": [
    "alba[:3]"
   ]
  },
  {
   "cell_type": "code",
   "execution_count": 177,
   "metadata": {},
   "outputs": [],
   "source": [
    "alb_output=[]\n",
    "for i in alba:\n",
    "    url=i\n",
    "    driver.get(url)\n",
    "    html = driver.page_source\n",
    "    soup = BeautifulSoup(html)\n",
    "###find the article publicaiton date and restrain it within one year### (09/06/2020)    \n",
    "    time=soup.find('meta', property=\"article:published_time\")['content'].split('T')[0]\n",
    "    pub_time=datetime.strptime(time,'%Y-%m-%d')\n",
    "    publication_time=datetime.date(pub_time)\n",
    "    today_date=datetime.today()\n",
    "    if (today_date-pub_time).days <365:\n",
    "        content=soup.find('div',{'id':'articledetails'})\n",
    "        article_content=''.join([i.text for i in content.findChildren('p')])\n",
    "    ###Extract the text and verify the text contains alias###\n",
    "        for i in alias:\n",
    "            if i.lower() in article_content.lower():\n",
    "                title=soup.find('meta',property=\"og:title\")['content']\n",
    "                page_content={\"Title\": title,\n",
    "                          \"Date\": publication_time.strftime('%d-%b-%Y'),\n",
    "                          \"URL\": url,\n",
    "                       \"Article_content\": article_content}\n",
    "                if page_content in alb_output:\n",
    "                    continue\n",
    "                else:\n",
    "                    alb_output.append(page_content)    "
   ]
  },
  {
   "cell_type": "code",
   "execution_count": 179,
   "metadata": {},
   "outputs": [
    {
     "data": {
      "text/plain": [
       "[]"
      ]
     },
     "execution_count": 179,
     "metadata": {},
     "output_type": "execute_result"
    }
   ],
   "source": [
    "alb_output"
   ]
  },
  {
   "cell_type": "code",
   "execution_count": 175,
   "metadata": {},
   "outputs": [
    {
     "data": {
      "text/plain": [
       "'أعلن بنك أبوظبي الأول تعيين آلان ماركوس رئيساً لإدارة استراتيجيات الاستثمار وإدارة الاستثمار للخدمات المصرفية للأفراد. وسيتولى مسؤولية الإشراف على الإطار الكلي للاستثمار لعملاء بنك أبوظبي الأول، إلى جانب تحديد رؤية واستراتيجية الاستثمار الموصى بها من قبل البنك. وانضم ماركوس للعمل في البنك عام 2015.\\n\\n تابعوا البيان الاقتصادي عبر غوغل نيوز \\n'"
      ]
     },
     "execution_count": 175,
     "metadata": {},
     "output_type": "execute_result"
    }
   ],
   "source": [
    "article_content"
   ]
  },
  {
   "cell_type": "code",
   "execution_count": 181,
   "metadata": {},
   "outputs": [],
   "source": [
    "url='https://www.albayan.ae//one-world/overseas/2020-09-07-1.3954302'\n",
    "driver.get(url)\n",
    "html = driver.page_source\n",
    "soup = BeautifulSoup(html)\n",
    "content=soup.find('div',{'id':'articledetails'})\n",
    "article_content=''.join([i.text for i in content.findChildren('p')])"
   ]
  },
  {
   "cell_type": "code",
   "execution_count": 182,
   "metadata": {},
   "outputs": [
    {
     "data": {
      "text/plain": [
       "'سجلت الهند أكثر من 90 ألف إصابة جديدة بفيروس كورونا، أمس\\xa0الأحد، في أكبر زيادة يومية على مستوى العالم.وأظهرت بيانات وزارة الصحة والرعاية الأسرية، تسجيل 90632 إصابة جديدة خلال الـ 24 ساعة الماضية، فيما ارتفع عدد الوفيات بواقع 1065 إلى 70626.ومن المتوقع أن تتجاوز الهند البرازيل، غداً الاثنين، كثاني أكبر دولة من حيث عدد الإصابات، بعد الولايات المتحدة، التي سجلت 6.4 مليون إصابة ونحو 193 ألف وفاة.وأظهرت بيانات حكومية أن حالات الإصابة بفيروس كورونا في الهند وصلت إلى 4.1 مليون، وتعافى حوالي 3.2 مليون مصاب حتى الآن.وقال خبراء طبيون إن البلاد تشهد موجة ثانية من الجائحة في بعض مناطقها، وإن عدد الحالات ارتفع بسبب زيادة الاختبارات وتخفيف القيود على الحركة العامة.وستعاود الحكومة تشغيل خدمات قطارات المترو على نحو جزئي في العاصمة نيودلهي اعتبارا من اليوم الاثنين، بحسب \"روسيا اليوم\".\\n\\n تابعوا أخبار العالم من البيان عبر غوغل نيوز \\n'"
      ]
     },
     "execution_count": 182,
     "metadata": {},
     "output_type": "execute_result"
    }
   ],
   "source": [
    "article_content"
   ]
  },
  {
   "cell_type": "code",
   "execution_count": null,
   "metadata": {},
   "outputs": [],
   "source": []
  }
 ],
 "metadata": {
  "kernelspec": {
   "display_name": "Python 3",
   "language": "python",
   "name": "python3"
  },
  "language_info": {
   "codemirror_mode": {
    "name": "ipython",
    "version": 3
   },
   "file_extension": ".py",
   "mimetype": "text/x-python",
   "name": "python",
   "nbconvert_exporter": "python",
   "pygments_lexer": "ipython3",
   "version": "3.7.3"
  }
 },
 "nbformat": 4,
 "nbformat_minor": 2
}
